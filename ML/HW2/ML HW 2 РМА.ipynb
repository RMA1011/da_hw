{
 "cells": [
  {
   "cell_type": "code",
   "execution_count": 55,
   "metadata": {},
   "outputs": [],
   "source": [
    "# !pip install prophet"
   ]
  },
  {
   "cell_type": "code",
   "execution_count": 68,
   "metadata": {},
   "outputs": [],
   "source": [
    "import pandas as pd\n",
    "import numpy as np\n",
    "from sklearn.model_selection import train_test_split, GridSearchCV\n",
    "from sklearn.linear_model import LinearRegression\n",
    "from sklearn.metrics import mean_squared_error\n",
    "from math import sqrt\n",
    "from statsmodels.tsa.seasonal import seasonal_decompose\n",
    "import matplotlib.pyplot as plt\n",
    "from sklearn.ensemble import RandomForestRegressor\n",
    "from prophet import Prophet\n"
   ]
  },
  {
   "cell_type": "code",
   "execution_count": 69,
   "metadata": {},
   "outputs": [],
   "source": [
    "## Импортируем данные\n",
    "\n",
    "quotes = pd.read_csv(\n",
    "    r'C:\\Users\\mikha\\Desktop\\Учёба DAS\\ML\\Занятие 2\\GAZP_210801_220806.txt', engine = 'python',\n",
    "sep = ',',\n",
    "header = 0, \n",
    "names = [\n",
    "     'TICKER',\n",
    "     'PER',\n",
    "     'DATE',\n",
    "     'TIME',\n",
    "     'OPEN',\n",
    "     'HIGH',\n",
    "     'LOW',\n",
    "     'CLOSE',\n",
    "     'VOL'],\n",
    "parse_dates = ['DATE'],\n",
    "index_col = False)\n"
   ]
  },
  {
   "cell_type": "code",
   "execution_count": 79,
   "metadata": {},
   "outputs": [],
   "source": [
    "quotes = pd.read_table(r'C:\\Users\\mikha\\Desktop\\Учёба DAS\\ML\\Занятие 2\\GAZP_210801_220806.txt', header = 0, sep = ',')"
   ]
  },
  {
   "cell_type": "code",
   "execution_count": 80,
   "metadata": {},
   "outputs": [
    {
     "ename": "AttributeError",
     "evalue": "'NoneType' object has no attribute 'items'",
     "output_type": "error",
     "traceback": [
      "\u001b[1;31m---------------------------------------------------------------------------\u001b[0m",
      "\u001b[1;31mAttributeError\u001b[0m                            Traceback (most recent call last)",
      "File \u001b[1;32mc:\\Users\\mikha\\AppData\\Local\\Programs\\Python\\Python38\\lib\\site-packages\\IPython\\core\\formatters.py:343\u001b[0m, in \u001b[0;36mBaseFormatter.__call__\u001b[1;34m(self, obj)\u001b[0m\n\u001b[0;32m    341\u001b[0m     method \u001b[39m=\u001b[39m get_real_method(obj, \u001b[39mself\u001b[39m\u001b[39m.\u001b[39mprint_method)\n\u001b[0;32m    342\u001b[0m     \u001b[39mif\u001b[39;00m method \u001b[39mis\u001b[39;00m \u001b[39mnot\u001b[39;00m \u001b[39mNone\u001b[39;00m:\n\u001b[1;32m--> 343\u001b[0m         \u001b[39mreturn\u001b[39;00m method()\n\u001b[0;32m    344\u001b[0m     \u001b[39mreturn\u001b[39;00m \u001b[39mNone\u001b[39;00m\n\u001b[0;32m    345\u001b[0m \u001b[39melse\u001b[39;00m:\n",
      "File \u001b[1;32mc:\\Users\\mikha\\AppData\\Local\\Programs\\Python\\Python38\\lib\\site-packages\\pandas\\core\\frame.py:734\u001b[0m, in \u001b[0;36m_repr_html_\u001b[1;34m(self)\u001b[0m\n\u001b[0;32m    720\u001b[0m         columns \u001b[39m=\u001b[39m ensure_index(columns)  \u001b[39m# type: ignore[arg-type]\u001b[39;00m\n\u001b[0;32m    721\u001b[0m     arrays, columns, index \u001b[39m=\u001b[39m nested_data_to_arrays(\n\u001b[0;32m    722\u001b[0m         \u001b[39m# error: Argument 3 to \"nested_data_to_arrays\" has incompatible\u001b[39;00m\n\u001b[0;32m    723\u001b[0m         \u001b[39m# type \"Optional[Collection[Any]]\"; expected \"Optional[Index]\"\u001b[39;00m\n\u001b[1;32m   (...)\u001b[0m\n\u001b[0;32m    727\u001b[0m         dtype,\n\u001b[0;32m    728\u001b[0m     )\n\u001b[0;32m    729\u001b[0m     mgr \u001b[39m=\u001b[39m arrays_to_mgr(\n\u001b[0;32m    730\u001b[0m         arrays,\n\u001b[0;32m    731\u001b[0m         columns,\n\u001b[0;32m    732\u001b[0m         index,\n\u001b[0;32m    733\u001b[0m         dtype\u001b[39m=\u001b[39mdtype,\n\u001b[1;32m--> 734\u001b[0m         typ\u001b[39m=\u001b[39mmanager,\n\u001b[0;32m    735\u001b[0m     )\n\u001b[0;32m    736\u001b[0m \u001b[39melse\u001b[39;00m:\n\u001b[0;32m    737\u001b[0m     mgr \u001b[39m=\u001b[39m ndarray_to_mgr(\n\u001b[0;32m    738\u001b[0m         data,\n\u001b[0;32m    739\u001b[0m         index,\n\u001b[1;32m   (...)\u001b[0m\n\u001b[0;32m    743\u001b[0m         typ\u001b[39m=\u001b[39mmanager,\n\u001b[0;32m    744\u001b[0m     )\n",
      "File \u001b[1;32mc:\\Users\\mikha\\AppData\\Local\\Programs\\Python\\Python38\\lib\\site-packages\\pandas\\io\\formats\\format.py:984\u001b[0m, in \u001b[0;36mto_html\u001b[1;34m(self, buf, encoding, classes, notebook, border)\u001b[0m\n\u001b[0;32m    982\u001b[0m if self.show_col_idx_names:\n\u001b[0;32m    983\u001b[0m     col_header = [str(x) for x in self._get_column_name_list()]\n\u001b[1;32m--> 984\u001b[0m else:\n\u001b[0;32m    985\u001b[0m     col_header = [\"\"] * columns.nlevels\n\u001b[0;32m    987\u001b[0m if self.header:\n",
      "File \u001b[1;32mc:\\Users\\mikha\\AppData\\Local\\Programs\\Python\\Python38\\lib\\site-packages\\pandas\\io\\formats\\html.py:68\u001b[0m, in \u001b[0;36mHTMLFormatter.__init__\u001b[1;34m(self, formatter, classes, border, table_id, render_links)\u001b[0m\n\u001b[0;32m     63\u001b[0m \u001b[39mself\u001b[39m\u001b[39m.\u001b[39mtable_id \u001b[39m=\u001b[39m table_id\n\u001b[0;32m     64\u001b[0m \u001b[39mself\u001b[39m\u001b[39m.\u001b[39mrender_links \u001b[39m=\u001b[39m render_links\n\u001b[0;32m     66\u001b[0m \u001b[39mself\u001b[39m\u001b[39m.\u001b[39mcol_space \u001b[39m=\u001b[39m {\n\u001b[0;32m     67\u001b[0m     column: \u001b[39mf\u001b[39m\u001b[39m\"\u001b[39m\u001b[39m{\u001b[39;00mvalue\u001b[39m}\u001b[39;00m\u001b[39mpx\u001b[39m\u001b[39m\"\u001b[39m \u001b[39mif\u001b[39;00m \u001b[39misinstance\u001b[39m(value, \u001b[39mint\u001b[39m) \u001b[39melse\u001b[39;00m value\n\u001b[1;32m---> 68\u001b[0m     \u001b[39mfor\u001b[39;00m column, value \u001b[39min\u001b[39;00m \u001b[39mself\u001b[39;49m\u001b[39m.\u001b[39;49mfmt\u001b[39m.\u001b[39;49mcol_space\u001b[39m.\u001b[39;49mitems()\n\u001b[0;32m     69\u001b[0m }\n",
      "\u001b[1;31mAttributeError\u001b[0m: 'NoneType' object has no attribute 'items'"
     ]
    },
    {
     "data": {
      "text/plain": [
       "    <TICKER> <PER>    <DATE>  <TIME>  <OPEN>  <HIGH>   <LOW>  <CLOSE>  \\\n",
       "0       GAZP     D  20210802       0  287.88  289.48  285.21   286.75   \n",
       "1       GAZP     D  20210803       0  286.77  288.05  284.34   287.09   \n",
       "2       GAZP     D  20210804       0  287.89  288.80  286.00   287.94   \n",
       "3       GAZP     D  20210805       0  287.31  288.28  285.16   285.95   \n",
       "4       GAZP     D  20210806       0  285.26  285.72  277.87   282.27   \n",
       "..       ...   ...       ...     ...     ...     ...     ...      ...   \n",
       "233     GAZP     D  20220801       0  194.50  194.69  192.00   192.00   \n",
       "234     GAZP     D  20220802       0  191.56  191.68  186.80   187.16   \n",
       "235     GAZP     D  20220803       0  187.59  188.97  186.31   187.04   \n",
       "236     GAZP     D  20220804       0  187.04  187.22  184.30   184.90   \n",
       "237     GAZP     D  20220805       0  184.75  185.62  175.75   176.58   \n",
       "\n",
       "        <VOL>  \n",
       "0    38297270  \n",
       "1    27065240  \n",
       "2    23599750  \n",
       "3    47254880  \n",
       "4    90600850  \n",
       "..        ...  \n",
       "233  13034930  \n",
       "234  24267570  \n",
       "235  12005960  \n",
       "236  13313950  \n",
       "237  49069120  \n",
       "\n",
       "[238 rows x 9 columns]"
      ]
     },
     "execution_count": 80,
     "metadata": {},
     "output_type": "execute_result"
    }
   ],
   "source": [
    "quotes\n"
   ]
  },
  {
   "cell_type": "code",
   "execution_count": null,
   "metadata": {},
   "outputs": [],
   "source": [
    "## Предсказываем линейной регрессией"
   ]
  }
 ],
 "metadata": {
  "kernelspec": {
   "display_name": "Python 3.8.2 64-bit",
   "language": "python",
   "name": "python3"
  },
  "language_info": {
   "codemirror_mode": {
    "name": "ipython",
    "version": 3
   },
   "file_extension": ".py",
   "mimetype": "text/x-python",
   "name": "python",
   "nbconvert_exporter": "python",
   "pygments_lexer": "ipython3",
   "version": "3.8.2"
  },
  "orig_nbformat": 4,
  "vscode": {
   "interpreter": {
    "hash": "1835615888dd5962b87b68afec97ab70ea34dcf06a519d9b229643f1246f266c"
   }
  }
 },
 "nbformat": 4,
 "nbformat_minor": 2
}
