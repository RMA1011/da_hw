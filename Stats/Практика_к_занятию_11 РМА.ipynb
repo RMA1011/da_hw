{
 "cells": [
  {
   "cell_type": "markdown",
   "metadata": {
    "id": "pDrecLU-4QjS"
   },
   "source": [
    "# Практика"
   ]
  },
  {
   "cell_type": "markdown",
   "metadata": {
    "id": "gUvTNDlMaV-a"
   },
   "source": [
    "## Определение вероятности. События\n",
    "\n",
    "Требуется сгенерировать необходимые выборки и произвести по ним расчеты"
   ]
  },
  {
   "cell_type": "code",
   "execution_count": 1,
   "metadata": {},
   "outputs": [],
   "source": [
    "# Импортируем необходимые модули\n",
    "import numpy as np\n",
    "import itertools\n",
    "from collections import Counter\n",
    "import matplotlib.pyplot as plt\n",
    "%matplotlib inline\n",
    "import random"
   ]
  },
  {
   "cell_type": "code",
   "execution_count": 2,
   "metadata": {},
   "outputs": [],
   "source": [
    "### Для будущих задач определим функцию, которая будет заполнять множество \n",
    "### возможных исходов на основе заданных нами элементарных исходов\n",
    "\n",
    "def fill_omega(outcomes, dim):\n",
    "    omega = list(itertools.product(outcomes, repeat = dim))\n",
    "    inter_omega = ''\n",
    "    full_omega = []\n",
    "    for x in omega:\n",
    "        for i in range(dim):\n",
    "            inter_omega += (x[i])\n",
    "        full_omega.append(inter_omega)\n",
    "        inter_omega = ''\n",
    "    return full_omega"
   ]
  },
  {
   "cell_type": "markdown",
   "metadata": {
    "id": "5V70InEBTgup"
   },
   "source": [
    "### Задача 1\n",
    "Брошено две монеты. Найти вероятность того, что монеты выпали разными сторонами"
   ]
  },
  {
   "cell_type": "code",
   "execution_count": 3,
   "metadata": {
    "id": "88Iw-SL3jYQV"
   },
   "outputs": [
    {
     "name": "stdout",
     "output_type": "stream",
     "text": [
      "Аналитическая вероятность выпадения разных сторон у двух монет: 0.50\n",
      "Выбоорочная вероятность выпадения разных сторон у двух монет на 10000 наблюдениях: 0.50\n"
     ]
    }
   ],
   "source": [
    "### У броска одной правильной монеты может быть два исхода: орёл (H) или решка (T)\n",
    "## Бросаем две монеты одновременно\n",
    "%timeit\n",
    "outcomes = ['T','H'] # исходы броска 1 монеты\n",
    "omega = fill_omega(outcomes, 2)\n",
    "elem_probabilities = [omega.count(x)/len(omega) for x in omega] # считаем вероятности на основе множества элементарных событий\n",
    "\n",
    "### Аналитически\n",
    "mask = (omega == 'HT') | (omega == 'TH') # создаём фильтр для благоприятных событий\n",
    "prob_1_diff = len(omega[mask])/len(omega)\n",
    "print('Аналитическая вероятность выпадения разных сторон у двух монет: %1.2f' %(prob_1_diff))\n",
    "\n",
    "\n",
    "### Из выборки\n",
    "sample = np.random.choice(omega,10000,p=elem_probabilities) # генерируем выборку\n",
    "mask = (sample == 'HT') | (sample == 'TH') # создаём фильтр для благоприятных событий\n",
    "prob_2_diff = len(sample[mask])/sample.shape[0] # считаем вероятность\n",
    "print('Выбоорочная вероятность выпадения разных сторон у двух монет на %s наблюдениях: %1.2f' % (len(sample),prob_2_diff))\n",
    "\n"
   ]
  },
  {
   "cell_type": "markdown",
   "metadata": {
    "id": "t0XOMos2Tl0e"
   },
   "source": [
    "### Задача 2\n",
    "Брошено три монеты. Описать множество всех элементарных событий. Найти вероятности следующих событий:\n",
    "\n",
    "\n",
    "1.   A = {не выпало ни одного герба}\n",
    "2.   B = {выпало четное число гербов}\n",
    "3.   C = {на третьей монете выпал герб}\n"
   ]
  },
  {
   "cell_type": "code",
   "execution_count": 4,
   "metadata": {
    "id": "o7NjAE9uUo-L"
   },
   "outputs": [
    {
     "name": "stdout",
     "output_type": "stream",
     "text": [
      "Вероятность получить ни одного герба: 0.12\n",
      "Вероятность получить чётное количество гербов: 0.50\n",
      "Вероятность получить герб на третьей монете: 0.50\n"
     ]
    }
   ],
   "source": [
    "### Создадим множество элементарных событий\n",
    "### В терминах нашей функции: есть всего два элементарных исхода (H/T) и размерность == 3\n",
    "### Причём решение будет симметрично для H и T, как бы мы не соотносили их с гербами и не-гербами\n",
    "outcomes = ['H','T']\n",
    "omega = fill_omega(outcomes,3)\n",
    "elem_probabilities = [omega.count(x)/len(omega) for x in omega] # считаем вероятности на основе множества элементарных событий\n",
    "\n",
    "### Пункт А - ни одного герба\n",
    "outcomes_A = [x for x in omega if x.count('T') == 0]\n",
    "prob_A = len(outcomes_A)/len(omega)\n",
    "print('Вероятность получить ни одного герба: %1.2f' %(prob_A))\n",
    "\n",
    "### Пункт B: чётное количество гербов\n",
    "### Чётное это либо 0, либо 2\n",
    "outcomes_B = [x for x in omega if (x.count('T')//2==0)]\n",
    "prob_B = len(outcomes_B)/len(omega)\n",
    "print('Вероятность получить чётное количество гербов: %1.2f' %(prob_B))\n",
    "\n",
    "### Пункт C: на третьей монете герб\n",
    "outcomes_C = [x for x in omega if (x[2]=='T')]\n",
    "prob_C = len(outcomes_C)/len(omega)\n",
    "print('Вероятность получить герб на третьей монете: %1.2f' %(prob_C))"
   ]
  },
  {
   "cell_type": "markdown",
   "metadata": {},
   "source": [
    "Предлагается также решить задачи: \n",
    "\n",
    "### Задача 3\n",
    "Из двух претендентов E и L на ответственную должность три члена комиссии должны отобрать одного. Каждый член комиссии должен указать либо одного достойного, либо забраковать обоих. Претендент считается выбранным, если он был признана достойным хотя бы двумя членами комиссии.\n",
    "Найти вероятность событий:\n",
    "\n",
    "A = {рекомендован L}, B = {рекомендован E}\n"
   ]
  },
  {
   "cell_type": "code",
   "execution_count": 5,
   "metadata": {},
   "outputs": [
    {
     "name": "stdout",
     "output_type": "stream",
     "text": [
      "Вероятность избрания L: 0.26\n",
      "Вероятность избрания E: 0.26\n"
     ]
    }
   ],
   "source": [
    "### Интерпретируем: элементарных исходов всего 3 (E,L,Никто) и они равновероятны\n",
    "outcomes = ['E','L','Никто']\n",
    "omega = fill_omega(outcomes, 3) # dim == 3 по числу членов комиссии\n",
    "elem_probabilities = [omega.count(x)/len(omega) for x in omega] # считаем вероятности на основе множества элементарных событий\n",
    "\n",
    "### Пункт А\n",
    "outcomes_A = [x for x in omega if x.count('L')>=2]\n",
    "prob_A = len(outcomes_A)/len(omega)\n",
    "print('Вероятность избрания L: %1.2f' %(prob_A))\n",
    "\n",
    "### Пункт B\n",
    "outcomes_B = [x for x in omega if x.count('E')>=2]\n",
    "prob_B = len(outcomes_B)/len(omega)\n",
    "print('Вероятность избрания E: %1.2f' %(prob_B))"
   ]
  },
  {
   "cell_type": "markdown",
   "metadata": {
    "id": "peM38mVfYa5B"
   },
   "source": [
    "### Задача 4\n",
    "Брошено две игральных кости. Описать множество элементарных событий. Найти вероятности событий:\n",
    "\n",
    "A = {вышло две \"шестерки\"}\n",
    "\n",
    "B = {сумма выпавших очков не меньше 11}\n",
    "\n",
    "C = {не выпала ни одна \"шестерка\"}"
   ]
  },
  {
   "cell_type": "code",
   "execution_count": 6,
   "metadata": {},
   "outputs": [
    {
     "name": "stdout",
     "output_type": "stream",
     "text": [
      "Вероятность выпадения двух шестёрок: 0.03\n",
      "Вероятность суммы не меньше 11: 0.08\n",
      "Вероятность ни одной шестёрки: 0.69\n"
     ]
    }
   ],
   "source": [
    "outcomes = ['1','2','3','4','5','6']\n",
    "omega = fill_omega(outcomes, 2)\n",
    "\n",
    "outcomes_A = [x for x in omega if ((x[0] == '6') & (x[1] == '6'))]\n",
    "prob_A = len(outcomes_A)/len(omega)\n",
    "print('Вероятность выпадения двух шестёрок: %1.2f' %(prob_A))\n",
    "\n",
    "outcomes_B = [x for x in omega if ((int(x[0]) + int(x[1])) >= 11)]\n",
    "prob_B = len(outcomes_B)/len(omega)\n",
    "print('Вероятность суммы не меньше 11: %1.2f' %(prob_B))\n",
    "\n",
    "outcomes_С = [x for x in omega if ((x[0] != '6') & (x[1] != '6'))]\n",
    "prob_С = len(outcomes_С)/len(omega)\n",
    "print('Вероятность ни одной шестёрки: %1.2f' %(prob_С))"
   ]
  },
  {
   "cell_type": "markdown",
   "metadata": {
    "id": "f-Bi0p8haclB"
   },
   "source": [
    "## Вероятность суммы событий"
   ]
  },
  {
   "cell_type": "markdown",
   "metadata": {
    "id": "g7A7QlvGTnwZ"
   },
   "source": [
    "### Задача 5\n",
    "Брошены две игральные кости. Найти вероятность события D = {выпала хотя бы одна шестёрка}\n"
   ]
  },
  {
   "cell_type": "code",
   "execution_count": 7,
   "metadata": {
    "id": "vjtTJN-kUp9D"
   },
   "outputs": [
    {
     "name": "stdout",
     "output_type": "stream",
     "text": [
      "Вероятность хотя бы одной шестёрки через прямую вероятность: 0.31\n",
      "Вероятность хотя бы одной шестёрки через обратную вероятность: 0.31\n"
     ]
    }
   ],
   "source": [
    "outcomes = ['1','2','3','4','5','6']\n",
    "omega = fill_omega(outcomes, 2)\n",
    "\n",
    "### Через прямую вероятность\n",
    "\n",
    "outcomes_D = [x for x in omega if ((x[0] == '6') | (x[1] == '6'))]\n",
    "prob_D = len(outcomes_D)/len(omega)\n",
    "print('Вероятность хотя бы одной шестёрки через прямую вероятность: %1.2f'  % prob_D)\n",
    "\n",
    "### Через обратную вероятность\n",
    "### Вероятность события = 1 - Вероятность невозможного для него события\n",
    "\n",
    "outcomes_D_alt = [x for x in omega if ((x[0] != '6') & (x[1] != '6'))]\n",
    "prob_D_alt = len(outcomes_D_alt)/len(omega)\n",
    "prob_D_alt = 1 - prob_D_alt\n",
    "print('Вероятность хотя бы одной шестёрки через обратную вероятность: %1.2f' % prob_D_alt)"
   ]
  },
  {
   "cell_type": "markdown",
   "metadata": {
    "id": "R1bYSzQQbC6I"
   },
   "source": [
    "Предлагается также решить задачи: \n",
    "\n",
    "### Задача 6\n",
    "В телефонном номере три последние цифры стерлись. Считая, что все возможные значения стершихся цифр равновероятны, найти вероятность событий:\n",
    "\n",
    "A = {Стерлись различные цифры},\n",
    "\n",
    "B = {Стерлись одинаковые цифры},\n",
    "\n",
    "C = {Среди стершихся цифр хотя бы две совпадают},\n",
    "\n",
    "D = {Среди стершихся цифр хотя бы две различны}\n"
   ]
  },
  {
   "cell_type": "code",
   "execution_count": 8,
   "metadata": {},
   "outputs": [
    {
     "name": "stdout",
     "output_type": "stream",
     "text": [
      "Вероятность различных цифр среди стёршихся: 0.81\n",
      "Вероятность одинаковых цифр среди стёршихся: 0.01\n",
      "Вероятность хотя бы двух совпадающих цифр среди стёршихся: 0.28\n",
      "Вероятность хотя бы двух различных цифр среди стёршихся: 0.99\n"
     ]
    }
   ],
   "source": [
    "outcomes = ['0','1','2','3','4','5','6','7','8','9']\n",
    "omega = fill_omega(outcomes, 3)\n",
    "elem_probabilities = [omega.count(x)/len(omega) for x in omega] # считаем вероятности на основе множества элементарных событий\n",
    "\n",
    "outcomes_A = [x for x in omega if x[0] != x[1] != x[2]]\n",
    "prob_A = len(outcomes_A)/len(omega)\n",
    "print('Вероятность различных цифр среди стёршихся: %1.2f' %(prob_A))\n",
    "\n",
    "outcomes_B = [x for x in omega if x[0] == x[1] == x[2]]\n",
    "prob_B = len(outcomes_B)/len(omega)\n",
    "print('Вероятность одинаковых цифр среди стёршихся: %1.2f' %prob_B)\n",
    "\n",
    "outcomes_C = [x for x in omega if ((x[0] == x[1]) | (x[0] == x[2]) | (x[1] == x[2]))]\n",
    "prob_C = len(outcomes_C)/len(omega)\n",
    "print('Вероятность хотя бы двух совпадающих цифр среди стёршихся: %1.2f' %(prob_C))\n",
    "\n",
    "\n",
    "outcomes_D = [x for x in omega if ((x[0] != x[1]) | (x[0] != x[2]) | (x[1] != x[2]))]\n",
    "prob_D = len(outcomes_D)/len(omega)\n",
    "print('Вероятность хотя бы двух различных цифр среди стёршихся: %1.2f' %(prob_D))"
   ]
  },
  {
   "cell_type": "markdown",
   "metadata": {
    "id": "RnugkR8BalK_"
   },
   "source": [
    "## Случайные величины"
   ]
  },
  {
   "cell_type": "markdown",
   "metadata": {
    "id": "yLoZDZ17UVsp"
   },
   "source": [
    "### Задача 7\n",
    "В лотерее имеется 10 билетов, из которых один выигрышный. Размер выигрыша 10 ден. ед.; стоимость билета 1 ден ед. Найти закон распределения случайной величины X, равной чистому выигрышу участника лотереи, который вытаскивает билет первым."
   ]
  },
  {
   "cell_type": "code",
   "execution_count": 9,
   "metadata": {
    "id": "oNk432sKUqzT"
   },
   "outputs": [
    {
     "data": {
      "text/plain": [
       "[]"
      ]
     },
     "execution_count": 9,
     "metadata": {},
     "output_type": "execute_result"
    },
    {
     "data": {
      "image/png": "[encoded data removed]",
      "text/plain": [
       "<Figure size 432x288 with 1 Axes>"
      ]
     },
     "metadata": {
      "needs_background": "light"
     },
     "output_type": "display_data"
    }
   ],
   "source": [
    "### Интерпретируем условия задачи\n",
    "### Вероятность успеха = 1/10\n",
    "### В случае успеха исход (чистый выигрыш) равен 10-1 = 9, в случае провала -1\n",
    "### Нужно построить закон распределения\n",
    "### Поскольку тянет только первый участник и один раз, у нас всего два исхода\n",
    "\n",
    "outcomes = [-1, 9]\n",
    "elem_probabilities = [0.9, 0.1]\n",
    "\n",
    "x = np.linspace(0,1,2)\n",
    "plt.scatter(outcomes, elem_probabilities, color=\"green\" )\n",
    "plt.ylabel(\"Вероятность выигрыша (max = 1)\")\n",
    "plt.xlabel(\"Чистый выигрыш, в ден. ед.\")\n",
    "plt.xticks(np.arange(-1, 10, 1))\n",
    "plt.yticks(np.arange(0, 1, 0.1))\n",
    "plt.plot()\n",
    "\n",
    "# Подсказка: распределение Бернулли"
   ]
  },
  {
   "cell_type": "markdown",
   "metadata": {
    "id": "U-NK9liSbpvb"
   },
   "source": [
    "Предлагается также решить задачу: \n",
    "\n",
    "### Задача 8\n",
    "Брошены две игральные кости. Найти закон распределения случайной величины $X$, равной сумме выпавших очков. Найти вероятности событий ${X <= 4}$, ${X > 4}$"
   ]
  },
  {
   "cell_type": "code",
   "execution_count": 10,
   "metadata": {},
   "outputs": [
    {
     "name": "stdout",
     "output_type": "stream",
     "text": [
      "ЗАКОН РАСПРЕДЕЛЕНИЯ\n",
      "Сумма 2, вероятность 0.03\n",
      "Сумма 3, вероятность 0.06\n",
      "Сумма 4, вероятность 0.08\n",
      "Сумма 5, вероятность 0.11\n",
      "Сумма 6, вероятность 0.14\n",
      "Сумма 7, вероятность 0.17\n",
      "Сумма 8, вероятность 0.14\n",
      "Сумма 9, вероятность 0.11\n",
      "Сумма 10, вероятность 0.08\n",
      "Сумма 11, вероятность 0.06\n",
      "Сумма 12, вероятность 0.03\n",
      "ЧАСТНЫЕ СЛУЧАИ\n",
      "Вероятность значения на костях меньше или равно 4: 0.17\n",
      "Вероятность значения на костях больше 4 прямым путём: 0.83\n",
      "Вероятность значения на костях больше 4 обратным путём: 0.83\n"
     ]
    },
    {
     "data": {
      "image/png": "[encoded data removed]",
      "text/plain": [
       "<Figure size 432x288 with 1 Axes>"
      ]
     },
     "metadata": {
      "needs_background": "light"
     },
     "output_type": "display_data"
    }
   ],
   "source": [
    "outcomes = ['1','2','3','4','5','6']\n",
    "omega = fill_omega(outcomes, 2)\n",
    "sum_outcomes = [(int(x[0]) + int(x[1])) for x in omega]\n",
    "sum_outputs = sorted(list(set(sum_outcomes)))\n",
    "sum_outcomes = [str(x) for x in sum_outcomes]\n",
    "sum_outputs = [str(x) for x in sum_outputs]\n",
    "elem_probabilities = [np.round(sum_outcomes.count(x)/len(sum_outcomes),decimals = 2) for x in sum_outputs] # считаем вероятности на основе множества элементарных событий\n",
    "distrib = {sum_outputs[i]:elem_probabilities[i] for i in range(len(sum_outputs))}\n",
    "\n",
    "\n",
    "\n",
    "print('ЗАКОН РАСПРЕДЕЛЕНИЯ')\n",
    "for i in distrib:\n",
    "    print('Сумма {0}, вероятность {1}'.format(i, distrib.get(i)))\n",
    "print('ЧАСТНЫЕ СЛУЧАИ')\n",
    "\n",
    "x = np.linspace(0,1,2)\n",
    "plt.scatter(distrib.keys(), distrib.values(), color=\"green\" )\n",
    "plt.ylabel(\"Вероятность исхода, (max = 1)\")\n",
    "plt.xlabel(\"Сумма очков\")\n",
    "plt.yticks(np.arange(0, 1, 0.1))\n",
    "plt.xticks(np.arange(0, 12, 1))\n",
    "plt.plot()\n",
    "\n",
    "outcomes_loq_4 = [x for x in sum_outcomes if int(x) <= 4]\n",
    "prob_loq_4 = len(outcomes_loq_4)/len(sum_outcomes)\n",
    "print('Вероятность значения на костях меньше или равно 4: %1.2f' %(prob_loq_4))\n",
    "\n",
    "### прямая вероятность\n",
    "outcomes_m_4 = [x for x in sum_outcomes if int(x) > 4]\n",
    "prob_m_4 = len(outcomes_m_4)/len(sum_outcomes)\n",
    "print('Вероятность значения на костях больше 4 прямым путём: %1.2f' %(prob_m_4))\n",
    "\n",
    "### обратная вероятность\n",
    "prob_m_4_alt = 1 - prob_loq_4\n",
    "print('Вероятность значения на костях больше 4 обратным путём: %1.2f' %(prob_m_4_alt))\n"
   ]
  },
  {
   "cell_type": "markdown",
   "metadata": {
    "id": "shgW4D83awjK"
   },
   "source": [
    "## Условные вероятности"
   ]
  },
  {
   "cell_type": "markdown",
   "metadata": {
    "id": "Fbu1RFZwWZrk"
   },
   "source": [
    "### Задача 9\n",
    "Из колоды (36 карт) вынимают последовательно без возвращения две карты. Найти вероятность того, что первой картой была шестерка, а второй — семерка. Найти условную вероятность того же события при условии, что обе карты бубновой масти.\n"
   ]
  },
  {
   "cell_type": "code",
   "execution_count": 11,
   "metadata": {
    "id": "037o56awW9-E"
   },
   "outputs": [
    {
     "name": "stdout",
     "output_type": "stream",
     "text": [
      "БЕЗ УЧЁТА МАСТИ\n",
      "Вероятность вытащить шестёрку первой картой: 0.11\n",
      "Вероятность вытащить шестёрку первой картой и семёрку -- второй: 0.01\n",
      "Вероятность вытащить семёрку второй картой, если первая -- шестёрка: 0.11\n",
      "---------------------------------------\n",
      "С УЧЁТОМ МАСТИ\n",
      "Вероятность вытащить шестёрку бубей первой картой: 0.03\n",
      "Вероятность вытащить шестёрку бубей первой картой и семёрку бубей -- второй: 0.001\n",
      "Вероятность вытащить семёрку бубей второй картой, если первая -- шестёрка бубей: 0.01\n"
     ]
    }
   ],
   "source": [
    "suits = ['D','C','H','S']\n",
    "values = ['6','7','8','9','10','J','Q','K','A']\n",
    "cards = [str(i)+str(j) for i in suits for j in values]\n",
    "\n",
    "# придётся вручную задать пространство событий, т.к. в отличие от общего случая, \n",
    "# мы не можем вытянуть одну и ту же карту дважды\n",
    "omega = [cards[i] + cards[j] for i in range(len(cards)) for j in range(len(cards)) if cards[i] != cards[j]]\n",
    "\n",
    "# событие A - первая карта это 6\n",
    "outcomes_A = [x for x in omega if x[1] == '6']\n",
    "prob_A = len(outcomes_A)/len(omega)\n",
    "# событие B - вторая карта это 7\n",
    "outcomes_B = [x for x in omega if x[3] == '7']\n",
    "prob_B = len(outcomes_B)/len(omega)\n",
    "# событие B_A - первая карта 6, вторая 7\n",
    "outcomes_B_A = [x for x in omega if (x[1] == '6') & (x[3] == '7')]\n",
    "prob_B_A = len(outcomes_B_A)/len(omega)\n",
    "# условная верояность: вероятность B_A разделить на вероятность A\n",
    "prob_B_if_A = (prob_B_A)/(prob_A)\n",
    "print('БЕЗ УЧЁТА МАСТИ')\n",
    "print('Вероятность вытащить шестёрку первой картой: %1.2f' %(prob_A))\n",
    "print('Вероятность вытащить шестёрку первой картой и семёрку -- второй: %1.2f' %(prob_B_A))\n",
    "print('Вероятность вытащить семёрку второй картой, если первая -- шестёрка: %1.2f' %(prob_B_if_A))\n",
    "print('---------------------------------------')\n",
    "### теперь то же самое с ограничением на масть\n",
    "# Событие C,D,C_D D_if_C совпадают с A и B c точностью до масти\n",
    "outcomes_C = [x for x in omega if (x[1] == '6') & (x[0] == 'D')]\n",
    "prob_C = len(outcomes_C)/len(omega)\n",
    "outcomes_D = [x for x in omega if (x[3] == '7')&(x[2] == 'D')]\n",
    "prob_D = len(outcomes_D)/len(omega)\n",
    "outcomes_D_C = [x for x in omega if ((x[1] == '6')&(x[0] == 'D')) & ((x[3] == '7')&(x[2] == 'D'))]\n",
    "prob_D_C = len(outcomes_D_C)/len(omega)\n",
    "prob_D_if_C = (prob_D_C)/(prob_A)\n",
    "print('С УЧЁТОМ МАСТИ')\n",
    "print('Вероятность вытащить шестёрку бубей первой картой: %1.2f' %(prob_C))\n",
    "print('Вероятность вытащить шестёрку бубей первой картой и семёрку бубей -- второй: %1.3f' %(prob_D_C))\n",
    "print('Вероятность вытащить семёрку бубей второй картой, если первая -- шестёрка бубей: %1.2f' %(prob_D_if_C))"
   ]
  },
  {
   "cell_type": "markdown",
   "metadata": {
    "id": "hNVxtaz5c57b"
   },
   "source": [
    "Предлагается также решить задачу: \n",
    "\n",
    "### Задача 10\n",
    "Из урны, содержащей два белых и три черных шара, последовательно извлекают два шара; вынутые шары не возвращаются. Если первый шар оказался черным, то перед вторым извлечением в урну добавляют белый шар. В противном случае состав оставшихся шаров не меняют. Найти вероятности событий:\n",
    "\n",
    "$A$ = {извлечены два белых шара},\n",
    "\n",
    "$B$ = {извлечены два черных шара}\n",
    "\n",
    "Указание. Пусть событие $C_1$ = {первый шар белый}, событие $C_2$ = {второй шар белый}. Тогда $A = C_1C_2$, $B = \\overline C_1 \\overline C_2$ "
   ]
  },
  {
   "cell_type": "code",
   "execution_count": 2,
   "metadata": {
    "id": "WSLnhk2sdBt_"
   },
   "outputs": [],
   "source": [
    "## Зададим функцию, которая будет извлекать шары по описанной логике\n",
    "\n",
    "def pick_two_balls(n):\n",
    "    \n",
    "    omegas = []\n",
    "    urn_1 = ['B','B','B','W','W'] # исходное состояние урны\n",
    "    urn_2 = ['B','B','W','W','W'] # извлекли чёрный (B), добавили белый (W)\n",
    "    urn_3 = ['B','B','B','W'] # извлекли белый (W), ничего не добавили\n",
    "    for i in range(n):\n",
    "        first_pick = np.random.choice(urn_1, size = 1, replace = False)\n",
    "        choice = ''\n",
    "        if first_pick == 'B':\n",
    "            second_pick = np.random.choice(urn_2, size = 1, replace = False)\n",
    "            choice = str(first_pick[0])+str(second_pick[0]) \n",
    "            omegas.append(choice)\n",
    "        else: \n",
    "            second_pick = np.random.choice(urn_3, size = 1, replace = False)\n",
    "            choice = str(first_pick[0])+str(second_pick[0])\n",
    "            omegas.append(choice)\n",
    "    return omegas\n",
    "\n"
   ]
  },
  {
   "cell_type": "code",
   "execution_count": 3,
   "metadata": {},
   "outputs": [
    {
     "name": "stdout",
     "output_type": "stream",
     "text": [
      "Верояность получить два белых шара без промежуточных вероятностей: 0.10\n",
      "Верояность получить два чёрных шара без промежуточных вероятностей: 0.24\n"
     ]
    }
   ],
   "source": [
    "omegas = pick_two_balls(1000000) # сгенерируем выборку из 1000000 исходов\n",
    "\n",
    "## Повторим то же самое без промежуточных вероятностей\n",
    "\n",
    "outcomes_A = [x for x in omegas if x[0] == x[1] == 'W']\n",
    "outcomes_B = [x for x in omegas if x[0] == x[1] == 'B']\n",
    "prob_A_alt = len(outcomes_A)/len(omegas)\n",
    "prob_B_alt = len(outcomes_B)/len(omegas)\n",
    "\n",
    "print('Верояность получить два белых шара без промежуточных вероятностей: %1.2f' %prob_A_alt)\n",
    "print('Верояность получить два чёрных шара без промежуточных вероятностей: %1.2f' %prob_B_alt)"
   ]
  }
 ],
 "metadata": {
  "colab": {
   "collapsed_sections": [],
   "name": "Практика к занятию 11.ipynb",
   "provenance": []
  },
  "kernelspec": {
   "display_name": "Python 3.7.4 ('base')",
   "language": "python",
   "name": "python3"
  },
  "language_info": {
   "codemirror_mode": {
    "name": "ipython",
    "version": 3
   },
   "file_extension": ".py",
   "mimetype": "text/x-python",
   "name": "python",
   "nbconvert_exporter": "python",
   "pygments_lexer": "ipython3",
   "version": "3.7.4"
  },
  "vscode": {
   "interpreter": {
    "hash": "245759046ab411f139a9dc2640f87b92d24c9e8a108b098ec3726e7171ec5659"
   }
  }
 },
 "nbformat": 4,
 "nbformat_minor": 1
}
