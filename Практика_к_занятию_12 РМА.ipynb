{
 "cells": [
  {
   "cell_type": "markdown",
   "metadata": {
    "id": "pDrecLU-4QjS"
   },
   "source": [
    "# Практика"
   ]
  },
  {
   "cell_type": "code",
   "execution_count": 2,
   "metadata": {
    "id": "a6XFMuQUG6jO"
   },
   "outputs": [],
   "source": [
    "import pandas as pd\n",
    "import numpy as np\n",
    "import matplotlib.pyplot as plt\n",
    "import scipy.stats as sts\n",
    "import math\n",
    "%matplotlib inline"
   ]
  },
  {
   "cell_type": "markdown",
   "metadata": {
    "id": "5owLnS0MHJnz"
   },
   "source": [
    "## ЦПТ для различных распределений\n",
    "Возьмите то непрерывное распределение, которое вам больше всего понравится из списка доступных в модуле [scipy.stats](https://docs.scipy.org/doc/scipy/reference/stats.html)."
   ]
  },
  {
   "cell_type": "markdown",
   "metadata": {
    "id": "v1IvIGF9IRgH"
   },
   "source": [
    "### Сгенерируйте примеры из распределения"
   ]
  },
  {
   "cell_type": "code",
   "execution_count": 15,
   "metadata": {},
   "outputs": [
    {
     "name": "stdout",
     "output_type": "stream",
     "text": [
      "0.6666666666666666\n",
      "0.05555555555555555\n"
     ]
    }
   ],
   "source": [
    "# Сгенерируем выборку из распределения Бирнбаума-Сондерса \n",
    "# (Birnbaum-Saunders distribution/fatiguge life distribution)\n",
    "\n",
    "triang_rv = sts.triang(1)\n",
    "triang_sample = triang_rv.rvs(200)\n",
    "triang_sample\n",
    "triang_mean = triang_rv.mean()\n",
    "triang_var = triang_rv.var()\n",
    "\n",
    "print(triang_mean)\n",
    "print(triang_var)"
   ]
  },
  {
   "cell_type": "markdown",
   "metadata": {
    "id": "4bNn15giIX77"
   },
   "source": [
    "### Постройте гистограмму выборки и теоретическую плотность распределения"
   ]
  },
  {
   "cell_type": "code",
   "execution_count": 87,
   "metadata": {
    "colab": {
     "base_uri": "https://localhost:8080/",
     "height": 283
    },
    "id": "CwbvqecvIcXN",
    "outputId": "ace01d5d-2552-499b-bc4f-1eb19166af83"
   },
   "outputs": [
    {
     "data": {
      "text/plain": [
       "<matplotlib.legend.Legend at 0x1eebbbb3490>"
      ]
     },
     "execution_count": 87,
     "metadata": {},
     "output_type": "execute_result"
    },
    {
     "data": {
      "image/png": "[encoded data removed]",
      "text/plain": [
       "<Figure size 432x288 with 1 Axes>"
      ]
     },
     "metadata": {
      "needs_background": "light"
     },
     "output_type": "display_data"
    }
   ],
   "source": [
    "# ваш код тут\n",
    "plt.hist(triang_sample, density=True, label = 'Выборочные значения')\n",
    "x = np.linspace(-4,4,100)\n",
    "pdf = triang_rv.pdf(x)\n",
    "plt.plot(x, pdf, label='теоретическая плотность', alpha=1)\n",
    "plt.legend(loc = 'upper left')"
   ]
  },
  {
   "cell_type": "markdown",
   "metadata": {
    "id": "qPuHR68NId_Z"
   },
   "source": [
    "### Оценим распределение выборочного среднего для разных объёмов выборок\n",
    "Для этого постройте на одном полотне гистограмму выборочных средних и теоретическое распределение выборочных средних по ЦПТ для разных объёмов выборок.\n",
    "\n",
    "Для теоретического распределение используйте настоящие значения мат ожидания и дисперсии (не приближенные на основе выборки)."
   ]
  },
  {
   "cell_type": "code",
   "execution_count": 43,
   "metadata": {
    "id": "_mB8upK7J58w"
   },
   "outputs": [],
   "source": [
    "# ваш код тут\n",
    "\n",
    "triang_rv = sts.triang(1)\n",
    "# сгенерируем много выборочных средних\n",
    "means_100 = []\n",
    "means_1000 = []\n",
    "means_10000 = []\n",
    "for i in range(1000):\n",
    "    means_100.append(np.mean(triang_rv.rvs(1000)))\n",
    "    means_1000.append(np.mean(triang_rv.rvs(10000)))\n",
    "    means_10000.append(np.mean(triang_rv.rvs(100000)))"
   ]
  },
  {
   "cell_type": "code",
   "execution_count": 55,
   "metadata": {},
   "outputs": [
    {
     "data": {
      "text/plain": [
       "[]"
      ]
     },
     "execution_count": 55,
     "metadata": {},
     "output_type": "execute_result"
    },
    {
     "data": {
      "image/png": "[encoded data removed]",
      "text/plain": [
       "<Figure size 432x288 with 1 Axes>"
      ]
     },
     "metadata": {
      "needs_background": "light"
     },
     "output_type": "display_data"
    }
   ],
   "source": [
    "means_100 = np.array(means_100).astype(np.float32)\n",
    "means_1000 = np.array(means_1000).astype(np.float32)\n",
    "means_10000 = np.array(means_10000).astype(np.float32)\n",
    "real_triang_rv = sts.triang(1, loc=triang_rv.mean(), scale=triang_rv.std() / np.sqrt(10000))\n",
    "plt.hist(means_100, density=True, color = 'blue', label = 'Средние для N=100') # bins=40)\n",
    "plt.hist(means_1000, density=True, color = 'black', label = 'Средние для N=1000') # bins=40)\n",
    "plt.hist(means_10000, density=True, color = 'red', label = 'Средние для N=10000') # bins=40)\n",
    "x = np.linspace(0.6,0.7, 20)\n",
    "pdf = real_triang_rv.pdf(x)\n",
    "plt.plot(x, pdf, label='теоретич. плотность', alpha=1 ,color = 'green')\n",
    "plt.legend(loc='upper left', frameon=False)\n",
    "plt.plot()"
   ]
  },
  {
   "cell_type": "markdown",
   "metadata": {
    "id": "TF1onBy_J7sX"
   },
   "source": [
    "Как вы считаете, для выбранного распределения апроксимация распределения выборочного среднего работает хорошо или плохо?\n",
    "**Ваш ответ:**"
   ]
  },
  {
   "cell_type": "markdown",
   "metadata": {
    "id": "1BEsK495KIuM"
   },
   "source": [
    "Ответ: На выборках до 10 000 - плохо, т.к. есть смещение влево"
   ]
  },
  {
   "cell_type": "markdown",
   "metadata": {
    "id": "xEyWxfjSfxGp"
   },
   "source": [
    "## Доверительный интервал на основе ЦПТ\n",
    "Возьмите данные для оттока телеком компании, и постройте доверительные интервалы для среднего значения total day calls, используя центральную предельную теорему в разбиении по колонке churn (ушел/не ушел). \n",
    "\n",
    "Для оценки дисперсии используйте несмещенную оценку (параметр ddof=1).\n",
    "\n",
    "Сделайте оценку с использованием явной формулы для z интервала, а затем с помощью функций \n",
    "`from statsmodels.stats.weightstats import _zconfint_generic`. Сравните результаты.\n",
    "\n",
    "\n",
    "Ссылка на данные: https://drive.google.com/file/d/1X_drKqoarnU2Sz2har7uSCsgyhh8Xtz8/view?usp=sharing"
   ]
  },
  {
   "cell_type": "code",
   "execution_count": 73,
   "metadata": {
    "id": "56V0za8GfxeL"
   },
   "outputs": [],
   "source": [
    "# либо загружаем из альтернативного хранилища\n",
    "url =\"https://raw.githubusercontent.com/piton1/DA/Lesson_12/telecom_churn.csv\"\n",
    "df=pd.read_csv(url)\n",
    "#display(df)"
   ]
  },
  {
   "cell_type": "code",
   "execution_count": 81,
   "metadata": {},
   "outputs": [
    {
     "name": "stdout",
     "output_type": "stream",
     "text": [
      "ПО ФОРМУЛЕ\n",
      "Значение Total Day Calls для клиентов с Churn = False с 99% вероятностью лежит между 99.33 и 101.24\n",
      "Значение Total Day Calls для клиентов с Churn = True с 99% вероятностью лежит между 98.81 и 103.86\n",
      "С ПОМОЩЬЮ ФУНКЦИИ\n",
      "Значение Total Day Calls для клиентов с Churn = False с 99% вероятностью лежит между 99.33 и 101.24\n",
      "Значение Total Day Calls для клиентов с Churn = True с 99% вероятностью лежит между 98.81 и 103.86\n",
      "--------------------------------\n",
      "Результаты не отличаются: пользователи, размеченные как склонные к оттоку, имеют большую вариативность в числе ежедневных звонков, чем несклонные к оттоку\n"
     ]
    }
   ],
   "source": [
    "# ваш код тут\n",
    "### подготовим данные\n",
    "\n",
    "alpha = 0.01 ## найдём доверительные интервалы для 99% \n",
    "tdc_true = df[df['churn'] == True]['total day calls']\n",
    "tdc_false = df[df['churn'] == False]['total day calls']\n",
    "tdc_true_len = len(tdc_true)\n",
    "tdc_false_len = len(tdc_false)\n",
    "tdc_true_mean = np.mean(tdc_true)\n",
    "tdc_false_mean = np.mean(tdc_false)\n",
    "tdc_true_se = np.sqrt(np.var(tdc_true,ddof = 1))\n",
    "tdc_false_se = np.sqrt(np.var(tdc_false,ddof = 1))\n",
    "z_value = sts.norm.ppf(1-alpha/2)\n",
    "\n",
    "### Подход 1: через явную формулу\n",
    "## Формула доверительного интервала для среднего по ЦПТ:\n",
    "## Левая (правая) граница интервала = (Выборочная средняя +(-) значение функции распределения z от (1-альфа/2), \n",
    "#№ умноженная на выборочное стандартное отклонение, делённое на корень из числа наблюдений)\n",
    "\n",
    "tdc_true_left = tdc_true_mean-z_value*(tdc_true_se/np.sqrt(tdc_true_len)) \n",
    "tdc_true_right = tdc_true_mean+z_value*(tdc_true_se/np.sqrt(tdc_true_len)) \n",
    "tdc_false_left = tdc_false_mean-z_value*(tdc_false_se/np.sqrt(tdc_false_len)) \n",
    "tdc_false_right = tdc_false_mean+z_value*(tdc_false_se/np.sqrt(tdc_false_len)) \n",
    "\n",
    "from statsmodels.stats.weightstats import zconfint\n",
    "tdc_true_alt = zconfint(tdc_true, alpha = 0.01,ddof = 1)\n",
    "tdc_false_alt = zconfint(tdc_false, alpha = 0.01,ddof = 1)\n",
    "\n",
    "print('ПО ФОРМУЛЕ')\n",
    "print('Значение Total Day Calls для клиентов с Churn = False с 99%% вероятностью лежит между %1.2f и %1.2f' %(tdc_false_left, tdc_false_right))\n",
    "print('Значение Total Day Calls для клиентов с Churn = True с 99%% вероятностью лежит между %1.2f и %1.2f' %(tdc_true_left,tdc_true_right))\n",
    "print('С ПОМОЩЬЮ ФУНКЦИИ')\n",
    "print('Значение Total Day Calls для клиентов с Churn = False с 99%% вероятностью лежит между %1.2f и %1.2f' %(tdc_false_alt[0], tdc_false_alt[1]))\n",
    "print('Значение Total Day Calls для клиентов с Churn = True с 99%% вероятностью лежит между %1.2f и %1.2f' %(tdc_true_alt[0], tdc_true_alt[1]))\n",
    "print('--------------------------------')\n",
    "print('Результаты не отличаются: пользователи, размеченные как склонные к оттоку, имеют большую вариативность в числе ежедневных звонков, чем несклонные к оттоку')"
   ]
  }
 ],
 "metadata": {
  "colab": {
   "collapsed_sections": [],
   "name": "Практика к занятию 12.ipynb",
   "provenance": []
  },
  "kernelspec": {
   "display_name": "Python 3.8.2 64-bit",
   "language": "python",
   "name": "python3"
  },
  "language_info": {
   "codemirror_mode": {
    "name": "ipython",
    "version": 3
   },
   "file_extension": ".py",
   "mimetype": "text/x-python",
   "name": "python",
   "nbconvert_exporter": "python",
   "pygments_lexer": "ipython3",
   "version": "3.8.2"
  },
  "vscode": {
   "interpreter": {
    "hash": "1835615888dd5962b87b68afec97ab70ea34dcf06a519d9b229643f1246f266c"
   }
  }
 },
 "nbformat": 4,
 "nbformat_minor": 1
}
