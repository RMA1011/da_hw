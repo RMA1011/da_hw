{
 "cells": [
  {
   "cell_type": "markdown",
   "metadata": {
    "pycharm": {
     "name": "#%% md\n"
    }
   },
   "source": [
    "# Про Pandas"
   ]
  },
  {
   "cell_type": "code",
   "execution_count": 2,
   "metadata": {
    "pycharm": {
     "name": "#%%\n"
    }
   },
   "outputs": [],
   "source": [
    "import os\n",
    "import pandas as pd\n",
    "import numpy as np\n",
    "\n",
    "pizza = pd.read_csv(os.path.join('data','Datafiniti_Pizza_Restaurants_and_the_Pizza_They_Sell_May19.csv'))"
   ]
  },
  {
   "cell_type": "code",
   "execution_count": 3,
   "metadata": {
    "pycharm": {
     "name": "#%%\n"
    }
   },
   "outputs": [
    {
     "data": {
      "text/html": [
       "<div>\n",
       "<style scoped>\n",
       "    .dataframe tbody tr th:only-of-type {\n",
       "        vertical-align: middle;\n",
       "    }\n",
       "\n",
       "    .dataframe tbody tr th {\n",
       "        vertical-align: top;\n",
       "    }\n",
       "\n",
       "    .dataframe thead th {\n",
       "        text-align: right;\n",
       "    }\n",
       "</style>\n",
       "<table border=\"1\" class=\"dataframe\">\n",
       "  <thead>\n",
       "    <tr style=\"text-align: right;\">\n",
       "      <th></th>\n",
       "      <th>id</th>\n",
       "      <th>dateAdded</th>\n",
       "      <th>dateUpdated</th>\n",
       "      <th>address</th>\n",
       "      <th>categories</th>\n",
       "      <th>primaryCategories</th>\n",
       "      <th>city</th>\n",
       "      <th>country</th>\n",
       "      <th>keys</th>\n",
       "      <th>latitude</th>\n",
       "      <th>...</th>\n",
       "      <th>menus.currency</th>\n",
       "      <th>menus.dateSeen</th>\n",
       "      <th>menus.description</th>\n",
       "      <th>menus.name</th>\n",
       "      <th>name</th>\n",
       "      <th>postalCode</th>\n",
       "      <th>priceRangeCurrency</th>\n",
       "      <th>priceRangeMin</th>\n",
       "      <th>priceRangeMax</th>\n",
       "      <th>province</th>\n",
       "    </tr>\n",
       "  </thead>\n",
       "  <tbody>\n",
       "    <tr>\n",
       "      <td>0</td>\n",
       "      <td>AVz3Y-7h3D1zeR_xDAqm</td>\n",
       "      <td>2017-06-30T05:05:40Z</td>\n",
       "      <td>2019-05-01T15:43:09Z</td>\n",
       "      <td>4203 E Kiehl Ave</td>\n",
       "      <td>Pizza,Restaurant,American restaurants,Pizza Pl...</td>\n",
       "      <td>Accommodation &amp; Food Services</td>\n",
       "      <td>Sherwood</td>\n",
       "      <td>US</td>\n",
       "      <td>us/ar/sherwood/4203ekiehlave/-1051391616</td>\n",
       "      <td>34.832300</td>\n",
       "      <td>...</td>\n",
       "      <td>USD</td>\n",
       "      <td>2018-05-01T04:25:37.197Z,2018-04-16T04:36:02.3...</td>\n",
       "      <td>NaN</td>\n",
       "      <td>Cheese Pizza</td>\n",
       "      <td>Shotgun Dans Pizza</td>\n",
       "      <td>72120</td>\n",
       "      <td>USD</td>\n",
       "      <td>0</td>\n",
       "      <td>25</td>\n",
       "      <td>AR</td>\n",
       "    </tr>\n",
       "    <tr>\n",
       "      <td>1</td>\n",
       "      <td>AVweGPFF_7pvs4fzAAzQ</td>\n",
       "      <td>2016-04-02T04:02:49Z</td>\n",
       "      <td>2019-05-01T15:27:50Z</td>\n",
       "      <td>25 E Camelback Rd</td>\n",
       "      <td>Pizza,Pizza Place,Restaurants</td>\n",
       "      <td>Accommodation &amp; Food Services</td>\n",
       "      <td>Phoenix</td>\n",
       "      <td>US</td>\n",
       "      <td>us/az/phoenix/25ecamelbackrd/-727422936</td>\n",
       "      <td>33.509266</td>\n",
       "      <td>...</td>\n",
       "      <td>USD</td>\n",
       "      <td>2018-03-03T02:38:06.381Z,2018-01-18T20:18:10.0...</td>\n",
       "      <td>NaN</td>\n",
       "      <td>Pizza Cookie</td>\n",
       "      <td>Sauce Pizza Wine</td>\n",
       "      <td>85012</td>\n",
       "      <td>USD</td>\n",
       "      <td>0</td>\n",
       "      <td>25</td>\n",
       "      <td>AZ</td>\n",
       "    </tr>\n",
       "    <tr>\n",
       "      <td>2</td>\n",
       "      <td>AVwdRGa9_7pvs4fz4E3K</td>\n",
       "      <td>2016-03-03T18:39:49Z</td>\n",
       "      <td>2019-05-01T12:52:25Z</td>\n",
       "      <td>3703 Paxton Ave</td>\n",
       "      <td>Restaurant,Pizza Place,Restaurants</td>\n",
       "      <td>Accommodation &amp; Food Services</td>\n",
       "      <td>Cincinnati</td>\n",
       "      <td>US</td>\n",
       "      <td>us/oh/cincinnati/3703paxtonave/-619797122</td>\n",
       "      <td>39.144883</td>\n",
       "      <td>...</td>\n",
       "      <td>USD</td>\n",
       "      <td>2018-04-10T07:58:34.585Z,2018-04-21T05:43:21.4...</td>\n",
       "      <td>a saucelessampcomma double cheese pizza with a...</td>\n",
       "      <td>Pizza Blanca</td>\n",
       "      <td>Mios Pizzeria</td>\n",
       "      <td>45209</td>\n",
       "      <td>USD</td>\n",
       "      <td>0</td>\n",
       "      <td>25</td>\n",
       "      <td>OH</td>\n",
       "    </tr>\n",
       "    <tr>\n",
       "      <td>3</td>\n",
       "      <td>AVwdX4psIN2L1WUfvJB1</td>\n",
       "      <td>2016-03-29T05:08:59Z</td>\n",
       "      <td>2019-05-01T12:52:20Z</td>\n",
       "      <td>30495 John R Rd</td>\n",
       "      <td>Pizza,Carry-out food,Pizza Place,Restaurants</td>\n",
       "      <td>Accommodation &amp; Food Services</td>\n",
       "      <td>Madison Heights</td>\n",
       "      <td>US</td>\n",
       "      <td>us/mi/madisonheights/30495johnrrd/-874863116</td>\n",
       "      <td>42.516669</td>\n",
       "      <td>...</td>\n",
       "      <td>USD</td>\n",
       "      <td>2016-10-20T21:50:02Z,2016-03-29T05:08:59Z</td>\n",
       "      <td>NaN</td>\n",
       "      <td>Small Pizza</td>\n",
       "      <td>Hungry Howies Pizza</td>\n",
       "      <td>48071</td>\n",
       "      <td>USD</td>\n",
       "      <td>25</td>\n",
       "      <td>40</td>\n",
       "      <td>MI</td>\n",
       "    </tr>\n",
       "    <tr>\n",
       "      <td>4</td>\n",
       "      <td>AVwdaeTtkufWRAb55pSH</td>\n",
       "      <td>2016-03-31T02:34:04Z</td>\n",
       "      <td>2019-05-01T12:50:45Z</td>\n",
       "      <td>3600 Eastern Ave</td>\n",
       "      <td>Pizza,American restaurants,Pizza Place,Pizza e...</td>\n",
       "      <td>Accommodation &amp; Food Services</td>\n",
       "      <td>Baltimore</td>\n",
       "      <td>US</td>\n",
       "      <td>us/md/baltimore/3600easternave/-1270965359</td>\n",
       "      <td>39.286630</td>\n",
       "      <td>...</td>\n",
       "      <td>USD</td>\n",
       "      <td>2016-03-31T02:34:04Z</td>\n",
       "      <td>NaN</td>\n",
       "      <td>Pizza Sub</td>\n",
       "      <td>Spartan Pizzeria</td>\n",
       "      <td>21224</td>\n",
       "      <td>USD</td>\n",
       "      <td>0</td>\n",
       "      <td>25</td>\n",
       "      <td>MD</td>\n",
       "    </tr>\n",
       "  </tbody>\n",
       "</table>\n",
       "<p>5 rows × 24 columns</p>\n",
       "</div>"
      ],
      "text/plain": [
       "                     id             dateAdded           dateUpdated  \\\n",
       "0  AVz3Y-7h3D1zeR_xDAqm  2017-06-30T05:05:40Z  2019-05-01T15:43:09Z   \n",
       "1  AVweGPFF_7pvs4fzAAzQ  2016-04-02T04:02:49Z  2019-05-01T15:27:50Z   \n",
       "2  AVwdRGa9_7pvs4fz4E3K  2016-03-03T18:39:49Z  2019-05-01T12:52:25Z   \n",
       "3  AVwdX4psIN2L1WUfvJB1  2016-03-29T05:08:59Z  2019-05-01T12:52:20Z   \n",
       "4  AVwdaeTtkufWRAb55pSH  2016-03-31T02:34:04Z  2019-05-01T12:50:45Z   \n",
       "\n",
       "             address                                         categories  \\\n",
       "0   4203 E Kiehl Ave  Pizza,Restaurant,American restaurants,Pizza Pl...   \n",
       "1  25 E Camelback Rd                      Pizza,Pizza Place,Restaurants   \n",
       "2    3703 Paxton Ave                 Restaurant,Pizza Place,Restaurants   \n",
       "3    30495 John R Rd       Pizza,Carry-out food,Pizza Place,Restaurants   \n",
       "4   3600 Eastern Ave  Pizza,American restaurants,Pizza Place,Pizza e...   \n",
       "\n",
       "               primaryCategories             city country  \\\n",
       "0  Accommodation & Food Services         Sherwood      US   \n",
       "1  Accommodation & Food Services          Phoenix      US   \n",
       "2  Accommodation & Food Services       Cincinnati      US   \n",
       "3  Accommodation & Food Services  Madison Heights      US   \n",
       "4  Accommodation & Food Services        Baltimore      US   \n",
       "\n",
       "                                           keys   latitude  ...  \\\n",
       "0      us/ar/sherwood/4203ekiehlave/-1051391616  34.832300  ...   \n",
       "1       us/az/phoenix/25ecamelbackrd/-727422936  33.509266  ...   \n",
       "2     us/oh/cincinnati/3703paxtonave/-619797122  39.144883  ...   \n",
       "3  us/mi/madisonheights/30495johnrrd/-874863116  42.516669  ...   \n",
       "4    us/md/baltimore/3600easternave/-1270965359  39.286630  ...   \n",
       "\n",
       "   menus.currency                                     menus.dateSeen  \\\n",
       "0             USD  2018-05-01T04:25:37.197Z,2018-04-16T04:36:02.3...   \n",
       "1             USD  2018-03-03T02:38:06.381Z,2018-01-18T20:18:10.0...   \n",
       "2             USD  2018-04-10T07:58:34.585Z,2018-04-21T05:43:21.4...   \n",
       "3             USD          2016-10-20T21:50:02Z,2016-03-29T05:08:59Z   \n",
       "4             USD                               2016-03-31T02:34:04Z   \n",
       "\n",
       "                                   menus.description    menus.name  \\\n",
       "0                                                NaN  Cheese Pizza   \n",
       "1                                                NaN  Pizza Cookie   \n",
       "2  a saucelessampcomma double cheese pizza with a...  Pizza Blanca   \n",
       "3                                                NaN   Small Pizza   \n",
       "4                                                NaN     Pizza Sub   \n",
       "\n",
       "                  name postalCode priceRangeCurrency priceRangeMin  \\\n",
       "0   Shotgun Dans Pizza      72120                USD             0   \n",
       "1     Sauce Pizza Wine      85012                USD             0   \n",
       "2        Mios Pizzeria      45209                USD             0   \n",
       "3  Hungry Howies Pizza      48071                USD            25   \n",
       "4     Spartan Pizzeria      21224                USD             0   \n",
       "\n",
       "  priceRangeMax province  \n",
       "0            25       AR  \n",
       "1            25       AZ  \n",
       "2            25       OH  \n",
       "3            40       MI  \n",
       "4            25       MD  \n",
       "\n",
       "[5 rows x 24 columns]"
      ]
     },
     "execution_count": 3,
     "metadata": {},
     "output_type": "execute_result"
    }
   ],
   "source": [
    "pizza.head()"
   ]
  },
  {
   "cell_type": "code",
   "execution_count": 4,
   "metadata": {
    "pycharm": {
     "name": "#%%\n"
    }
   },
   "outputs": [],
   "source": [
    "# Первые строчки таблицы"
   ]
  },
  {
   "cell_type": "code",
   "execution_count": 5,
   "metadata": {
    "pycharm": {
     "name": "#%%\n"
    }
   },
   "outputs": [
    {
     "name": "stdout",
     "output_type": "stream",
     "text": [
      "<class 'pandas.core.frame.DataFrame'>\n",
      "RangeIndex: 10000 entries, 0 to 9999\n",
      "Data columns (total 24 columns):\n",
      "id                    10000 non-null object\n",
      "dateAdded             10000 non-null object\n",
      "dateUpdated           10000 non-null object\n",
      "address               10000 non-null object\n",
      "categories            10000 non-null object\n",
      "primaryCategories     10000 non-null object\n",
      "city                  10000 non-null object\n",
      "country               10000 non-null object\n",
      "keys                  10000 non-null object\n",
      "latitude              10000 non-null float64\n",
      "longitude             10000 non-null float64\n",
      "menuPageURL           1679 non-null object\n",
      "menus.amountMax       10000 non-null float64\n",
      "menus.amountMin       10000 non-null float64\n",
      "menus.currency        10000 non-null object\n",
      "menus.dateSeen        10000 non-null object\n",
      "menus.description     3718 non-null object\n",
      "menus.name            10000 non-null object\n",
      "name                  10000 non-null object\n",
      "postalCode            9996 non-null object\n",
      "priceRangeCurrency    10000 non-null object\n",
      "priceRangeMin         10000 non-null int64\n",
      "priceRangeMax         10000 non-null int64\n",
      "province              10000 non-null object\n",
      "dtypes: float64(4), int64(2), object(18)\n",
      "memory usage: 1.8+ MB\n"
     ]
    }
   ],
   "source": [
    "# Информация о таблице\n",
    "pizza.info()"
   ]
  },
  {
   "cell_type": "code",
   "execution_count": 6,
   "metadata": {
    "pycharm": {
     "name": "#%%\n"
    }
   },
   "outputs": [],
   "source": [
    "# Если нужно удалить колонки\n",
    "pizza = pizza.drop(['address','dateUpdated'], axis=1)"
   ]
  },
  {
   "cell_type": "code",
   "execution_count": 7,
   "metadata": {
    "pycharm": {
     "name": "#%%\n"
    }
   },
   "outputs": [
    {
     "data": {
      "text/html": [
       "<div>\n",
       "<style scoped>\n",
       "    .dataframe tbody tr th:only-of-type {\n",
       "        vertical-align: middle;\n",
       "    }\n",
       "\n",
       "    .dataframe tbody tr th {\n",
       "        vertical-align: top;\n",
       "    }\n",
       "\n",
       "    .dataframe thead th {\n",
       "        text-align: right;\n",
       "    }\n",
       "</style>\n",
       "<table border=\"1\" class=\"dataframe\">\n",
       "  <thead>\n",
       "    <tr style=\"text-align: right;\">\n",
       "      <th></th>\n",
       "      <th>id</th>\n",
       "      <th>dateAdded</th>\n",
       "      <th>categories</th>\n",
       "      <th>primaryCategories</th>\n",
       "      <th>city</th>\n",
       "      <th>country</th>\n",
       "      <th>keys</th>\n",
       "      <th>latitude</th>\n",
       "      <th>longitude</th>\n",
       "      <th>menuPageURL</th>\n",
       "      <th>...</th>\n",
       "      <th>menus.currency</th>\n",
       "      <th>menus.dateSeen</th>\n",
       "      <th>menus.description</th>\n",
       "      <th>menus.name</th>\n",
       "      <th>name</th>\n",
       "      <th>postalCode</th>\n",
       "      <th>priceRangeCurrency</th>\n",
       "      <th>priceRangeMin</th>\n",
       "      <th>priceRangeMax</th>\n",
       "      <th>province</th>\n",
       "    </tr>\n",
       "  </thead>\n",
       "  <tbody>\n",
       "    <tr>\n",
       "      <td>0</td>\n",
       "      <td>AVz3Y-7h3D1zeR_xDAqm</td>\n",
       "      <td>2017-06-30T05:05:40Z</td>\n",
       "      <td>Pizza,Restaurant,American restaurants,Pizza Pl...</td>\n",
       "      <td>Accommodation &amp; Food Services</td>\n",
       "      <td>Sherwood</td>\n",
       "      <td>US</td>\n",
       "      <td>us/ar/sherwood/4203ekiehlave/-1051391616</td>\n",
       "      <td>34.832300</td>\n",
       "      <td>-92.183800</td>\n",
       "      <td>http://www.citysearch.com/profile/menu/1550074...</td>\n",
       "      <td>...</td>\n",
       "      <td>USD</td>\n",
       "      <td>2018-05-01T04:25:37.197Z,2018-04-16T04:36:02.3...</td>\n",
       "      <td>NaN</td>\n",
       "      <td>Cheese Pizza</td>\n",
       "      <td>Shotgun Dans Pizza</td>\n",
       "      <td>72120</td>\n",
       "      <td>USD</td>\n",
       "      <td>0</td>\n",
       "      <td>25</td>\n",
       "      <td>AR</td>\n",
       "    </tr>\n",
       "    <tr>\n",
       "      <td>1</td>\n",
       "      <td>AVweGPFF_7pvs4fzAAzQ</td>\n",
       "      <td>2016-04-02T04:02:49Z</td>\n",
       "      <td>Pizza,Pizza Place,Restaurants</td>\n",
       "      <td>Accommodation &amp; Food Services</td>\n",
       "      <td>Phoenix</td>\n",
       "      <td>US</td>\n",
       "      <td>us/az/phoenix/25ecamelbackrd/-727422936</td>\n",
       "      <td>33.509266</td>\n",
       "      <td>-112.073044</td>\n",
       "      <td>NaN</td>\n",
       "      <td>...</td>\n",
       "      <td>USD</td>\n",
       "      <td>2018-03-03T02:38:06.381Z,2018-01-18T20:18:10.0...</td>\n",
       "      <td>NaN</td>\n",
       "      <td>Pizza Cookie</td>\n",
       "      <td>Sauce Pizza Wine</td>\n",
       "      <td>85012</td>\n",
       "      <td>USD</td>\n",
       "      <td>0</td>\n",
       "      <td>25</td>\n",
       "      <td>AZ</td>\n",
       "    </tr>\n",
       "    <tr>\n",
       "      <td>2</td>\n",
       "      <td>AVwdRGa9_7pvs4fz4E3K</td>\n",
       "      <td>2016-03-03T18:39:49Z</td>\n",
       "      <td>Restaurant,Pizza Place,Restaurants</td>\n",
       "      <td>Accommodation &amp; Food Services</td>\n",
       "      <td>Cincinnati</td>\n",
       "      <td>US</td>\n",
       "      <td>us/oh/cincinnati/3703paxtonave/-619797122</td>\n",
       "      <td>39.144883</td>\n",
       "      <td>-84.432685</td>\n",
       "      <td>http://www.citysearch.com/profile/menu/8160503...</td>\n",
       "      <td>...</td>\n",
       "      <td>USD</td>\n",
       "      <td>2018-04-10T07:58:34.585Z,2018-04-21T05:43:21.4...</td>\n",
       "      <td>a saucelessampcomma double cheese pizza with a...</td>\n",
       "      <td>Pizza Blanca</td>\n",
       "      <td>Mios Pizzeria</td>\n",
       "      <td>45209</td>\n",
       "      <td>USD</td>\n",
       "      <td>0</td>\n",
       "      <td>25</td>\n",
       "      <td>OH</td>\n",
       "    </tr>\n",
       "    <tr>\n",
       "      <td>3</td>\n",
       "      <td>AVwdX4psIN2L1WUfvJB1</td>\n",
       "      <td>2016-03-29T05:08:59Z</td>\n",
       "      <td>Pizza,Carry-out food,Pizza Place,Restaurants</td>\n",
       "      <td>Accommodation &amp; Food Services</td>\n",
       "      <td>Madison Heights</td>\n",
       "      <td>US</td>\n",
       "      <td>us/mi/madisonheights/30495johnrrd/-874863116</td>\n",
       "      <td>42.516669</td>\n",
       "      <td>-83.106630</td>\n",
       "      <td>NaN</td>\n",
       "      <td>...</td>\n",
       "      <td>USD</td>\n",
       "      <td>2016-10-20T21:50:02Z,2016-03-29T05:08:59Z</td>\n",
       "      <td>NaN</td>\n",
       "      <td>Small Pizza</td>\n",
       "      <td>Hungry Howies Pizza</td>\n",
       "      <td>48071</td>\n",
       "      <td>USD</td>\n",
       "      <td>25</td>\n",
       "      <td>40</td>\n",
       "      <td>MI</td>\n",
       "    </tr>\n",
       "    <tr>\n",
       "      <td>4</td>\n",
       "      <td>AVwdaeTtkufWRAb55pSH</td>\n",
       "      <td>2016-03-31T02:34:04Z</td>\n",
       "      <td>Pizza,American restaurants,Pizza Place,Pizza e...</td>\n",
       "      <td>Accommodation &amp; Food Services</td>\n",
       "      <td>Baltimore</td>\n",
       "      <td>US</td>\n",
       "      <td>us/md/baltimore/3600easternave/-1270965359</td>\n",
       "      <td>39.286630</td>\n",
       "      <td>-76.566984</td>\n",
       "      <td>NaN</td>\n",
       "      <td>...</td>\n",
       "      <td>USD</td>\n",
       "      <td>2016-03-31T02:34:04Z</td>\n",
       "      <td>NaN</td>\n",
       "      <td>Pizza Sub</td>\n",
       "      <td>Spartan Pizzeria</td>\n",
       "      <td>21224</td>\n",
       "      <td>USD</td>\n",
       "      <td>0</td>\n",
       "      <td>25</td>\n",
       "      <td>MD</td>\n",
       "    </tr>\n",
       "  </tbody>\n",
       "</table>\n",
       "<p>5 rows × 22 columns</p>\n",
       "</div>"
      ],
      "text/plain": [
       "                     id             dateAdded  \\\n",
       "0  AVz3Y-7h3D1zeR_xDAqm  2017-06-30T05:05:40Z   \n",
       "1  AVweGPFF_7pvs4fzAAzQ  2016-04-02T04:02:49Z   \n",
       "2  AVwdRGa9_7pvs4fz4E3K  2016-03-03T18:39:49Z   \n",
       "3  AVwdX4psIN2L1WUfvJB1  2016-03-29T05:08:59Z   \n",
       "4  AVwdaeTtkufWRAb55pSH  2016-03-31T02:34:04Z   \n",
       "\n",
       "                                          categories  \\\n",
       "0  Pizza,Restaurant,American restaurants,Pizza Pl...   \n",
       "1                      Pizza,Pizza Place,Restaurants   \n",
       "2                 Restaurant,Pizza Place,Restaurants   \n",
       "3       Pizza,Carry-out food,Pizza Place,Restaurants   \n",
       "4  Pizza,American restaurants,Pizza Place,Pizza e...   \n",
       "\n",
       "               primaryCategories             city country  \\\n",
       "0  Accommodation & Food Services         Sherwood      US   \n",
       "1  Accommodation & Food Services          Phoenix      US   \n",
       "2  Accommodation & Food Services       Cincinnati      US   \n",
       "3  Accommodation & Food Services  Madison Heights      US   \n",
       "4  Accommodation & Food Services        Baltimore      US   \n",
       "\n",
       "                                           keys   latitude   longitude  \\\n",
       "0      us/ar/sherwood/4203ekiehlave/-1051391616  34.832300  -92.183800   \n",
       "1       us/az/phoenix/25ecamelbackrd/-727422936  33.509266 -112.073044   \n",
       "2     us/oh/cincinnati/3703paxtonave/-619797122  39.144883  -84.432685   \n",
       "3  us/mi/madisonheights/30495johnrrd/-874863116  42.516669  -83.106630   \n",
       "4    us/md/baltimore/3600easternave/-1270965359  39.286630  -76.566984   \n",
       "\n",
       "                                         menuPageURL  ...  menus.currency  \\\n",
       "0  http://www.citysearch.com/profile/menu/1550074...  ...             USD   \n",
       "1                                                NaN  ...             USD   \n",
       "2  http://www.citysearch.com/profile/menu/8160503...  ...             USD   \n",
       "3                                                NaN  ...             USD   \n",
       "4                                                NaN  ...             USD   \n",
       "\n",
       "                                      menus.dateSeen  \\\n",
       "0  2018-05-01T04:25:37.197Z,2018-04-16T04:36:02.3...   \n",
       "1  2018-03-03T02:38:06.381Z,2018-01-18T20:18:10.0...   \n",
       "2  2018-04-10T07:58:34.585Z,2018-04-21T05:43:21.4...   \n",
       "3          2016-10-20T21:50:02Z,2016-03-29T05:08:59Z   \n",
       "4                               2016-03-31T02:34:04Z   \n",
       "\n",
       "                                   menus.description    menus.name  \\\n",
       "0                                                NaN  Cheese Pizza   \n",
       "1                                                NaN  Pizza Cookie   \n",
       "2  a saucelessampcomma double cheese pizza with a...  Pizza Blanca   \n",
       "3                                                NaN   Small Pizza   \n",
       "4                                                NaN     Pizza Sub   \n",
       "\n",
       "                  name postalCode priceRangeCurrency priceRangeMin  \\\n",
       "0   Shotgun Dans Pizza      72120                USD             0   \n",
       "1     Sauce Pizza Wine      85012                USD             0   \n",
       "2        Mios Pizzeria      45209                USD             0   \n",
       "3  Hungry Howies Pizza      48071                USD            25   \n",
       "4     Spartan Pizzeria      21224                USD             0   \n",
       "\n",
       "  priceRangeMax  province  \n",
       "0            25        AR  \n",
       "1            25        AZ  \n",
       "2            25        OH  \n",
       "3            40        MI  \n",
       "4            25        MD  \n",
       "\n",
       "[5 rows x 22 columns]"
      ]
     },
     "execution_count": 7,
     "metadata": {},
     "output_type": "execute_result"
    }
   ],
   "source": [
    "pizza.head()"
   ]
  },
  {
   "cell_type": "code",
   "execution_count": null,
   "metadata": {
    "pycharm": {
     "name": "#%%\n"
    }
   },
   "outputs": [],
   "source": []
  },
  {
   "cell_type": "code",
   "execution_count": 8,
   "metadata": {
    "pycharm": {
     "name": "#%%\n"
    }
   },
   "outputs": [
    {
     "data": {
      "text/plain": [
       "Index(['id', 'dateAdded', 'categories', 'primaryCategories', 'city', 'country',\n",
       "       'keys', 'latitude', 'longitude', 'menuPageURL', 'menus.amountMax',\n",
       "       'menus.amountMin', 'menus.currency', 'menus.dateSeen',\n",
       "       'menus.description', 'menus.name', 'name', 'postalCode',\n",
       "       'priceRangeCurrency', 'priceRangeMin', 'priceRangeMax', 'province'],\n",
       "      dtype='object')"
      ]
     },
     "execution_count": 8,
     "metadata": {},
     "output_type": "execute_result"
    }
   ],
   "source": [
    "# Выводим названия колонок\n",
    "pizza.columns"
   ]
  },
  {
   "cell_type": "code",
   "execution_count": 9,
   "metadata": {
    "pycharm": {
     "name": "#%%\n"
    }
   },
   "outputs": [
    {
     "data": {
      "text/html": [
       "<div>\n",
       "<style scoped>\n",
       "    .dataframe tbody tr th:only-of-type {\n",
       "        vertical-align: middle;\n",
       "    }\n",
       "\n",
       "    .dataframe tbody tr th {\n",
       "        vertical-align: top;\n",
       "    }\n",
       "\n",
       "    .dataframe thead th {\n",
       "        text-align: right;\n",
       "    }\n",
       "</style>\n",
       "<table border=\"1\" class=\"dataframe\">\n",
       "  <thead>\n",
       "    <tr style=\"text-align: right;\">\n",
       "      <th></th>\n",
       "      <th>id</th>\n",
       "      <th>dateAdded</th>\n",
       "      <th>categories</th>\n",
       "      <th>primaryCategories</th>\n",
       "      <th>city</th>\n",
       "      <th>country</th>\n",
       "      <th>keys</th>\n",
       "      <th>latitude</th>\n",
       "      <th>longitude</th>\n",
       "      <th>menuPageURL</th>\n",
       "      <th>...</th>\n",
       "      <th>menus.currency</th>\n",
       "      <th>menus.dateSeen</th>\n",
       "      <th>menus.description</th>\n",
       "      <th>menus.name</th>\n",
       "      <th>name</th>\n",
       "      <th>postalCode</th>\n",
       "      <th>priceRangeCurrency</th>\n",
       "      <th>priceRangeMin</th>\n",
       "      <th>priceRangeMax</th>\n",
       "      <th>province</th>\n",
       "    </tr>\n",
       "  </thead>\n",
       "  <tbody>\n",
       "    <tr>\n",
       "      <td>0</td>\n",
       "      <td>AVz3Y-7h3D1zeR_xDAqm</td>\n",
       "      <td>2017-06-30T05:05:40Z</td>\n",
       "      <td>Pizza,Restaurant,American restaurants,Pizza Pl...</td>\n",
       "      <td>Accommodation &amp; Food Services</td>\n",
       "      <td>Sherwood</td>\n",
       "      <td>US</td>\n",
       "      <td>us/ar/sherwood/4203ekiehlave/-1051391616</td>\n",
       "      <td>34.832300</td>\n",
       "      <td>-92.183800</td>\n",
       "      <td>http://www.citysearch.com/profile/menu/1550074...</td>\n",
       "      <td>...</td>\n",
       "      <td>USD</td>\n",
       "      <td>2018-05-01T04:25:37.197Z,2018-04-16T04:36:02.3...</td>\n",
       "      <td>NaN</td>\n",
       "      <td>Cheese Pizza</td>\n",
       "      <td>Shotgun Dans Pizza</td>\n",
       "      <td>72120</td>\n",
       "      <td>USD</td>\n",
       "      <td>0</td>\n",
       "      <td>25</td>\n",
       "      <td>AR</td>\n",
       "    </tr>\n",
       "    <tr>\n",
       "      <td>1</td>\n",
       "      <td>AVweGPFF_7pvs4fzAAzQ</td>\n",
       "      <td>2016-04-02T04:02:49Z</td>\n",
       "      <td>Pizza,Pizza Place,Restaurants</td>\n",
       "      <td>Accommodation &amp; Food Services</td>\n",
       "      <td>Phoenix</td>\n",
       "      <td>US</td>\n",
       "      <td>us/az/phoenix/25ecamelbackrd/-727422936</td>\n",
       "      <td>33.509266</td>\n",
       "      <td>-112.073044</td>\n",
       "      <td>NaN</td>\n",
       "      <td>...</td>\n",
       "      <td>USD</td>\n",
       "      <td>2018-03-03T02:38:06.381Z,2018-01-18T20:18:10.0...</td>\n",
       "      <td>NaN</td>\n",
       "      <td>Pizza Cookie</td>\n",
       "      <td>Sauce Pizza Wine</td>\n",
       "      <td>85012</td>\n",
       "      <td>USD</td>\n",
       "      <td>0</td>\n",
       "      <td>25</td>\n",
       "      <td>AZ</td>\n",
       "    </tr>\n",
       "    <tr>\n",
       "      <td>2</td>\n",
       "      <td>AVwdRGa9_7pvs4fz4E3K</td>\n",
       "      <td>2016-03-03T18:39:49Z</td>\n",
       "      <td>Restaurant,Pizza Place,Restaurants</td>\n",
       "      <td>Accommodation &amp; Food Services</td>\n",
       "      <td>Cincinnati</td>\n",
       "      <td>US</td>\n",
       "      <td>us/oh/cincinnati/3703paxtonave/-619797122</td>\n",
       "      <td>39.144883</td>\n",
       "      <td>-84.432685</td>\n",
       "      <td>http://www.citysearch.com/profile/menu/8160503...</td>\n",
       "      <td>...</td>\n",
       "      <td>USD</td>\n",
       "      <td>2018-04-10T07:58:34.585Z,2018-04-21T05:43:21.4...</td>\n",
       "      <td>a saucelessampcomma double cheese pizza with a...</td>\n",
       "      <td>Pizza Blanca</td>\n",
       "      <td>Mios Pizzeria</td>\n",
       "      <td>45209</td>\n",
       "      <td>USD</td>\n",
       "      <td>0</td>\n",
       "      <td>25</td>\n",
       "      <td>OH</td>\n",
       "    </tr>\n",
       "    <tr>\n",
       "      <td>3</td>\n",
       "      <td>AVwdX4psIN2L1WUfvJB1</td>\n",
       "      <td>2016-03-29T05:08:59Z</td>\n",
       "      <td>Pizza,Carry-out food,Pizza Place,Restaurants</td>\n",
       "      <td>Accommodation &amp; Food Services</td>\n",
       "      <td>Madison Heights</td>\n",
       "      <td>US</td>\n",
       "      <td>us/mi/madisonheights/30495johnrrd/-874863116</td>\n",
       "      <td>42.516669</td>\n",
       "      <td>-83.106630</td>\n",
       "      <td>NaN</td>\n",
       "      <td>...</td>\n",
       "      <td>USD</td>\n",
       "      <td>2016-10-20T21:50:02Z,2016-03-29T05:08:59Z</td>\n",
       "      <td>NaN</td>\n",
       "      <td>Small Pizza</td>\n",
       "      <td>Hungry Howies Pizza</td>\n",
       "      <td>48071</td>\n",
       "      <td>USD</td>\n",
       "      <td>25</td>\n",
       "      <td>40</td>\n",
       "      <td>MI</td>\n",
       "    </tr>\n",
       "    <tr>\n",
       "      <td>4</td>\n",
       "      <td>AVwdaeTtkufWRAb55pSH</td>\n",
       "      <td>2016-03-31T02:34:04Z</td>\n",
       "      <td>Pizza,American restaurants,Pizza Place,Pizza e...</td>\n",
       "      <td>Accommodation &amp; Food Services</td>\n",
       "      <td>Baltimore</td>\n",
       "      <td>US</td>\n",
       "      <td>us/md/baltimore/3600easternave/-1270965359</td>\n",
       "      <td>39.286630</td>\n",
       "      <td>-76.566984</td>\n",
       "      <td>NaN</td>\n",
       "      <td>...</td>\n",
       "      <td>USD</td>\n",
       "      <td>2016-03-31T02:34:04Z</td>\n",
       "      <td>NaN</td>\n",
       "      <td>Pizza Sub</td>\n",
       "      <td>Spartan Pizzeria</td>\n",
       "      <td>21224</td>\n",
       "      <td>USD</td>\n",
       "      <td>0</td>\n",
       "      <td>25</td>\n",
       "      <td>MD</td>\n",
       "    </tr>\n",
       "  </tbody>\n",
       "</table>\n",
       "<p>5 rows × 22 columns</p>\n",
       "</div>"
      ],
      "text/plain": [
       "                     id             dateAdded  \\\n",
       "0  AVz3Y-7h3D1zeR_xDAqm  2017-06-30T05:05:40Z   \n",
       "1  AVweGPFF_7pvs4fzAAzQ  2016-04-02T04:02:49Z   \n",
       "2  AVwdRGa9_7pvs4fz4E3K  2016-03-03T18:39:49Z   \n",
       "3  AVwdX4psIN2L1WUfvJB1  2016-03-29T05:08:59Z   \n",
       "4  AVwdaeTtkufWRAb55pSH  2016-03-31T02:34:04Z   \n",
       "\n",
       "                                          categories  \\\n",
       "0  Pizza,Restaurant,American restaurants,Pizza Pl...   \n",
       "1                      Pizza,Pizza Place,Restaurants   \n",
       "2                 Restaurant,Pizza Place,Restaurants   \n",
       "3       Pizza,Carry-out food,Pizza Place,Restaurants   \n",
       "4  Pizza,American restaurants,Pizza Place,Pizza e...   \n",
       "\n",
       "               primaryCategories             city country  \\\n",
       "0  Accommodation & Food Services         Sherwood      US   \n",
       "1  Accommodation & Food Services          Phoenix      US   \n",
       "2  Accommodation & Food Services       Cincinnati      US   \n",
       "3  Accommodation & Food Services  Madison Heights      US   \n",
       "4  Accommodation & Food Services        Baltimore      US   \n",
       "\n",
       "                                           keys   latitude   longitude  \\\n",
       "0      us/ar/sherwood/4203ekiehlave/-1051391616  34.832300  -92.183800   \n",
       "1       us/az/phoenix/25ecamelbackrd/-727422936  33.509266 -112.073044   \n",
       "2     us/oh/cincinnati/3703paxtonave/-619797122  39.144883  -84.432685   \n",
       "3  us/mi/madisonheights/30495johnrrd/-874863116  42.516669  -83.106630   \n",
       "4    us/md/baltimore/3600easternave/-1270965359  39.286630  -76.566984   \n",
       "\n",
       "                                         menuPageURL  ...  menus.currency  \\\n",
       "0  http://www.citysearch.com/profile/menu/1550074...  ...             USD   \n",
       "1                                                NaN  ...             USD   \n",
       "2  http://www.citysearch.com/profile/menu/8160503...  ...             USD   \n",
       "3                                                NaN  ...             USD   \n",
       "4                                                NaN  ...             USD   \n",
       "\n",
       "                                      menus.dateSeen  \\\n",
       "0  2018-05-01T04:25:37.197Z,2018-04-16T04:36:02.3...   \n",
       "1  2018-03-03T02:38:06.381Z,2018-01-18T20:18:10.0...   \n",
       "2  2018-04-10T07:58:34.585Z,2018-04-21T05:43:21.4...   \n",
       "3          2016-10-20T21:50:02Z,2016-03-29T05:08:59Z   \n",
       "4                               2016-03-31T02:34:04Z   \n",
       "\n",
       "                                   menus.description    menus.name  \\\n",
       "0                                                NaN  Cheese Pizza   \n",
       "1                                                NaN  Pizza Cookie   \n",
       "2  a saucelessampcomma double cheese pizza with a...  Pizza Blanca   \n",
       "3                                                NaN   Small Pizza   \n",
       "4                                                NaN     Pizza Sub   \n",
       "\n",
       "                  name postalCode priceRangeCurrency priceRangeMin  \\\n",
       "0   Shotgun Dans Pizza      72120                USD             0   \n",
       "1     Sauce Pizza Wine      85012                USD             0   \n",
       "2        Mios Pizzeria      45209                USD             0   \n",
       "3  Hungry Howies Pizza      48071                USD            25   \n",
       "4     Spartan Pizzeria      21224                USD             0   \n",
       "\n",
       "  priceRangeMax  province  \n",
       "0            25        AR  \n",
       "1            25        AZ  \n",
       "2            25        OH  \n",
       "3            40        MI  \n",
       "4            25        MD  \n",
       "\n",
       "[5 rows x 22 columns]"
      ]
     },
     "execution_count": 9,
     "metadata": {},
     "output_type": "execute_result"
    }
   ],
   "source": [
    "pizza.head()"
   ]
  },
  {
   "cell_type": "code",
   "execution_count": 10,
   "metadata": {
    "pycharm": {
     "name": "#%%\n"
    }
   },
   "outputs": [],
   "source": [
    "\n",
    "pizza['pizzeria_name_len'] = pizza.name.apply(lambda x:len(x) )"
   ]
  },
  {
   "cell_type": "code",
   "execution_count": 11,
   "metadata": {
    "pycharm": {
     "name": "#%%\n"
    }
   },
   "outputs": [
    {
     "data": {
      "text/html": [
       "<div>\n",
       "<style scoped>\n",
       "    .dataframe tbody tr th:only-of-type {\n",
       "        vertical-align: middle;\n",
       "    }\n",
       "\n",
       "    .dataframe tbody tr th {\n",
       "        vertical-align: top;\n",
       "    }\n",
       "\n",
       "    .dataframe thead th {\n",
       "        text-align: right;\n",
       "    }\n",
       "</style>\n",
       "<table border=\"1\" class=\"dataframe\">\n",
       "  <thead>\n",
       "    <tr style=\"text-align: right;\">\n",
       "      <th></th>\n",
       "      <th>menus.description</th>\n",
       "      <th>menus.name</th>\n",
       "    </tr>\n",
       "  </thead>\n",
       "  <tbody>\n",
       "    <tr>\n",
       "      <td>0</td>\n",
       "      <td>NaN</td>\n",
       "      <td>Cheese Pizza</td>\n",
       "    </tr>\n",
       "    <tr>\n",
       "      <td>1</td>\n",
       "      <td>NaN</td>\n",
       "      <td>Pizza Cookie</td>\n",
       "    </tr>\n",
       "    <tr>\n",
       "      <td>2</td>\n",
       "      <td>a saucelessampcomma double cheese pizza with a...</td>\n",
       "      <td>Pizza Blanca</td>\n",
       "    </tr>\n",
       "    <tr>\n",
       "      <td>3</td>\n",
       "      <td>NaN</td>\n",
       "      <td>Small Pizza</td>\n",
       "    </tr>\n",
       "    <tr>\n",
       "      <td>4</td>\n",
       "      <td>NaN</td>\n",
       "      <td>Pizza Sub</td>\n",
       "    </tr>\n",
       "    <tr>\n",
       "      <td>...</td>\n",
       "      <td>...</td>\n",
       "      <td>...</td>\n",
       "    </tr>\n",
       "    <tr>\n",
       "      <td>9995</td>\n",
       "      <td>NaN</td>\n",
       "      <td>Super Steak Pizza</td>\n",
       "    </tr>\n",
       "    <tr>\n",
       "      <td>9996</td>\n",
       "      <td>NaN</td>\n",
       "      <td>Large Cheese &amp; 1 Item Pizza</td>\n",
       "    </tr>\n",
       "    <tr>\n",
       "      <td>9997</td>\n",
       "      <td>NaN</td>\n",
       "      <td>Individual 6\" Pepperoni Stuffed Deep Dish Pizza</td>\n",
       "    </tr>\n",
       "    <tr>\n",
       "      <td>9998</td>\n",
       "      <td>NaN</td>\n",
       "      <td>Individual 6\" Cheese Stuffed Deep Dish Pizza</td>\n",
       "    </tr>\n",
       "    <tr>\n",
       "      <td>9999</td>\n",
       "      <td>NaN</td>\n",
       "      <td>King Arthur's Supreme Pizza</td>\n",
       "    </tr>\n",
       "  </tbody>\n",
       "</table>\n",
       "<p>10000 rows × 2 columns</p>\n",
       "</div>"
      ],
      "text/plain": [
       "                                      menus.description  \\\n",
       "0                                                   NaN   \n",
       "1                                                   NaN   \n",
       "2     a saucelessampcomma double cheese pizza with a...   \n",
       "3                                                   NaN   \n",
       "4                                                   NaN   \n",
       "...                                                 ...   \n",
       "9995                                                NaN   \n",
       "9996                                                NaN   \n",
       "9997                                                NaN   \n",
       "9998                                                NaN   \n",
       "9999                                                NaN   \n",
       "\n",
       "                                           menus.name  \n",
       "0                                        Cheese Pizza  \n",
       "1                                        Pizza Cookie  \n",
       "2                                        Pizza Blanca  \n",
       "3                                         Small Pizza  \n",
       "4                                           Pizza Sub  \n",
       "...                                               ...  \n",
       "9995                                Super Steak Pizza  \n",
       "9996                      Large Cheese & 1 Item Pizza  \n",
       "9997  Individual 6\" Pepperoni Stuffed Deep Dish Pizza  \n",
       "9998     Individual 6\" Cheese Stuffed Deep Dish Pizza  \n",
       "9999                      King Arthur's Supreme Pizza  \n",
       "\n",
       "[10000 rows x 2 columns]"
      ]
     },
     "execution_count": 11,
     "metadata": {},
     "output_type": "execute_result"
    }
   ],
   "source": [
    "pizza[['menus.description', 'menus.name']]"
   ]
  },
  {
   "cell_type": "code",
   "execution_count": 12,
   "metadata": {
    "pycharm": {
     "name": "#%%\n"
    }
   },
   "outputs": [
    {
     "data": {
      "text/plain": [
       "1827"
      ]
     },
     "execution_count": 12,
     "metadata": {},
     "output_type": "execute_result"
    }
   ],
   "source": [
    "# Количество уникальных значений в колонке\n",
    "pizza.name.nunique()"
   ]
  },
  {
   "cell_type": "code",
   "execution_count": 13,
   "metadata": {
    "pycharm": {
     "name": "#%%\n"
    }
   },
   "outputs": [
    {
     "data": {
      "text/plain": [
       "array(['Shotgun Dans Pizza', 'Sauce Pizza Wine', 'Mios Pizzeria', ...,\n",
       "       'Bella Italia', 'Wood and Fire', \"Carbone's Pizzeria\"],\n",
       "      dtype=object)"
      ]
     },
     "execution_count": 13,
     "metadata": {},
     "output_type": "execute_result"
    }
   ],
   "source": [
    "# Уникальные значения в колонке\n",
    "pizza.name.unique()"
   ]
  },
  {
   "cell_type": "code",
   "execution_count": 14,
   "metadata": {
    "pycharm": {
     "name": "#%%\n"
    }
   },
   "outputs": [
    {
     "data": {
      "text/plain": [
       "0       AR\n",
       "1       AZ\n",
       "2       OH\n",
       "3       MI\n",
       "4       MD\n",
       "        ..\n",
       "9995    NY\n",
       "9996    NY\n",
       "9997    IL\n",
       "9998    IL\n",
       "9999    NV\n",
       "Name: province, Length: 10000, dtype: object"
      ]
     },
     "execution_count": 14,
     "metadata": {},
     "output_type": "execute_result"
    }
   ],
   "source": [
    "pizza.province"
   ]
  },
  {
   "cell_type": "code",
   "execution_count": 15,
   "metadata": {
    "pycharm": {
     "name": "#%%\n"
    }
   },
   "outputs": [],
   "source": [
    "pizzaz_by_province = pizza.groupby('province')['name'].nunique()"
   ]
  },
  {
   "cell_type": "code",
   "execution_count": 16,
   "metadata": {
    "pycharm": {
     "name": "#%%\n"
    }
   },
   "outputs": [],
   "source": [
    "# Группируем с помощью groupby\n",
    "# количество уникальных названий по регионам \n",
    "pizzaz_by_province = pizza.groupby(['province'])['name'].nunique().reset_index()"
   ]
  },
  {
   "cell_type": "code",
   "execution_count": 17,
   "metadata": {
    "pycharm": {
     "name": "#%%\n"
    }
   },
   "outputs": [],
   "source": [
    "# pizzaz_by_province"
   ]
  },
  {
   "cell_type": "code",
   "execution_count": 18,
   "metadata": {
    "pycharm": {
     "name": "#%%\n"
    }
   },
   "outputs": [
    {
     "data": {
      "text/plain": [
       "Index(['province', 'name'], dtype='object')"
      ]
     },
     "execution_count": 18,
     "metadata": {},
     "output_type": "execute_result"
    }
   ],
   "source": [
    "# проверяем названия колонок\n",
    "pizzaz_by_province.columns"
   ]
  },
  {
   "cell_type": "code",
   "execution_count": 19,
   "metadata": {
    "pycharm": {
     "name": "#%%\n"
    }
   },
   "outputs": [],
   "source": [
    "# Меняем названия на те что нам нравятся\n",
    "pizzaz_by_province.columns = ['province','quantity']"
   ]
  },
  {
   "cell_type": "code",
   "execution_count": 20,
   "metadata": {
    "pycharm": {
     "name": "#%%\n"
    }
   },
   "outputs": [],
   "source": [
    "pizzaz_by_province = pizzaz_by_province.rename(columns={'name':'quantity'},\n",
    "                          # inplace=True\n",
    "                          )"
   ]
  },
  {
   "cell_type": "code",
   "execution_count": 21,
   "metadata": {
    "pycharm": {
     "name": "#%%\n"
    }
   },
   "outputs": [],
   "source": [
    "pizzaz_by_province.rename(columns={'name':'quantity'},\n",
    "                          inplace=True\n",
    "                          )"
   ]
  },
  {
   "cell_type": "code",
   "execution_count": 22,
   "metadata": {
    "pycharm": {
     "name": "#%%\n"
    }
   },
   "outputs": [],
   "source": [
    "# pizzaz_by_province"
   ]
  },
  {
   "cell_type": "code",
   "execution_count": 23,
   "metadata": {
    "pycharm": {
     "name": "#%%\n"
    }
   },
   "outputs": [],
   "source": [
    "# Сортируем по полю quantity\n",
    "pizzaz_by_province = pizzaz_by_province.sort_values(by=['quantity'], ascending=[False])"
   ]
  },
  {
   "cell_type": "code",
   "execution_count": 24,
   "metadata": {
    "pycharm": {
     "name": "#%%\n"
    }
   },
   "outputs": [],
   "source": [
    "# Размечаем те регионы, где много пиццерий с помощью numpy\n",
    "pizzaz_by_province['many_or_not_many_pd'] = np.where(pizzaz_by_province['quantity']> 100,1,0)"
   ]
  },
  {
   "cell_type": "code",
   "execution_count": 25,
   "metadata": {
    "pycharm": {
     "name": "#%%\n"
    }
   },
   "outputs": [
    {
     "data": {
      "text/plain": [
       "array([1, 1, 1, 1, 1, 1, 0, 0, 0, 0, 0, 0, 0, 0, 0, 0, 0, 0, 0, 0, 0, 0,\n",
       "       0, 0, 0, 0, 0, 0, 0, 0, 0, 0, 0, 0, 0, 0, 0, 0, 0, 0, 0, 0, 0, 0])"
      ]
     },
     "execution_count": 25,
     "metadata": {},
     "output_type": "execute_result"
    }
   ],
   "source": [
    "np.where(pizzaz_by_province['quantity']> 100,1,0)"
   ]
  },
  {
   "cell_type": "code",
   "execution_count": 26,
   "metadata": {
    "pycharm": {
     "name": "#%%\n"
    }
   },
   "outputs": [
    {
     "data": {
      "text/plain": [
       "30     True\n",
       "4      True\n",
       "34     True\n",
       "8      True\n",
       "38     True\n",
       "13     True\n",
       "31    False\n",
       "19    False\n",
       "24    False\n",
       "9     False\n",
       "40    False\n",
       "14    False\n",
       "3     False\n",
       "41    False\n",
       "5     False\n",
       "18    False\n",
       "42    False\n",
       "21    False\n",
       "33    False\n",
       "35    False\n",
       "37    False\n",
       "20    False\n",
       "16    False\n",
       "29    False\n",
       "39    False\n",
       "11    False\n",
       "15    False\n",
       "32    False\n",
       "28    False\n",
       "17    False\n",
       "2     False\n",
       "26    False\n",
       "7     False\n",
       "22    False\n",
       "43    False\n",
       "12    False\n",
       "1     False\n",
       "0     False\n",
       "36    False\n",
       "27    False\n",
       "25    False\n",
       "23    False\n",
       "10    False\n",
       "6     False\n",
       "Name: quantity, dtype: bool"
      ]
     },
     "execution_count": 26,
     "metadata": {},
     "output_type": "execute_result"
    }
   ],
   "source": [
    "pizzaz_by_province['quantity'] > 100"
   ]
  },
  {
   "cell_type": "code",
   "execution_count": 27,
   "metadata": {
    "pycharm": {
     "name": "#%%\n"
    }
   },
   "outputs": [
    {
     "name": "stderr",
     "output_type": "stream",
     "text": [
      "C:\\Users\\mikha\\Anaconda3\\lib\\site-packages\\ipykernel_launcher.py:1: SettingWithCopyWarning: \n",
      "A value is trying to be set on a copy of a slice from a DataFrame.\n",
      "Try using .loc[row_indexer,col_indexer] = value instead\n",
      "\n",
      "See the caveats in the documentation: http://pandas.pydata.org/pandas-docs/stable/user_guide/indexing.html#returning-a-view-versus-a-copy\n",
      "  \"\"\"Entry point for launching an IPython kernel.\n"
     ]
    }
   ],
   "source": [
    "pizzaz_by_province[pizzaz_by_province['quantity'] > 100]['many_or_not_many_pd'] = 1"
   ]
  },
  {
   "cell_type": "code",
   "execution_count": 28,
   "metadata": {
    "pycharm": {
     "name": "#%%\n"
    }
   },
   "outputs": [],
   "source": [
    "# Размечаем те регионы, где много пиццерий с помощью pandas\n",
    "\n",
    "# Неправильный вариант\n",
    "# pizzaz_by_province[pizzaz_by_province['quantity'] > 100]['many_or_not_many_pd'] = 1\n",
    "# pizzaz_by_province[pizzaz_by_province['quantity'] <=100]['many_or_not_many_pd'] = 0\n",
    "\n",
    "# Правильный вариант\n",
    "pizzaz_by_province['less_10'] = 0\n",
    "pizzaz_by_province.loc[pizzaz_by_province['quantity'] < 10, 'less_10' ] = 1"
   ]
  },
  {
   "cell_type": "code",
   "execution_count": 29,
   "metadata": {
    "pycharm": {
     "name": "#%%\n"
    }
   },
   "outputs": [],
   "source": [
    "less_10_provinces = pizzaz_by_province.loc[pizzaz_by_province['quantity'] < 10, 'province' ].tolist()"
   ]
  },
  {
   "cell_type": "code",
   "execution_count": 30,
   "metadata": {
    "pycharm": {
     "name": "#%%\n"
    }
   },
   "outputs": [
    {
     "data": {
      "text/plain": [
       "['NE', 'DE', 'MS', 'WV', 'ID', 'AL', 'AK', 'SD', 'NJ', 'ND', 'MT', 'HI', 'CT']"
      ]
     },
     "execution_count": 30,
     "metadata": {},
     "output_type": "execute_result"
    }
   ],
   "source": [
    "less_10_provinces"
   ]
  },
  {
   "cell_type": "code",
   "execution_count": 31,
   "metadata": {
    "pycharm": {
     "name": "#%%\n"
    }
   },
   "outputs": [
    {
     "data": {
      "text/plain": [
       "30    0.0\n",
       "4     0.0\n",
       "34    0.0\n",
       "8     0.0\n",
       "38    0.0\n",
       "13    0.0\n",
       "31    0.0\n",
       "19    0.0\n",
       "24    0.0\n",
       "9     0.0\n",
       "40    0.0\n",
       "14    0.0\n",
       "3     0.0\n",
       "41    0.0\n",
       "5     0.0\n",
       "18    0.0\n",
       "42    0.0\n",
       "21    0.0\n",
       "33    0.0\n",
       "35    0.0\n",
       "37    0.0\n",
       "20    0.0\n",
       "16    0.0\n",
       "29    0.0\n",
       "39    0.0\n",
       "11    0.0\n",
       "15    0.0\n",
       "32    0.0\n",
       "28    0.0\n",
       "17    0.0\n",
       "2     0.0\n",
       "26    1.0\n",
       "7     1.0\n",
       "22    1.0\n",
       "43    1.0\n",
       "12    1.0\n",
       "1     1.0\n",
       "0     1.0\n",
       "36    1.0\n",
       "27    1.0\n",
       "25    1.0\n",
       "23    1.0\n",
       "10    1.0\n",
       "6     1.0\n",
       "Name: less_10, dtype: float64"
      ]
     },
     "execution_count": 31,
     "metadata": {},
     "output_type": "execute_result"
    }
   ],
   "source": [
    "# Меняем тип данных в колонке\n",
    "pizzaz_by_province.less_10.astype(float)"
   ]
  },
  {
   "cell_type": "code",
   "execution_count": 32,
   "metadata": {
    "pycharm": {
     "name": "#%%\n"
    }
   },
   "outputs": [],
   "source": [
    "# Рассчитываем сумму или среднее значение по колонке"
   ]
  },
  {
   "cell_type": "code",
   "execution_count": 33,
   "metadata": {
    "pycharm": {
     "name": "#%%\n"
    }
   },
   "outputs": [
    {
     "data": {
      "text/plain": [
       "30    3.95%\n",
       "4     2.19%\n",
       "34    1.72%\n",
       "8     1.45%\n",
       "38    1.17%\n",
       "13    1.11%\n",
       "31    0.82%\n",
       "19    0.79%\n",
       "24    0.62%\n",
       "9     0.53%\n",
       "40    0.52%\n",
       "14    0.52%\n",
       "3      0.5%\n",
       "41    0.49%\n",
       "5     0.35%\n",
       "18    0.32%\n",
       "42    0.32%\n",
       "21    0.28%\n",
       "33    0.28%\n",
       "35    0.26%\n",
       "37    0.25%\n",
       "20    0.23%\n",
       "16    0.21%\n",
       "29    0.19%\n",
       "39    0.15%\n",
       "11    0.15%\n",
       "15    0.12%\n",
       "32    0.11%\n",
       "28    0.11%\n",
       "17     0.1%\n",
       "2      0.1%\n",
       "26    0.09%\n",
       "7     0.07%\n",
       "22    0.07%\n",
       "43    0.06%\n",
       "12    0.04%\n",
       "1     0.03%\n",
       "0     0.03%\n",
       "36    0.02%\n",
       "27    0.01%\n",
       "25    0.01%\n",
       "23    0.01%\n",
       "10    0.01%\n",
       "6     0.01%\n",
       "Name: quantity, dtype: object"
      ]
     },
     "execution_count": 33,
     "metadata": {},
     "output_type": "execute_result"
    }
   ],
   "source": [
    "pizzaz_by_province.quantity.mul(10).divide(1000).round(2).astype(str) + '%'"
   ]
  },
  {
   "cell_type": "code",
   "execution_count": 34,
   "metadata": {
    "pycharm": {
     "name": "#%%\n"
    }
   },
   "outputs": [],
   "source": [
    "# Применение функции к элекментам колонки"
   ]
  },
  {
   "cell_type": "code",
   "execution_count": 35,
   "metadata": {
    "pycharm": {
     "name": "#%%\n"
    }
   },
   "outputs": [],
   "source": [
    "def qdevtwo(x):\n",
    "    if int(x) % 2 == 0:\n",
    "        return 1\n",
    "    else:\n",
    "        return 0\n",
    "        \n",
    "pizzaz_by_province['dev2'] = pizzaz_by_province.quantity.apply(lambda x: qdevtwo(x))"
   ]
  },
  {
   "cell_type": "code",
   "execution_count": 36,
   "metadata": {
    "pycharm": {
     "name": "#%%\n"
    }
   },
   "outputs": [],
   "source": [
    "pizzaz_by_province['dev2'] = pizzaz_by_province.quantity.apply(qdevtwo)"
   ]
  },
  {
   "cell_type": "code",
   "execution_count": 37,
   "metadata": {
    "pycharm": {
     "name": "#%%\n"
    }
   },
   "outputs": [
    {
     "data": {
      "text/html": [
       "<div>\n",
       "<style scoped>\n",
       "    .dataframe tbody tr th:only-of-type {\n",
       "        vertical-align: middle;\n",
       "    }\n",
       "\n",
       "    .dataframe tbody tr th {\n",
       "        vertical-align: top;\n",
       "    }\n",
       "\n",
       "    .dataframe thead th {\n",
       "        text-align: right;\n",
       "    }\n",
       "</style>\n",
       "<table border=\"1\" class=\"dataframe\">\n",
       "  <thead>\n",
       "    <tr style=\"text-align: right;\">\n",
       "      <th></th>\n",
       "      <th>province</th>\n",
       "      <th>quantity</th>\n",
       "      <th>many_or_not_many_pd</th>\n",
       "      <th>less_10</th>\n",
       "      <th>dev2</th>\n",
       "    </tr>\n",
       "  </thead>\n",
       "  <tbody>\n",
       "    <tr>\n",
       "      <td>30</td>\n",
       "      <td>NY</td>\n",
       "      <td>395</td>\n",
       "      <td>1</td>\n",
       "      <td>0</td>\n",
       "      <td>0</td>\n",
       "    </tr>\n",
       "    <tr>\n",
       "      <td>4</td>\n",
       "      <td>CA</td>\n",
       "      <td>219</td>\n",
       "      <td>1</td>\n",
       "      <td>0</td>\n",
       "      <td>0</td>\n",
       "    </tr>\n",
       "    <tr>\n",
       "      <td>34</td>\n",
       "      <td>PA</td>\n",
       "      <td>172</td>\n",
       "      <td>1</td>\n",
       "      <td>0</td>\n",
       "      <td>1</td>\n",
       "    </tr>\n",
       "  </tbody>\n",
       "</table>\n",
       "</div>"
      ],
      "text/plain": [
       "   province  quantity  many_or_not_many_pd  less_10  dev2\n",
       "30       NY       395                    1        0     0\n",
       "4        CA       219                    1        0     0\n",
       "34       PA       172                    1        0     1"
      ]
     },
     "execution_count": 37,
     "metadata": {},
     "output_type": "execute_result"
    }
   ],
   "source": [
    "pizzaz_by_province.head(3)"
   ]
  },
  {
   "cell_type": "code",
   "execution_count": 38,
   "metadata": {
    "pycharm": {
     "name": "#%%\n"
    }
   },
   "outputs": [
    {
     "data": {
      "text/plain": [
       "province                CA\n",
       "quantity               219\n",
       "many_or_not_many_pd      1\n",
       "less_10                  0\n",
       "dev2                     0\n",
       "Name: 4, dtype: object"
      ]
     },
     "execution_count": 38,
     "metadata": {},
     "output_type": "execute_result"
    }
   ],
   "source": [
    "pizzaz_by_province.iloc[1,:]"
   ]
  },
  {
   "cell_type": "code",
   "execution_count": null,
   "metadata": {
    "pycharm": {
     "name": "#%%\n"
    }
   },
   "outputs": [],
   "source": []
  },
  {
   "cell_type": "code",
   "execution_count": null,
   "metadata": {
    "pycharm": {
     "name": "#%%\n"
    }
   },
   "outputs": [],
   "source": []
  },
  {
   "cell_type": "code",
   "execution_count": null,
   "metadata": {
    "pycharm": {
     "name": "#%%\n"
    }
   },
   "outputs": [],
   "source": []
  },
  {
   "cell_type": "code",
   "execution_count": 39,
   "metadata": {
    "pycharm": {
     "name": "#%%\n"
    }
   },
   "outputs": [],
   "source": [
    "# Альтернативный вариант\n",
    "dev2list = []\n",
    "for i in range(pizzaz_by_province.shape[0]):\n",
    "    val =  pizzaz_by_province.iloc[i,1]\n",
    "    dev2list.append(qdevtwo(val))\n",
    "\n",
    "pizzaz_by_province['dev2_loop'] = dev2list"
   ]
  },
  {
   "cell_type": "code",
   "execution_count": 40,
   "metadata": {
    "pycharm": {
     "name": "#%%\n"
    }
   },
   "outputs": [
    {
     "data": {
      "text/html": [
       "<div>\n",
       "<style scoped>\n",
       "    .dataframe tbody tr th:only-of-type {\n",
       "        vertical-align: middle;\n",
       "    }\n",
       "\n",
       "    .dataframe tbody tr th {\n",
       "        vertical-align: top;\n",
       "    }\n",
       "\n",
       "    .dataframe thead th {\n",
       "        text-align: right;\n",
       "    }\n",
       "</style>\n",
       "<table border=\"1\" class=\"dataframe\">\n",
       "  <thead>\n",
       "    <tr style=\"text-align: right;\">\n",
       "      <th></th>\n",
       "      <th>province</th>\n",
       "      <th>quantity</th>\n",
       "      <th>many_or_not_many_pd</th>\n",
       "      <th>less_10</th>\n",
       "      <th>dev2</th>\n",
       "      <th>dev2_loop</th>\n",
       "    </tr>\n",
       "  </thead>\n",
       "  <tbody>\n",
       "    <tr>\n",
       "      <td>30</td>\n",
       "      <td>NY</td>\n",
       "      <td>395</td>\n",
       "      <td>1</td>\n",
       "      <td>0</td>\n",
       "      <td>0</td>\n",
       "      <td>0</td>\n",
       "    </tr>\n",
       "    <tr>\n",
       "      <td>4</td>\n",
       "      <td>CA</td>\n",
       "      <td>219</td>\n",
       "      <td>1</td>\n",
       "      <td>0</td>\n",
       "      <td>0</td>\n",
       "      <td>0</td>\n",
       "    </tr>\n",
       "    <tr>\n",
       "      <td>34</td>\n",
       "      <td>PA</td>\n",
       "      <td>172</td>\n",
       "      <td>1</td>\n",
       "      <td>0</td>\n",
       "      <td>1</td>\n",
       "      <td>1</td>\n",
       "    </tr>\n",
       "    <tr>\n",
       "      <td>8</td>\n",
       "      <td>FL</td>\n",
       "      <td>145</td>\n",
       "      <td>1</td>\n",
       "      <td>0</td>\n",
       "      <td>0</td>\n",
       "      <td>0</td>\n",
       "    </tr>\n",
       "    <tr>\n",
       "      <td>38</td>\n",
       "      <td>TX</td>\n",
       "      <td>117</td>\n",
       "      <td>1</td>\n",
       "      <td>0</td>\n",
       "      <td>0</td>\n",
       "      <td>0</td>\n",
       "    </tr>\n",
       "  </tbody>\n",
       "</table>\n",
       "</div>"
      ],
      "text/plain": [
       "   province  quantity  many_or_not_many_pd  less_10  dev2  dev2_loop\n",
       "30       NY       395                    1        0     0          0\n",
       "4        CA       219                    1        0     0          0\n",
       "34       PA       172                    1        0     1          1\n",
       "8        FL       145                    1        0     0          0\n",
       "38       TX       117                    1        0     0          0"
      ]
     },
     "execution_count": 40,
     "metadata": {},
     "output_type": "execute_result"
    }
   ],
   "source": [
    "pizzaz_by_province.head()"
   ]
  },
  {
   "cell_type": "code",
   "execution_count": 41,
   "metadata": {
    "pycharm": {
     "name": "#%%\n"
    }
   },
   "outputs": [
    {
     "data": {
      "text/plain": [
       "(10000, 23)"
      ]
     },
     "execution_count": 41,
     "metadata": {},
     "output_type": "execute_result"
    }
   ],
   "source": [
    "pizza.shape"
   ]
  },
  {
   "cell_type": "markdown",
   "metadata": {
    "pycharm": {
     "name": "#%% md\n"
    }
   },
   "source": [
    "# Практическое задание"
   ]
  },
  {
   "cell_type": "code",
   "execution_count": 42,
   "metadata": {
    "pycharm": {
     "name": "#%%\n"
    }
   },
   "outputs": [],
   "source": [
    "#1. Взять датасет c пицериями и ублать лишние колонки :\n",
    "to_delete = [ 'dateAdded', 'keys',\n",
    " 'latitude', 'longitude','menuPageURL', 'menus.amountMax',\n",
    " 'menus.amountMin', 'postalCode', 'priceRangeCurrency']"
   ]
  },
  {
   "cell_type": "code",
   "execution_count": 43,
   "metadata": {
    "pycharm": {
     "name": "#%%\n"
    }
   },
   "outputs": [
    {
     "data": {
      "text/html": [
       "<div>\n",
       "<style scoped>\n",
       "    .dataframe tbody tr th:only-of-type {\n",
       "        vertical-align: middle;\n",
       "    }\n",
       "\n",
       "    .dataframe tbody tr th {\n",
       "        vertical-align: top;\n",
       "    }\n",
       "\n",
       "    .dataframe thead th {\n",
       "        text-align: right;\n",
       "    }\n",
       "</style>\n",
       "<table border=\"1\" class=\"dataframe\">\n",
       "  <thead>\n",
       "    <tr style=\"text-align: right;\">\n",
       "      <th></th>\n",
       "      <th>id</th>\n",
       "      <th>categories</th>\n",
       "      <th>primaryCategories</th>\n",
       "      <th>city</th>\n",
       "      <th>country</th>\n",
       "      <th>menus.currency</th>\n",
       "      <th>menus.dateSeen</th>\n",
       "      <th>menus.description</th>\n",
       "      <th>menus.name</th>\n",
       "      <th>name</th>\n",
       "      <th>priceRangeMin</th>\n",
       "      <th>priceRangeMax</th>\n",
       "      <th>province</th>\n",
       "      <th>pizzeria_name_len</th>\n",
       "    </tr>\n",
       "  </thead>\n",
       "  <tbody>\n",
       "    <tr>\n",
       "      <td>0</td>\n",
       "      <td>AVz3Y-7h3D1zeR_xDAqm</td>\n",
       "      <td>Pizza,Restaurant,American restaurants,Pizza Pl...</td>\n",
       "      <td>Accommodation &amp; Food Services</td>\n",
       "      <td>Sherwood</td>\n",
       "      <td>US</td>\n",
       "      <td>USD</td>\n",
       "      <td>2018-05-01T04:25:37.197Z,2018-04-16T04:36:02.3...</td>\n",
       "      <td>NaN</td>\n",
       "      <td>Cheese Pizza</td>\n",
       "      <td>Shotgun Dans Pizza</td>\n",
       "      <td>0</td>\n",
       "      <td>25</td>\n",
       "      <td>AR</td>\n",
       "      <td>18</td>\n",
       "    </tr>\n",
       "    <tr>\n",
       "      <td>1</td>\n",
       "      <td>AVweGPFF_7pvs4fzAAzQ</td>\n",
       "      <td>Pizza,Pizza Place,Restaurants</td>\n",
       "      <td>Accommodation &amp; Food Services</td>\n",
       "      <td>Phoenix</td>\n",
       "      <td>US</td>\n",
       "      <td>USD</td>\n",
       "      <td>2018-03-03T02:38:06.381Z,2018-01-18T20:18:10.0...</td>\n",
       "      <td>NaN</td>\n",
       "      <td>Pizza Cookie</td>\n",
       "      <td>Sauce Pizza Wine</td>\n",
       "      <td>0</td>\n",
       "      <td>25</td>\n",
       "      <td>AZ</td>\n",
       "      <td>16</td>\n",
       "    </tr>\n",
       "    <tr>\n",
       "      <td>2</td>\n",
       "      <td>AVwdRGa9_7pvs4fz4E3K</td>\n",
       "      <td>Restaurant,Pizza Place,Restaurants</td>\n",
       "      <td>Accommodation &amp; Food Services</td>\n",
       "      <td>Cincinnati</td>\n",
       "      <td>US</td>\n",
       "      <td>USD</td>\n",
       "      <td>2018-04-10T07:58:34.585Z,2018-04-21T05:43:21.4...</td>\n",
       "      <td>a saucelessampcomma double cheese pizza with a...</td>\n",
       "      <td>Pizza Blanca</td>\n",
       "      <td>Mios Pizzeria</td>\n",
       "      <td>0</td>\n",
       "      <td>25</td>\n",
       "      <td>OH</td>\n",
       "      <td>13</td>\n",
       "    </tr>\n",
       "    <tr>\n",
       "      <td>3</td>\n",
       "      <td>AVwdX4psIN2L1WUfvJB1</td>\n",
       "      <td>Pizza,Carry-out food,Pizza Place,Restaurants</td>\n",
       "      <td>Accommodation &amp; Food Services</td>\n",
       "      <td>Madison Heights</td>\n",
       "      <td>US</td>\n",
       "      <td>USD</td>\n",
       "      <td>2016-10-20T21:50:02Z,2016-03-29T05:08:59Z</td>\n",
       "      <td>NaN</td>\n",
       "      <td>Small Pizza</td>\n",
       "      <td>Hungry Howies Pizza</td>\n",
       "      <td>25</td>\n",
       "      <td>40</td>\n",
       "      <td>MI</td>\n",
       "      <td>19</td>\n",
       "    </tr>\n",
       "    <tr>\n",
       "      <td>4</td>\n",
       "      <td>AVwdaeTtkufWRAb55pSH</td>\n",
       "      <td>Pizza,American restaurants,Pizza Place,Pizza e...</td>\n",
       "      <td>Accommodation &amp; Food Services</td>\n",
       "      <td>Baltimore</td>\n",
       "      <td>US</td>\n",
       "      <td>USD</td>\n",
       "      <td>2016-03-31T02:34:04Z</td>\n",
       "      <td>NaN</td>\n",
       "      <td>Pizza Sub</td>\n",
       "      <td>Spartan Pizzeria</td>\n",
       "      <td>0</td>\n",
       "      <td>25</td>\n",
       "      <td>MD</td>\n",
       "      <td>16</td>\n",
       "    </tr>\n",
       "    <tr>\n",
       "      <td>...</td>\n",
       "      <td>...</td>\n",
       "      <td>...</td>\n",
       "      <td>...</td>\n",
       "      <td>...</td>\n",
       "      <td>...</td>\n",
       "      <td>...</td>\n",
       "      <td>...</td>\n",
       "      <td>...</td>\n",
       "      <td>...</td>\n",
       "      <td>...</td>\n",
       "      <td>...</td>\n",
       "      <td>...</td>\n",
       "      <td>...</td>\n",
       "      <td>...</td>\n",
       "    </tr>\n",
       "    <tr>\n",
       "      <td>9995</td>\n",
       "      <td>AVwdKXFYByjofQCxmIyZ</td>\n",
       "      <td>Pizza Place</td>\n",
       "      <td>Accommodation &amp; Food Services</td>\n",
       "      <td>Buffalo</td>\n",
       "      <td>US</td>\n",
       "      <td>USD</td>\n",
       "      <td>2017-12-11T12:44:00.000Z,2016-03-21T00:13:00.0...</td>\n",
       "      <td>NaN</td>\n",
       "      <td>Super Steak Pizza</td>\n",
       "      <td>Carbone's Pizzeria</td>\n",
       "      <td>0</td>\n",
       "      <td>25</td>\n",
       "      <td>NY</td>\n",
       "      <td>18</td>\n",
       "    </tr>\n",
       "    <tr>\n",
       "      <td>9996</td>\n",
       "      <td>AVwdKXFYByjofQCxmIyZ</td>\n",
       "      <td>Pizza Place</td>\n",
       "      <td>Accommodation &amp; Food Services</td>\n",
       "      <td>Buffalo</td>\n",
       "      <td>US</td>\n",
       "      <td>USD</td>\n",
       "      <td>2017-12-11T12:44:00.000Z</td>\n",
       "      <td>NaN</td>\n",
       "      <td>Large Cheese &amp; 1 Item Pizza</td>\n",
       "      <td>Carbone's Pizzeria</td>\n",
       "      <td>0</td>\n",
       "      <td>25</td>\n",
       "      <td>NY</td>\n",
       "      <td>18</td>\n",
       "    </tr>\n",
       "    <tr>\n",
       "      <td>9997</td>\n",
       "      <td>AVz6kzsQFcQ3k02bDhwQ</td>\n",
       "      <td>Pizza Place,Restaurants</td>\n",
       "      <td>Accommodation &amp; Food Services</td>\n",
       "      <td>Saint Charles</td>\n",
       "      <td>US</td>\n",
       "      <td>USD</td>\n",
       "      <td>2017-12-10T18:55:00.000Z,2017-10-28T21:52:00.000Z</td>\n",
       "      <td>NaN</td>\n",
       "      <td>Individual 6\" Pepperoni Stuffed Deep Dish Pizza</td>\n",
       "      <td>Giordano's Pizza</td>\n",
       "      <td>0</td>\n",
       "      <td>25</td>\n",
       "      <td>IL</td>\n",
       "      <td>16</td>\n",
       "    </tr>\n",
       "    <tr>\n",
       "      <td>9998</td>\n",
       "      <td>AVz6kzsQFcQ3k02bDhwQ</td>\n",
       "      <td>Pizza Place,Restaurants</td>\n",
       "      <td>Accommodation &amp; Food Services</td>\n",
       "      <td>Saint Charles</td>\n",
       "      <td>US</td>\n",
       "      <td>USD</td>\n",
       "      <td>2017-12-10T18:55:00.000Z,2017-10-28T21:52:00.000Z</td>\n",
       "      <td>NaN</td>\n",
       "      <td>Individual 6\" Cheese Stuffed Deep Dish Pizza</td>\n",
       "      <td>Giordano's Pizza</td>\n",
       "      <td>0</td>\n",
       "      <td>25</td>\n",
       "      <td>IL</td>\n",
       "      <td>16</td>\n",
       "    </tr>\n",
       "    <tr>\n",
       "      <td>9999</td>\n",
       "      <td>AVwdG9zTkufWRAb52Y2A</td>\n",
       "      <td>Pizza Place,Restaurant,Fast Food,Pizza</td>\n",
       "      <td>Accommodation &amp; Food Services</td>\n",
       "      <td>Las Vegas</td>\n",
       "      <td>US</td>\n",
       "      <td>USD</td>\n",
       "      <td>2017-12-08T19:07:00.000Z,2017-10-28T22:35:00.000Z</td>\n",
       "      <td>NaN</td>\n",
       "      <td>King Arthur's Supreme Pizza</td>\n",
       "      <td>Round Table Pizza</td>\n",
       "      <td>0</td>\n",
       "      <td>25</td>\n",
       "      <td>NV</td>\n",
       "      <td>17</td>\n",
       "    </tr>\n",
       "  </tbody>\n",
       "</table>\n",
       "<p>10000 rows × 14 columns</p>\n",
       "</div>"
      ],
      "text/plain": [
       "                        id                                         categories  \\\n",
       "0     AVz3Y-7h3D1zeR_xDAqm  Pizza,Restaurant,American restaurants,Pizza Pl...   \n",
       "1     AVweGPFF_7pvs4fzAAzQ                      Pizza,Pizza Place,Restaurants   \n",
       "2     AVwdRGa9_7pvs4fz4E3K                 Restaurant,Pizza Place,Restaurants   \n",
       "3     AVwdX4psIN2L1WUfvJB1       Pizza,Carry-out food,Pizza Place,Restaurants   \n",
       "4     AVwdaeTtkufWRAb55pSH  Pizza,American restaurants,Pizza Place,Pizza e...   \n",
       "...                    ...                                                ...   \n",
       "9995  AVwdKXFYByjofQCxmIyZ                                        Pizza Place   \n",
       "9996  AVwdKXFYByjofQCxmIyZ                                        Pizza Place   \n",
       "9997  AVz6kzsQFcQ3k02bDhwQ                            Pizza Place,Restaurants   \n",
       "9998  AVz6kzsQFcQ3k02bDhwQ                            Pizza Place,Restaurants   \n",
       "9999  AVwdG9zTkufWRAb52Y2A             Pizza Place,Restaurant,Fast Food,Pizza   \n",
       "\n",
       "                  primaryCategories             city country menus.currency  \\\n",
       "0     Accommodation & Food Services         Sherwood      US            USD   \n",
       "1     Accommodation & Food Services          Phoenix      US            USD   \n",
       "2     Accommodation & Food Services       Cincinnati      US            USD   \n",
       "3     Accommodation & Food Services  Madison Heights      US            USD   \n",
       "4     Accommodation & Food Services        Baltimore      US            USD   \n",
       "...                             ...              ...     ...            ...   \n",
       "9995  Accommodation & Food Services          Buffalo      US            USD   \n",
       "9996  Accommodation & Food Services          Buffalo      US            USD   \n",
       "9997  Accommodation & Food Services    Saint Charles      US            USD   \n",
       "9998  Accommodation & Food Services    Saint Charles      US            USD   \n",
       "9999  Accommodation & Food Services        Las Vegas      US            USD   \n",
       "\n",
       "                                         menus.dateSeen  \\\n",
       "0     2018-05-01T04:25:37.197Z,2018-04-16T04:36:02.3...   \n",
       "1     2018-03-03T02:38:06.381Z,2018-01-18T20:18:10.0...   \n",
       "2     2018-04-10T07:58:34.585Z,2018-04-21T05:43:21.4...   \n",
       "3             2016-10-20T21:50:02Z,2016-03-29T05:08:59Z   \n",
       "4                                  2016-03-31T02:34:04Z   \n",
       "...                                                 ...   \n",
       "9995  2017-12-11T12:44:00.000Z,2016-03-21T00:13:00.0...   \n",
       "9996                           2017-12-11T12:44:00.000Z   \n",
       "9997  2017-12-10T18:55:00.000Z,2017-10-28T21:52:00.000Z   \n",
       "9998  2017-12-10T18:55:00.000Z,2017-10-28T21:52:00.000Z   \n",
       "9999  2017-12-08T19:07:00.000Z,2017-10-28T22:35:00.000Z   \n",
       "\n",
       "                                      menus.description  \\\n",
       "0                                                   NaN   \n",
       "1                                                   NaN   \n",
       "2     a saucelessampcomma double cheese pizza with a...   \n",
       "3                                                   NaN   \n",
       "4                                                   NaN   \n",
       "...                                                 ...   \n",
       "9995                                                NaN   \n",
       "9996                                                NaN   \n",
       "9997                                                NaN   \n",
       "9998                                                NaN   \n",
       "9999                                                NaN   \n",
       "\n",
       "                                           menus.name                 name  \\\n",
       "0                                        Cheese Pizza   Shotgun Dans Pizza   \n",
       "1                                        Pizza Cookie     Sauce Pizza Wine   \n",
       "2                                        Pizza Blanca        Mios Pizzeria   \n",
       "3                                         Small Pizza  Hungry Howies Pizza   \n",
       "4                                           Pizza Sub     Spartan Pizzeria   \n",
       "...                                               ...                  ...   \n",
       "9995                                Super Steak Pizza   Carbone's Pizzeria   \n",
       "9996                      Large Cheese & 1 Item Pizza   Carbone's Pizzeria   \n",
       "9997  Individual 6\" Pepperoni Stuffed Deep Dish Pizza     Giordano's Pizza   \n",
       "9998     Individual 6\" Cheese Stuffed Deep Dish Pizza     Giordano's Pizza   \n",
       "9999                      King Arthur's Supreme Pizza    Round Table Pizza   \n",
       "\n",
       "      priceRangeMin  priceRangeMax province  pizzeria_name_len  \n",
       "0                 0             25       AR                 18  \n",
       "1                 0             25       AZ                 16  \n",
       "2                 0             25       OH                 13  \n",
       "3                25             40       MI                 19  \n",
       "4                 0             25       MD                 16  \n",
       "...             ...            ...      ...                ...  \n",
       "9995              0             25       NY                 18  \n",
       "9996              0             25       NY                 18  \n",
       "9997              0             25       IL                 16  \n",
       "9998              0             25       IL                 16  \n",
       "9999              0             25       NV                 17  \n",
       "\n",
       "[10000 rows x 14 columns]"
      ]
     },
     "execution_count": 43,
     "metadata": {},
     "output_type": "execute_result"
    }
   ],
   "source": [
    "# Ответ 1. Т.к. колонки могут понадобиться в следующих пунктах, сделаю копию df\n",
    "pizza_1 = pizza.copy(deep = True)\n",
    "pizza_1.drop(to_delete, axis=1)"
   ]
  },
  {
   "cell_type": "code",
   "execution_count": 44,
   "metadata": {
    "pycharm": {
     "name": "#%%\n"
    }
   },
   "outputs": [
    {
     "data": {
      "text/plain": [
       "array(['RU'], dtype=object)"
      ]
     },
     "execution_count": 44,
     "metadata": {},
     "output_type": "execute_result"
    }
   ],
   "source": [
    "# 2. Заменить значения в колонке country c US на RU\n",
    "pizza['country'].mask(pizza['country'] == 'US', 'RU', inplace = True)\n",
    "pizza['country'].unique()"
   ]
  },
  {
   "cell_type": "code",
   "execution_count": 45,
   "metadata": {
    "pycharm": {
     "name": "#%%\n"
    }
   },
   "outputs": [],
   "source": [
    "# 3. Добавить значения в колонке menus.currency RUB, а в тех регионах, где пицерий меньше 10 добавить BTC\n",
    "# Копирую код сверху\n",
    "pizzaz_by_province = pizza.groupby(['province'])['name'].nunique().reset_index()\n",
    "pizzaz_by_province.columns = ['province','quantity']\n",
    "pizzaz_by_province['less_10'] = 0\n",
    "pizzaz_by_province.loc[pizzaz_by_province['quantity'] < 10, 'less_10' ] = 1\n",
    "\n",
    "less_10_provinces = pizzaz_by_province.loc[pizzaz_by_province['quantity'] < 10, 'province' ].tolist()\n"
   ]
  },
  {
   "cell_type": "code",
   "execution_count": 46,
   "metadata": {
    "pycharm": {
     "name": "#%%\n"
    }
   },
   "outputs": [
    {
     "data": {
      "text/plain": [
       "array(['RUB', 'BTC'], dtype=object)"
      ]
     },
     "execution_count": 46,
     "metadata": {},
     "output_type": "execute_result"
    }
   ],
   "source": [
    "# А теперь присвоим новые значения и проверим результат\n",
    "\n",
    "pizza.loc[pizza.province.isin(less_10_provinces), 'menus.currency'] = 'BTC'\n",
    "pizza.loc[~pizza.province.isin(less_10_provinces), 'menus.currency'] = 'RUB'\n",
    "pizza['menus.currency'].unique()\n"
   ]
  },
  {
   "cell_type": "code",
   "execution_count": 47,
   "metadata": {
    "pycharm": {
     "name": "#%%\n"
    }
   },
   "outputs": [
    {
     "data": {
      "text/plain": [
       "7"
      ]
     },
     "execution_count": 47,
     "metadata": {},
     "output_type": "execute_result"
    }
   ],
   "source": [
    "# 4. Рассчитайте количество пицерий в городе 'Santa Barbara' в переменную sb_pizza_num\n",
    "sb_pizza_num = len(pizza[pizza['city'] == 'Santa Barbara'])\n",
    "sb_pizza_num\n",
    "\n",
    "## Идеал\n",
    "sb_pizza_num = np.sum(pizza.city == 'Santa Barbara')"
   ]
  },
  {
   "cell_type": "code",
   "execution_count": 48,
   "metadata": {
    "pycharm": {
     "name": "#%%\n"
    }
   },
   "outputs": [
    {
     "data": {
      "text/plain": [
       "1386"
      ]
     },
     "execution_count": 48,
     "metadata": {},
     "output_type": "execute_result"
    }
   ],
   "source": [
    "# 5. Рассчитайте количество пицерий в Калифорнии (province == CA) в ca_pizza_num\n",
    "ca_pizza_num = len(pizza[pizza['province'] == 'CA'])\n",
    "ca_pizza_num"
   ]
  },
  {
   "cell_type": "code",
   "execution_count": 49,
   "metadata": {
    "pycharm": {
     "name": "#%%\n"
    }
   },
   "outputs": [
    {
     "data": {
      "text/plain": [
       "0.005050505050505051"
      ]
     },
     "execution_count": 49,
     "metadata": {},
     "output_type": "execute_result"
    }
   ],
   "source": [
    "# 6. Рассчитайте и выведите долю 'Santa Barbara' в пицериях Калифорнии\n",
    "share = (sb_pizza_num/ca_pizza_num)\n",
    "share"
   ]
  },
  {
   "cell_type": "code",
   "execution_count": 50,
   "metadata": {
    "pycharm": {
     "name": "#%%\n"
    }
   },
   "outputs": [
    {
     "data": {
      "text/html": [
       "<div>\n",
       "<style scoped>\n",
       "    .dataframe tbody tr th:only-of-type {\n",
       "        vertical-align: middle;\n",
       "    }\n",
       "\n",
       "    .dataframe tbody tr th {\n",
       "        vertical-align: top;\n",
       "    }\n",
       "\n",
       "    .dataframe thead th {\n",
       "        text-align: right;\n",
       "    }\n",
       "</style>\n",
       "<table border=\"1\" class=\"dataframe\">\n",
       "  <thead>\n",
       "    <tr style=\"text-align: right;\">\n",
       "      <th></th>\n",
       "      <th>priceRangeMin</th>\n",
       "      <th>priceRangeMax</th>\n",
       "    </tr>\n",
       "    <tr>\n",
       "      <th>primaryCategories</th>\n",
       "      <th></th>\n",
       "      <th></th>\n",
       "    </tr>\n",
       "  </thead>\n",
       "  <tbody>\n",
       "    <tr>\n",
       "      <td>Accommodation &amp; Food Services</td>\n",
       "      <td>4.617519</td>\n",
       "      <td>27.744777</td>\n",
       "    </tr>\n",
       "    <tr>\n",
       "      <td>Accommodation &amp; Food Services,Management of Companies &amp; Enterprises</td>\n",
       "      <td>16.304348</td>\n",
       "      <td>34.782609</td>\n",
       "    </tr>\n",
       "    <tr>\n",
       "      <td>Educational Services,Accommodation &amp; Food Services</td>\n",
       "      <td>0.000000</td>\n",
       "      <td>25.000000</td>\n",
       "    </tr>\n",
       "    <tr>\n",
       "      <td>Management of Companies &amp; Enterprises</td>\n",
       "      <td>6.976744</td>\n",
       "      <td>29.186047</td>\n",
       "    </tr>\n",
       "    <tr>\n",
       "      <td>Retail</td>\n",
       "      <td>5.555556</td>\n",
       "      <td>28.333333</td>\n",
       "    </tr>\n",
       "    <tr>\n",
       "      <td>Retail,Accommodation &amp; Food Services</td>\n",
       "      <td>6.818182</td>\n",
       "      <td>25.818182</td>\n",
       "    </tr>\n",
       "    <tr>\n",
       "      <td>Wholesale Trade,Accommodation &amp; Food Services</td>\n",
       "      <td>0.000000</td>\n",
       "      <td>25.000000</td>\n",
       "    </tr>\n",
       "    <tr>\n",
       "      <td>Wholesale Trade,Accommodation &amp; Food Services,Manufacturing</td>\n",
       "      <td>0.000000</td>\n",
       "      <td>25.000000</td>\n",
       "    </tr>\n",
       "  </tbody>\n",
       "</table>\n",
       "</div>"
      ],
      "text/plain": [
       "                                                    priceRangeMin  \\\n",
       "primaryCategories                                                   \n",
       "Accommodation & Food Services                            4.617519   \n",
       "Accommodation & Food Services,Management of Com...      16.304348   \n",
       "Educational Services,Accommodation & Food Services       0.000000   \n",
       "Management of Companies & Enterprises                    6.976744   \n",
       "Retail                                                   5.555556   \n",
       "Retail,Accommodation & Food Services                     6.818182   \n",
       "Wholesale Trade,Accommodation & Food Services            0.000000   \n",
       "Wholesale Trade,Accommodation & Food Services,M...       0.000000   \n",
       "\n",
       "                                                    priceRangeMax  \n",
       "primaryCategories                                                  \n",
       "Accommodation & Food Services                           27.744777  \n",
       "Accommodation & Food Services,Management of Com...      34.782609  \n",
       "Educational Services,Accommodation & Food Services      25.000000  \n",
       "Management of Companies & Enterprises                   29.186047  \n",
       "Retail                                                  28.333333  \n",
       "Retail,Accommodation & Food Services                    25.818182  \n",
       "Wholesale Trade,Accommodation & Food Services           25.000000  \n",
       "Wholesale Trade,Accommodation & Food Services,M...      25.000000  "
      ]
     },
     "execution_count": 50,
     "metadata": {},
     "output_type": "execute_result"
    }
   ],
   "source": [
    "# 7. Рассчитайте средние значения priceRangeMin и priceRangeMax по primaryCategories\n",
    "pizza[['primaryCategories','priceRangeMin', 'priceRangeMax']].groupby(by = ['primaryCategories'], axis = 0).mean()"
   ]
  },
  {
   "cell_type": "code",
   "execution_count": 51,
   "metadata": {
    "pycharm": {
     "name": "#%%\n"
    }
   },
   "outputs": [
    {
     "data": {
      "text/plain": [
       "['Cheese Pizza',\n",
       " 'White Pizza',\n",
       " 'Hawaiian Pizza',\n",
       " 'Buffalo Chicken Pizza',\n",
       " 'Pizza']"
      ]
     },
     "execution_count": 51,
     "metadata": {},
     "output_type": "execute_result"
    }
   ],
   "source": [
    "# 8. Выведите топ-5 самых популярных названий пицц по menus.name\n",
    "pizza['menus.name'].value_counts().head(5).index.to_list()"
   ]
  },
  {
   "cell_type": "code",
   "execution_count": 52,
   "metadata": {
    "pycharm": {
     "name": "#%%\n"
    }
   },
   "outputs": [],
   "source": [
    "# 9. Выведите самый редкий ингридиент из описания menus.description (опционально)\n",
    "# В чём задача? Нужно найти самый редкий ингредиент? Что мы считаем ингредиентом?"
   ]
  },
  {
   "cell_type": "code",
   "execution_count": 53,
   "metadata": {
    "pycharm": {
     "name": "#%%\n"
    }
   },
   "outputs": [
    {
     "ename": "FileExistsError",
     "evalue": "[WinError 183] Cannot create a file when that file already exists: 'C:\\\\Users\\\\mikha\\\\Desktop\\\\Учёба DAS\\\\Python\\\\Занятие 2\\\\pizza_provinces'",
     "output_type": "error",
     "traceback": [
      "\u001b[1;31m---------------------------------------------------------------------------\u001b[0m",
      "\u001b[1;31mFileExistsError\u001b[0m                           Traceback (most recent call last)",
      "\u001b[1;32m<ipython-input-53-82354d039668>\u001b[0m in \u001b[0;36m<module>\u001b[1;34m\u001b[0m\n\u001b[0;32m      3\u001b[0m \u001b[1;33m\u001b[0m\u001b[0m\n\u001b[0;32m      4\u001b[0m \u001b[0mpizza_provinces_path\u001b[0m \u001b[1;33m=\u001b[0m \u001b[0mos\u001b[0m\u001b[1;33m.\u001b[0m\u001b[0mpath\u001b[0m\u001b[1;33m.\u001b[0m\u001b[0mjoin\u001b[0m\u001b[1;33m(\u001b[0m\u001b[0mos\u001b[0m\u001b[1;33m.\u001b[0m\u001b[0mpath\u001b[0m\u001b[1;33m.\u001b[0m\u001b[0mabspath\u001b[0m\u001b[1;33m(\u001b[0m\u001b[0mos\u001b[0m\u001b[1;33m.\u001b[0m\u001b[0mgetcwd\u001b[0m\u001b[1;33m(\u001b[0m\u001b[1;33m)\u001b[0m\u001b[1;33m)\u001b[0m\u001b[1;33m,\u001b[0m\u001b[1;34m'pizza_provinces'\u001b[0m\u001b[1;33m)\u001b[0m\u001b[1;33m\u001b[0m\u001b[1;33m\u001b[0m\u001b[0m\n\u001b[1;32m----> 5\u001b[1;33m \u001b[0mos\u001b[0m\u001b[1;33m.\u001b[0m\u001b[0mmkdir\u001b[0m\u001b[1;33m(\u001b[0m\u001b[0mpizza_provinces_path\u001b[0m\u001b[1;33m,\u001b[0m \u001b[1;36m0o666\u001b[0m\u001b[1;33m)\u001b[0m\u001b[1;33m\u001b[0m\u001b[1;33m\u001b[0m\u001b[0m\n\u001b[0m",
      "\u001b[1;31mFileExistsError\u001b[0m: [WinError 183] Cannot create a file when that file already exists: 'C:\\\\Users\\\\mikha\\\\Desktop\\\\Учёба DAS\\\\Python\\\\Занятие 2\\\\pizza_provinces'"
     ]
    }
   ],
   "source": [
    "# 10. Создайте директорию pizza_provinces\n",
    "# https://www.geeksforgeeks.org/create-a-directory-in-python/\n",
    "\n",
    "pizza_provinces_path = os.path.join(os.path.abspath(os.getcwd()),'pizza_provinces')\n",
    "os.mkdir(pizza_provinces_path, 0o666)"
   ]
  },
  {
   "cell_type": "code",
   "execution_count": 54,
   "metadata": {},
   "outputs": [
    {
     "data": {
      "text/plain": [
       "array(['AR', 'AZ', 'OH', 'MI', 'MD', 'CA', 'FL', 'TX', 'NC', 'PA', 'LA',\n",
       "       'NY', 'IN', 'CO', 'NV', 'IA', 'OK', 'NM', 'WI', 'VA', 'OR', 'MN',\n",
       "       'TN', 'WA', 'SC', 'MS', 'MO', 'GA', 'IL', 'DE', 'KS', 'UT', 'KY',\n",
       "       'NE', 'SD', 'WV', 'AL', 'AK', 'ID', 'CT', 'HI', 'NJ', 'ND', 'MT'],\n",
       "      dtype=object)"
      ]
     },
     "execution_count": 54,
     "metadata": {},
     "output_type": "execute_result"
    }
   ],
   "source": [
    "pizza.province.unique()"
   ]
  },
  {
   "cell_type": "code",
   "execution_count": 55,
   "metadata": {
    "pycharm": {
     "name": "#%%\n"
    },
    "scrolled": true
   },
   "outputs": [],
   "source": [
    "# 11. Сохраните в эту директорию файлы с пицериями по регионам provinces \n",
    "# В задании важно учесть условие:\n",
    "#  Если регион начинается \"A\" то файл .xlsx, если 'N' то .csv, в остальных случаях .txt\n",
    "#  Пример: 'AR.xlsx' содержит в себе все пицерии из региона 'AR'\n",
    "for i in pizza.province.unique():\n",
    "    if (i.startswith('A')):\n",
    "        pizza[pizza['province']== i].to_excel(pizza_provinces_path+'\\\\'+str(i)+'.xlsx')\n",
    "    elif (i.startswith('N')):\n",
    "        pizza[pizza['province']== i].to_csv(pizza_provinces_path+\"\\\\\"+str(i)+'.csv')\n",
    "    else:\n",
    "        tfile = open(pizza_provinces_path+r'\\\\'+str(i)+'.txt', 'a', encoding = 'utf-8')\n",
    "        tfile.write(pizza[pizza['province']== i].to_string())\n",
    "        tfile.close()\n",
    "        "
   ]
  },
  {
   "cell_type": "code",
   "execution_count": 76,
   "metadata": {
    "pycharm": {
     "name": "#%%\n"
    }
   },
   "outputs": [
    {
     "name": "stdout",
     "output_type": "stream",
     "text": [
      "Los Angeles\n"
     ]
    }
   ],
   "source": [
    "# 12. Напишите функцию, которая на вход будет принимать регион, а на выходе выдавать город, где больше всего пцццерий\n",
    "def biggest_town(region):\n",
    "    city = pizza[(pizza['province'] == str(region))]['city'].value_counts().index[0]\n",
    "    print(city)\n",
    "biggest_town('CA')"
   ]
  },
  {
   "cell_type": "code",
   "execution_count": 79,
   "metadata": {
    "pycharm": {
     "name": "#%%\n"
    }
   },
   "outputs": [
    {
     "data": {
      "text/html": [
       "<div>\n",
       "<style scoped>\n",
       "    .dataframe tbody tr th:only-of-type {\n",
       "        vertical-align: middle;\n",
       "    }\n",
       "\n",
       "    .dataframe tbody tr th {\n",
       "        vertical-align: top;\n",
       "    }\n",
       "\n",
       "    .dataframe thead th {\n",
       "        text-align: right;\n",
       "    }\n",
       "</style>\n",
       "<table border=\"1\" class=\"dataframe\">\n",
       "  <thead>\n",
       "    <tr style=\"text-align: right;\">\n",
       "      <th></th>\n",
       "      <th>city_len_1</th>\n",
       "      <th>city_len_2</th>\n",
       "    </tr>\n",
       "  </thead>\n",
       "  <tbody>\n",
       "    <tr>\n",
       "      <td>0</td>\n",
       "      <td>8</td>\n",
       "      <td>8</td>\n",
       "    </tr>\n",
       "    <tr>\n",
       "      <td>1</td>\n",
       "      <td>7</td>\n",
       "      <td>7</td>\n",
       "    </tr>\n",
       "    <tr>\n",
       "      <td>2</td>\n",
       "      <td>10</td>\n",
       "      <td>10</td>\n",
       "    </tr>\n",
       "    <tr>\n",
       "      <td>3</td>\n",
       "      <td>15</td>\n",
       "      <td>15</td>\n",
       "    </tr>\n",
       "    <tr>\n",
       "      <td>4</td>\n",
       "      <td>9</td>\n",
       "      <td>9</td>\n",
       "    </tr>\n",
       "    <tr>\n",
       "      <td>...</td>\n",
       "      <td>...</td>\n",
       "      <td>...</td>\n",
       "    </tr>\n",
       "    <tr>\n",
       "      <td>9995</td>\n",
       "      <td>7</td>\n",
       "      <td>7</td>\n",
       "    </tr>\n",
       "    <tr>\n",
       "      <td>9996</td>\n",
       "      <td>7</td>\n",
       "      <td>7</td>\n",
       "    </tr>\n",
       "    <tr>\n",
       "      <td>9997</td>\n",
       "      <td>13</td>\n",
       "      <td>13</td>\n",
       "    </tr>\n",
       "    <tr>\n",
       "      <td>9998</td>\n",
       "      <td>13</td>\n",
       "      <td>13</td>\n",
       "    </tr>\n",
       "    <tr>\n",
       "      <td>9999</td>\n",
       "      <td>9</td>\n",
       "      <td>9</td>\n",
       "    </tr>\n",
       "  </tbody>\n",
       "</table>\n",
       "<p>10000 rows × 2 columns</p>\n",
       "</div>"
      ],
      "text/plain": [
       "      city_len_1  city_len_2\n",
       "0              8           8\n",
       "1              7           7\n",
       "2             10          10\n",
       "3             15          15\n",
       "4              9           9\n",
       "...          ...         ...\n",
       "9995           7           7\n",
       "9996           7           7\n",
       "9997          13          13\n",
       "9998          13          13\n",
       "9999           9           9\n",
       "\n",
       "[10000 rows x 2 columns]"
      ]
     },
     "execution_count": 79,
     "metadata": {},
     "output_type": "execute_result"
    }
   ],
   "source": [
    "# 13. Рассчитайте и запишите в колонку city_len количество символов в названии города 2мя способами\n",
    "\n",
    "# Способ 1\n",
    "pizza['city_len_1'] = [len(pizza.loc[x, 'city']) for x in range(len(pizza))]\n",
    "pizza.head()\n",
    "\n",
    "# Способ 2\n",
    "# https://pandas.pydata.org/pandas-docs/stable/reference/api/pandas.Series.str.len.html\n",
    "\n",
    "pizza['city_len_2'] = pizza['city'].str.len()\n",
    "\n",
    "# проверка\n",
    "\n",
    "pizza[['city_len_1','city_len_2']]"
   ]
  }
 ],
 "metadata": {
  "kernelspec": {
   "display_name": "Python 3",
   "language": "python",
   "name": "python3"
  },
  "language_info": {
   "codemirror_mode": {
    "name": "ipython",
    "version": 3
   },
   "file_extension": ".py",
   "mimetype": "text/x-python",
   "name": "python",
   "nbconvert_exporter": "python",
   "pygments_lexer": "ipython3",
   "version": "3.7.4"
  }
 },
 "nbformat": 4,
 "nbformat_minor": 2
}
