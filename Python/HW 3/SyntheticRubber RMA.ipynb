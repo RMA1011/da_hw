{
 "cells": [
  {
   "cell_type": "markdown",
   "metadata": {
    "collapsed": false,
    "pycharm": {
     "name": "#%% md\n"
    }
   },
   "source": [
    "[![Open In Colab](https://colab.research.google.com/assets/colab-badge.svg)](https://colab.research.google.com/github/da-python/python-for-data-analytics/blob/main/Lesson3/hometask/SyntheticRubber.ipynb)"
   ]
  },
  {
   "cell_type": "code",
   "execution_count": 103,
   "metadata": {},
   "outputs": [],
   "source": [
    "## если чего-то нет\n",
    "#%pip install seaborn\n",
    "#%pip3 install lxml\n",
    "#%pip install yfinance\n",
    "#%pip install openpyxl"
   ]
  },
  {
   "cell_type": "code",
   "execution_count": 104,
   "metadata": {
    "collapsed": false,
    "pycharm": {
     "name": "#%%\n"
    }
   },
   "outputs": [],
   "source": [
    "import requests\n",
    "import yfinance as yf\n",
    "import pandas as pd\n",
    "import matplotlib.pyplot as plt\n",
    "import seaborn as sns; seaborn.set()\n",
    "from bs4 import BeautifulSoup\n",
    "import datetime\n",
    "import numpy as np\n",
    "import openpyxl\n",
    "import os"
   ]
  },
  {
   "cell_type": "code",
   "execution_count": 105,
   "metadata": {
    "collapsed": false,
    "pycharm": {
     "name": "#%%\n"
    }
   },
   "outputs": [],
   "source": [
    "# Для работы с API может потребоваться обходное решение для работы с SSL сертификатом\n",
    "import ssl\n",
    "ssl._create_default_https_context = ssl._create_unverified_context"
   ]
  },
  {
   "cell_type": "markdown",
   "metadata": {
    "pycharm": {
     "name": "#%% md\n"
    }
   },
   "source": [
    "# Задание 1.\n",
    "\n",
    "* Вы - менеджер по продажам в нефтехимической компании.\n",
    "* Вы ведете несколько ключевых клиентов, которые закупают продукты вашей компании.\n",
    "* Ваши клиенты предпочитают формульный подход к ценообразованию и вам нужно предложить клиентам формулу цены на синтетический каучук, который может быть альтернативой натуральному каучуку с грейдом SMR 20.\n",
    "* В зависимости от объемов, которые покупают клиенты, им может быть предложена скидка.\n"
   ]
  },
  {
   "cell_type": "code",
   "execution_count": 106,
   "metadata": {
    "pycharm": {
     "name": "#%%\n"
    }
   },
   "outputs": [],
   "source": [
    "# Из данных есть:\n",
    "# Затраты на производство\n",
    "PRODUCTION_COST = 400 # (EUR)\n",
    "\n",
    "# Расходы на логистику\n",
    "EU_LOGISTIC_COST_EUR = 30 # в Европу в евро\n",
    "CN_LOGISTIC_COST_USD = 130 # в Китай в долларах\n",
    "\n",
    "# * Справочная информация по клиентам(объемы, локации, комментарии)\n",
    "customers = {\n",
    "    'Monty':{\n",
    "        'location':'EU',\n",
    "        'volumes':200,\n",
    "        'comment':'moving_average'\n",
    "    },\n",
    "\n",
    "    'Triangle':{\n",
    "        'location':'CN',\n",
    "        'volumes': 30,\n",
    "        'comment': 'monthly'\n",
    "    },\n",
    "    'Stone':{\n",
    "        'location':'EU',\n",
    "        'volumes': 150,\n",
    "        'comment': 'moving_average'\n",
    "    },\n",
    "    'Poly':{\n",
    "        'location':'EU',\n",
    "        'volumes': 70,\n",
    "        'comment': 'monthly'\n",
    "    }\n",
    "}\n",
    "# Скидки\n",
    "discounts = {'up to 100': 0.01, # 1%\n",
    "             'up to 300': 0.05, # 5%\n",
    "             '300 plus': 0.1}   #10%\n"
   ]
  },
  {
   "cell_type": "code",
   "execution_count": 107,
   "metadata": {
    "pycharm": {
     "name": "#%%\n"
    }
   },
   "outputs": [
    {
     "data": {
      "text/html": [
       "<div>\n",
       "<style scoped>\n",
       "    .dataframe tbody tr th:only-of-type {\n",
       "        vertical-align: middle;\n",
       "    }\n",
       "\n",
       "    .dataframe tbody tr th {\n",
       "        vertical-align: top;\n",
       "    }\n",
       "\n",
       "    .dataframe thead th {\n",
       "        text-align: right;\n",
       "    }\n",
       "</style>\n",
       "<table border=\"1\" class=\"dataframe\">\n",
       "  <thead>\n",
       "    <tr style=\"text-align: right;\">\n",
       "      <th></th>\n",
       "      <th>date</th>\n",
       "      <th>grade</th>\n",
       "      <th>masa</th>\n",
       "      <th>rm</th>\n",
       "      <th>us</th>\n",
       "      <th>tone</th>\n",
       "    </tr>\n",
       "  </thead>\n",
       "  <tbody>\n",
       "    <tr>\n",
       "      <th>5</th>\n",
       "      <td>2021-12-30</td>\n",
       "      <td>SMR 20</td>\n",
       "      <td>Noon</td>\n",
       "      <td>726.50</td>\n",
       "      <td>177.00</td>\n",
       "      <td>Steady</td>\n",
       "    </tr>\n",
       "    <tr>\n",
       "      <th>12</th>\n",
       "      <td>2021-12-29</td>\n",
       "      <td>SMR 20</td>\n",
       "      <td>Noon</td>\n",
       "      <td>715.00</td>\n",
       "      <td>173.85</td>\n",
       "      <td>Quietly Steady</td>\n",
       "    </tr>\n",
       "    <tr>\n",
       "      <th>19</th>\n",
       "      <td>2021-12-28</td>\n",
       "      <td>SMR 20</td>\n",
       "      <td>Noon</td>\n",
       "      <td>715.00</td>\n",
       "      <td>173.80</td>\n",
       "      <td>Quietly Steady</td>\n",
       "    </tr>\n",
       "    <tr>\n",
       "      <th>26</th>\n",
       "      <td>2021-12-27</td>\n",
       "      <td>SMR 20</td>\n",
       "      <td>Noon</td>\n",
       "      <td>701.00</td>\n",
       "      <td>169.85</td>\n",
       "      <td>Quietly Steady</td>\n",
       "    </tr>\n",
       "    <tr>\n",
       "      <th>33</th>\n",
       "      <td>2021-12-24</td>\n",
       "      <td>SMR 20</td>\n",
       "      <td>Noon</td>\n",
       "      <td>704.00</td>\n",
       "      <td>170.50</td>\n",
       "      <td>Quietly Steady</td>\n",
       "    </tr>\n",
       "    <tr>\n",
       "      <th>40</th>\n",
       "      <td>2021-12-23</td>\n",
       "      <td>SMR 20</td>\n",
       "      <td>Noon</td>\n",
       "      <td>705.50</td>\n",
       "      <td>170.45</td>\n",
       "      <td>Quietly Steady</td>\n",
       "    </tr>\n",
       "    <tr>\n",
       "      <th>47</th>\n",
       "      <td>2021-12-22</td>\n",
       "      <td>SMR 20</td>\n",
       "      <td>Noon</td>\n",
       "      <td>702.00</td>\n",
       "      <td>169.55</td>\n",
       "      <td>Quietly Steady</td>\n",
       "    </tr>\n",
       "    <tr>\n",
       "      <th>54</th>\n",
       "      <td>2021-12-21</td>\n",
       "      <td>SMR 20</td>\n",
       "      <td>Noon</td>\n",
       "      <td>698.50</td>\n",
       "      <td>167.95</td>\n",
       "      <td>Quiet</td>\n",
       "    </tr>\n",
       "    <tr>\n",
       "      <th>61</th>\n",
       "      <td>2021-12-20</td>\n",
       "      <td>SMR 20</td>\n",
       "      <td>Noon</td>\n",
       "      <td>702.00</td>\n",
       "      <td>168.75</td>\n",
       "      <td>Quiet</td>\n",
       "    </tr>\n",
       "    <tr>\n",
       "      <th>68</th>\n",
       "      <td>2021-12-17</td>\n",
       "      <td>SMR 20</td>\n",
       "      <td>Noon</td>\n",
       "      <td>711.00</td>\n",
       "      <td>171.55</td>\n",
       "      <td>Quiet</td>\n",
       "    </tr>\n",
       "    <tr>\n",
       "      <th>75</th>\n",
       "      <td>2021-12-16</td>\n",
       "      <td>SMR 20</td>\n",
       "      <td>Noon</td>\n",
       "      <td>715.00</td>\n",
       "      <td>171.90</td>\n",
       "      <td>Quietly Steady</td>\n",
       "    </tr>\n",
       "    <tr>\n",
       "      <th>82</th>\n",
       "      <td>2021-12-15</td>\n",
       "      <td>SMR 20</td>\n",
       "      <td>Noon</td>\n",
       "      <td>715.00</td>\n",
       "      <td>171.65</td>\n",
       "      <td>Quietly Steady</td>\n",
       "    </tr>\n",
       "    <tr>\n",
       "      <th>89</th>\n",
       "      <td>2021-12-14</td>\n",
       "      <td>SMR 20</td>\n",
       "      <td>Noon</td>\n",
       "      <td>719.50</td>\n",
       "      <td>172.90</td>\n",
       "      <td>Quietly Steady</td>\n",
       "    </tr>\n",
       "    <tr>\n",
       "      <th>96</th>\n",
       "      <td>2021-12-13</td>\n",
       "      <td>SMR 20</td>\n",
       "      <td>Noon</td>\n",
       "      <td>718.50</td>\n",
       "      <td>173.45</td>\n",
       "      <td>Quietly Steady</td>\n",
       "    </tr>\n",
       "    <tr>\n",
       "      <th>103</th>\n",
       "      <td>2021-12-10</td>\n",
       "      <td>SMR 20</td>\n",
       "      <td>Noon</td>\n",
       "      <td>711.00</td>\n",
       "      <td>171.35</td>\n",
       "      <td>Quiet</td>\n",
       "    </tr>\n",
       "    <tr>\n",
       "      <th>110</th>\n",
       "      <td>2021-12-09</td>\n",
       "      <td>SMR 20</td>\n",
       "      <td>Noon</td>\n",
       "      <td>703.50</td>\n",
       "      <td>169.65</td>\n",
       "      <td>Quiet</td>\n",
       "    </tr>\n",
       "    <tr>\n",
       "      <th>117</th>\n",
       "      <td>2021-12-08</td>\n",
       "      <td>SMR 20</td>\n",
       "      <td>Noon</td>\n",
       "      <td>710.00</td>\n",
       "      <td>170.90</td>\n",
       "      <td>Quietly Steady</td>\n",
       "    </tr>\n",
       "    <tr>\n",
       "      <th>124</th>\n",
       "      <td>2021-12-07</td>\n",
       "      <td>SMR 20</td>\n",
       "      <td>Noon</td>\n",
       "      <td>721.50</td>\n",
       "      <td>173.35</td>\n",
       "      <td>Quietly Steady</td>\n",
       "    </tr>\n",
       "    <tr>\n",
       "      <th>131</th>\n",
       "      <td>2021-12-06</td>\n",
       "      <td>SMR 20</td>\n",
       "      <td>Noon</td>\n",
       "      <td>715.00</td>\n",
       "      <td>171.85</td>\n",
       "      <td>Quietly Steady</td>\n",
       "    </tr>\n",
       "    <tr>\n",
       "      <th>138</th>\n",
       "      <td>2021-12-02</td>\n",
       "      <td>SMR 20</td>\n",
       "      <td>Noon</td>\n",
       "      <td>726.00</td>\n",
       "      <td>174.95</td>\n",
       "      <td>Quietly Steady</td>\n",
       "    </tr>\n",
       "    <tr>\n",
       "      <th>145</th>\n",
       "      <td>2021-12-01</td>\n",
       "      <td>SMR 20</td>\n",
       "      <td>Noon</td>\n",
       "      <td>737.50</td>\n",
       "      <td>178.40</td>\n",
       "      <td>Steady</td>\n",
       "    </tr>\n",
       "  </tbody>\n",
       "</table>\n",
       "</div>"
      ],
      "text/plain": [
       "           date   grade  masa      rm      us            tone\n",
       "5    2021-12-30  SMR 20  Noon  726.50  177.00          Steady\n",
       "12   2021-12-29  SMR 20  Noon  715.00  173.85  Quietly Steady\n",
       "19   2021-12-28  SMR 20  Noon  715.00  173.80  Quietly Steady\n",
       "26   2021-12-27  SMR 20  Noon  701.00  169.85  Quietly Steady\n",
       "33   2021-12-24  SMR 20  Noon  704.00  170.50  Quietly Steady\n",
       "40   2021-12-23  SMR 20  Noon  705.50  170.45  Quietly Steady\n",
       "47   2021-12-22  SMR 20  Noon  702.00  169.55  Quietly Steady\n",
       "54   2021-12-21  SMR 20  Noon  698.50  167.95           Quiet\n",
       "61   2021-12-20  SMR 20  Noon  702.00  168.75           Quiet\n",
       "68   2021-12-17  SMR 20  Noon  711.00  171.55           Quiet\n",
       "75   2021-12-16  SMR 20  Noon  715.00  171.90  Quietly Steady\n",
       "82   2021-12-15  SMR 20  Noon  715.00  171.65  Quietly Steady\n",
       "89   2021-12-14  SMR 20  Noon  719.50  172.90  Quietly Steady\n",
       "96   2021-12-13  SMR 20  Noon  718.50  173.45  Quietly Steady\n",
       "103  2021-12-10  SMR 20  Noon  711.00  171.35           Quiet\n",
       "110  2021-12-09  SMR 20  Noon  703.50  169.65           Quiet\n",
       "117  2021-12-08  SMR 20  Noon  710.00  170.90  Quietly Steady\n",
       "124  2021-12-07  SMR 20  Noon  721.50  173.35  Quietly Steady\n",
       "131  2021-12-06  SMR 20  Noon  715.00  171.85  Quietly Steady\n",
       "138  2021-12-02  SMR 20  Noon  726.00  174.95  Quietly Steady\n",
       "145  2021-12-01  SMR 20  Noon  737.50  178.40          Steady"
      ]
     },
     "execution_count": 107,
     "metadata": {},
     "output_type": "execute_result"
    }
   ],
   "source": [
    "# Котировки натурального каучука доступны на сайте,  https://www.lgm.gov.my\n",
    "# также у них есть API, пример запроса ниже\n",
    "\n",
    "datetime.datetime.now().month\n",
    "datetime.datetime.now().year\n",
    "\n",
    "year = 2021\n",
    "month = 12\n",
    "url = f\"https://www.lgm.gov.my/webv2api/api/rubberprice/month={month}&year={year}\"\n",
    "res = requests.get(url)\n",
    "rj = res.json()\n",
    "df = pd.json_normalize(rj)"
   ]
  },
  {
   "cell_type": "markdown",
   "metadata": {
    "collapsed": false,
    "pycharm": {
     "name": "#%% md\n"
    }
   },
   "source": [
    "### Что нужно сделать?\n",
    "\n",
    "1. Проанализировать имеющиеся данные.\n",
    "2. Определить базовую формулу цены на условиях FCA (цена на заводе). То есть как бы выглядела цена на исторических данных.\n",
    "3. Отобразить на графике.\n",
    "4. Сделать расчет возможной цены по формуле для каждого из клиентов на условиях DDP (цена с доставкой). Записать все в один эксель файл, на разных листах. Каждый лист - название клиента.\n",
    "5. Предложить формулу цены каждому из клиентов на условиях DDP (цена с доставкой).\n",
    "- Создать директорию «для клиентов» и в ней сложить  файлы с расчетами.\n",
    "- Каждый клиент - отдельный файл (любой из docx, xlsx, pptx, pdf)  с именем клиента…\n",
    "\n",
    "### В результате должно быть 3 файла:\n",
    "1. Ноутбук с расчетами и графиками.\n",
    "2. Скрипт, который делает расчет цены для каждого клиента в одном файле\n",
    "2. Скрипт, который делает расчет цены для каждого клиента в отельном файле"
   ]
  },
  {
   "cell_type": "code",
   "execution_count": 108,
   "metadata": {},
   "outputs": [],
   "source": [
    "### Вытаскиваем цены за интересующие периоды и сливаем в один файл\n",
    "\n",
    "year = ['2020','2021','2022']\n",
    "month = ['1','2','3','4','5','6','7','8','9','10','11','12']\n",
    "raw_prices = pd.DataFrame()\n",
    "dfs = []\n",
    "\n",
    "for i in year:\n",
    "    for j in month:\n",
    "        url = f\"https://www.lgm.gov.my/webv2api/api/rubberprice/month={j}&year={i}\"\n",
    "        res = requests.get(url)\n",
    "        rj = res.json()\n",
    "        df = pd.json_normalize(rj)\n",
    "        #df = df[df['grade'] == 'SMR 20']\n",
    "        dfs.append(df)\n",
    "\n",
    "raw_prices = pd.concat(dfs, ignore_index=True) # объединяем выгруженные данные в один DataFrame\n",
    "raw_prices['date_index'] = pd.to_datetime(raw_prices['date']) # для resample нужен индекс с использованием дат, а мы хотим\n",
    "raw_prices = raw_prices.set_index(raw_prices['date_index'], drop = True) # внедряем индекс\n",
    "raw_prices['us'] = raw_prices['us'].apply(lambda x:float(x)) # по умолчанию забираем object, нужен числовой формат\n",
    "raw_prices['rm'] = raw_prices['rm'].apply(lambda x:float(x)) # по умолчанию забираем object, нужен числовой формат\n",
    "raw_prices = raw_prices[raw_prices['grade'] == 'SMR 20'] # оставляем только нужный нам грейд\n",
    "raw_prices = raw_prices.resample('M', kind = 'period').mean() # трансформируем в ежемесячные значения"
   ]
  },
  {
   "cell_type": "code",
   "execution_count": 109,
   "metadata": {},
   "outputs": [
    {
     "name": "stdout",
     "output_type": "stream",
     "text": [
      "[*********************100%***********************]  1 of 1 completed\n",
      "[*********************100%***********************]  1 of 1 completed\n",
      "[*********************100%***********************]  1 of 1 completed\n"
     ]
    }
   ],
   "source": [
    "# Запросим все возможные валютные пары на дату расчёта\n",
    "# На дату расчёта, т.к. бОльшую часть издержек придётся учитывать в момент появления заказа\n",
    "# Поскольку EUR - базовая валюта, все расчёты в EUR и затем переводим под клиента в нужную валюту\n",
    "# Итого нужны пары: EUR/USD, EUR/CNY, EUR/RM. RM для примера, исходная котировка в малазийской валюте\n",
    "# Можно забрать с помощью библиотеки YFinance\n",
    "\n",
    "usd_eur = yf.download('USDEUR=X').resample('M', kind = 'period').mean() # Сразу трансформируем в средние ежемесячные значения - очень удобно для нашей задачи\n",
    "usd_eur = usd_eur[['Close']] # интересует только цена закрытия\n",
    "usd_eur.rename(columns = {'Close':'USDEUR_Close'}, inplace = True) # Поскольку дальше будем объединять, колонки нужно переназвать. Чтобы не запутаться, где какая валюта\n",
    "\n",
    "\n",
    "cny_eur = yf.download('CNYEUR=X').resample('M', kind = 'period').mean()\n",
    "cny_eur = cny_eur[['Close']]\n",
    "cny_eur.rename(columns = {'Close':'CNYEUR_Close'}, inplace = True)\n",
    "\n",
    "\n",
    "myr_eur = yf.download('MYREUR=X').resample('M', kind = 'period').mean()\n",
    "myr_eur = myr_eur[['Close']]\n",
    "myr_eur.rename(columns = {'Close':'MYREUR_Close'}, inplace = True)\n"
   ]
  },
  {
   "cell_type": "code",
   "execution_count": 110,
   "metadata": {},
   "outputs": [],
   "source": [
    "# Объединение идёт по индексам, индексы сортируются на периодам. \n",
    "# То есть чем раньше значение, тем меньше числовое значение индекса\n",
    "\n",
    "total = pd.concat([raw_prices, usd_eur,myr_eur,cny_eur],axis = 1) \n",
    "total.dropna(inplace = True) # Пропуски убираем -- данные по сырью менее глубокие, чем данные по курсам валют\n",
    "total.reset_index(inplace = True) # Ещё сбрасываем индекс - с числовым работать проще, чем с периодами"
   ]
  },
  {
   "cell_type": "code",
   "execution_count": 111,
   "metadata": {},
   "outputs": [],
   "source": [
    "# lm находит для указанного поля указанного DF предыдущее значение. Соответствует логике \"monthly\"\n",
    "def lm(df,price_column):\n",
    "    for i in range(len(df[price_column])):\n",
    "        if i == 0:\n",
    "            pass # предыдущего значения не существует, обрабатываем ошибку\n",
    "        elif i > 0:\n",
    "            df.loc[i,str('lm_')+price_column] = df.loc[i-1,price_column]\n",
    "\n",
    "# l3m находит для указанного поля указанного DF среднее из трёх предыдущих значений. Соответствует логике \"moving average\"\n",
    "def l3m(df,price_column):\n",
    "    for i in range(len(df[price_column])):\n",
    "        if i <= 2:\n",
    "            pass # в такой ситуации считать l3m не из чего, обрабатываем ошибку\n",
    "        elif i > 2:\n",
    "            df.loc[i,str('l3m_')+price_column] = np.mean([df.loc[i-1,price_column],df.loc[i-2,price_column],df.loc[i-3,price_column]])"
   ]
  },
  {
   "cell_type": "code",
   "execution_count": 112,
   "metadata": {},
   "outputs": [],
   "source": [
    "# Рассчитываем средние котировки за последний месяц и за 3 последних месяца\n",
    "# Нужно указать название df и следить за списком колонок с котировками\n",
    "\n",
    "price_columns = ['rm','us','USDEUR_Close','MYREUR_Close','CNYEUR_Close'] # тот самый список-справочник\n",
    "\n",
    "for i in price_columns:\n",
    "    lm(total, i)\n",
    "    l3m(total,i)"
   ]
  },
  {
   "cell_type": "code",
   "execution_count": 113,
   "metadata": {},
   "outputs": [],
   "source": [
    "# Формула расчёта цены с завода\n",
    "# на входе даём имя клиента из customers в кавычках и название df с финансовыми данными\n",
    "\n",
    "def calc_FCA(name, df):\n",
    "    df.dropna(inplace = True)\n",
    "    df.reset_index(inplace = True,drop = True)\n",
    "    quantity = customers.get(name).get('volumes')\n",
    "    method = customers.get(name).get('comment')\n",
    "    for i in range(len(df)):\n",
    "        fca_price = 1\n",
    "        total_price = 1\n",
    "        if method == 'monthly':\n",
    "            fca_price = quantity*df.loc[i, 'lm_rm']*df.loc[i,'lm_MYREUR_Close']+PRODUCTION_COST\n",
    "            if quantity <= 100:\n",
    "                total_price = (1 - discounts.get('up to 100'))*fca_price\n",
    "            elif (quantity > 100) and (quantity <= 300):\n",
    "                total_price = (1 - discounts.get('up to 300'))*fca_price\n",
    "            else:\n",
    "                total_price = (1 - discounts.get('300 plus'))*fca_price\n",
    "        elif method == 'moving_average':\n",
    "            fca_price = quantity*df.loc[i, 'l3m_rm']*df.loc[i,'l3m_MYREUR_Close']+PRODUCTION_COST\n",
    "            if quantity <= 100:\n",
    "                total_price = (1 - discounts.get('up to 100'))*fca_price\n",
    "            elif (quantity > 100) and (quantity <= 300):\n",
    "                total_price = (1 - discounts.get('up to 300'))*fca_price\n",
    "            else:\n",
    "                total_price = (1 - discounts.get('300 plus'))*fca_price\n",
    "\n",
    "        df.loc[i,'FCA_price_'+name] = total_price\n",
    "    "
   ]
  },
  {
   "cell_type": "code",
   "execution_count": 114,
   "metadata": {},
   "outputs": [],
   "source": [
    "# Сугубо для иллюстрации: цена FCA по спотовым ценам\n",
    "\n",
    "def calc_spot_FCA(name, df):\n",
    "    df.dropna(inplace = True)\n",
    "    df.reset_index(inplace = True,drop = True)\n",
    "    quantity = customers.get(name).get('volumes')\n",
    "    for i in range(len(df)):\n",
    "        fca_price = 1\n",
    "        total_price = 1\n",
    "        fca_price = quantity*df.loc[i, 'rm']*df.loc[i,'MYREUR_Close']+PRODUCTION_COST\n",
    "        if quantity <= 100:\n",
    "            total_price = (1 - discounts.get('up to 100'))*fca_price\n",
    "        elif (quantity > 100) and (quantity <= 300):\n",
    "            total_price = (1 - discounts.get('up to 300'))*fca_price\n",
    "        else:\n",
    "            total_price = (1 - discounts.get('300 plus'))*fca_price\n",
    "\n",
    "        df.loc[i,'FCA_spot_price_'+name] = total_price"
   ]
  },
  {
   "cell_type": "code",
   "execution_count": 115,
   "metadata": {},
   "outputs": [],
   "source": [
    "# Формула расчёта цены с доставкой\n",
    "\n",
    "def calc_DDP(name, df):\n",
    "    df.dropna(inplace = True)\n",
    "    df.reset_index(inplace = True,drop = True)\n",
    "    quantity = customers.get(name).get('volumes')\n",
    "    location = customers.get(name).get('location')\n",
    "    method = customers.get(name).get('comment')\n",
    "    for i in range(len(df)):\n",
    "        total_price = 1\n",
    "        ddp_price = 1\n",
    "        fca_price = 1\n",
    "        if method == 'monthly':\n",
    "            fca_price = quantity*df.loc[i, 'lm_rm']*df.loc[i,'lm_MYREUR_Close']+PRODUCTION_COST\n",
    "            if location == 'CN':\n",
    "                ddp_price = fca_price + CN_LOGISTIC_COST_USD * df.loc[i, 'lm_USDEUR_Close']\n",
    "                if quantity <= 100:\n",
    "                    total_price = (1 - discounts.get('up to 100')) * ddp_price\n",
    "                elif (quantity > 100) and (quantity <= 300):\n",
    "                    total_price = (1 - discounts.get('up to 300')) * ddp_price\n",
    "                else:\n",
    "                    total_price = (1- discounts.get('300 plus')) * ddp_price\n",
    "            elif location == 'EU':\n",
    "                ddp_price = fca_price + EU_LOGISTIC_COST_EUR\n",
    "                if quantity <= 100:\n",
    "                    total_price = (1 - discounts.get('up to 100')) * ddp_price\n",
    "                elif (quantity > 100) and (quantity <= 300):\n",
    "                    total_price = (1 - discounts.get('up to 300')) * ddp_price\n",
    "                else:\n",
    "                    total_price = (1- discounts.get('300 plus')) * ddp_price    \n",
    "        elif method == 'moving_average':\n",
    "            fca_price = (quantity*df.loc[i, 'l3m_rm']*df.loc[i,'l3m_MYREUR_Close']+PRODUCTION_COST)\n",
    "            if location == 'CN':\n",
    "                ddp_price = fca_price + CN_LOGISTIC_COST_USD * df.loc[i, 'l3m_USDEUR_Close']\n",
    "                if quantity <= 100:\n",
    "                    total_price = (1 - discounts.get('up to 100')) * ddp_price\n",
    "                elif (quantity > 100) and (quantity <= 300):\n",
    "                    total_price = (1 - discounts.get('up to 300')) * ddp_price\n",
    "                else:\n",
    "                    total_price = (1- discounts.get('300 plus')) * ddp_price\n",
    "            elif location == 'EU':\n",
    "                ddp_price = fca_price + EU_LOGISTIC_COST_EUR\n",
    "                if quantity <= 100:\n",
    "                    total_price = (1 - discounts.get('up to 100')) * ddp_price\n",
    "                elif (quantity > 100) and (quantity <= 300):\n",
    "                    total_price = (1 - discounts.get('up to 300')) * ddp_price\n",
    "                else:\n",
    "                    total_price = (1- discounts.get('300 plus')) * ddp_price\n",
    "\n",
    "        df.loc[i, 'DDP_price_'+name] = total_price"
   ]
  },
  {
   "cell_type": "code",
   "execution_count": 116,
   "metadata": {},
   "outputs": [],
   "source": [
    "# Формула расчёта цены с доставкой по спотовой котировке. Для иллюстрации\n",
    "\n",
    "def calc_spot_DDP(name, df):\n",
    "    df.dropna(inplace = True)\n",
    "    df.reset_index(inplace = True,drop = True)\n",
    "    quantity = customers.get(name).get('volumes')\n",
    "    location = customers.get(name).get('location')\n",
    "    for i in range(len(df)):\n",
    "        total_price = 1\n",
    "        ddp_price = 1\n",
    "        fca_price = 1\n",
    "        fca_price = quantity*df.loc[i, 'rm']*df.loc[i,'MYREUR_Close']+PRODUCTION_COST\n",
    "        if location == 'CN':\n",
    "            ddp_price = fca_price + CN_LOGISTIC_COST_USD * df.loc[i, 'USDEUR_Close']\n",
    "            if quantity <= 100:\n",
    "                total_price = (1 - discounts.get('up to 100')) * ddp_price\n",
    "            elif (quantity > 100) and (quantity <= 300):\n",
    "                total_price = (1 - discounts.get('up to 300')) * ddp_price\n",
    "            else:\n",
    "                total_price = (1- discounts.get('300 plus')) * ddp_price\n",
    "        elif location == 'EU':\n",
    "            ddp_price = fca_price + EU_LOGISTIC_COST_EUR\n",
    "            if quantity <= 100:\n",
    "                total_price = (1 - discounts.get('up to 100')) * ddp_price\n",
    "            elif (quantity > 100) and (quantity <= 300):\n",
    "                total_price = (1 - discounts.get('up to 300')) * ddp_price\n",
    "            else:\n",
    "                total_price = (1- discounts.get('300 plus')) * ddp_price    \n",
    "        df.loc[i, 'DDP_spot_price_'+name] = total_price"
   ]
  },
  {
   "cell_type": "code",
   "execution_count": 117,
   "metadata": {},
   "outputs": [],
   "source": [
    "for i in customers.keys():\n",
    "    calc_FCA(i, total)\n",
    "    calc_spot_FCA(i,total)\n",
    "    calc_DDP(i, total)\n",
    "    calc_spot_DDP(i, total)"
   ]
  },
  {
   "cell_type": "code",
   "execution_count": 118,
   "metadata": {},
   "outputs": [
    {
     "name": "stdout",
     "output_type": "stream",
     "text": [
      "При внедрении формулы для FCA за период удастся сэкономить: 13741.0 у.е.\n",
      "При внедрении формулы для DDP за период удастся сэкономить: 13741.0 у.е.\n"
     ]
    },
    {
     "name": "stderr",
     "output_type": "stream",
     "text": [
      "C:\\Users\\mikha\\AppData\\Local\\Temp\\ipykernel_7644\\3814905514.py:2: SettingWithCopyWarning: \n",
      "A value is trying to be set on a copy of a slice from a DataFrame.\n",
      "Try using .loc[row_indexer,col_indexer] = value instead\n",
      "\n",
      "See the caveats in the documentation: https://pandas.pydata.org/pandas-docs/stable/user_guide/indexing.html#returning-a-view-versus-a-copy\n",
      "  total_monty['FCA_diff'] = total_monty['FCA_spot_price_Monty'] - total_monty['FCA_price_Monty']\n",
      "C:\\Users\\mikha\\AppData\\Local\\Temp\\ipykernel_7644\\3814905514.py:3: SettingWithCopyWarning: \n",
      "A value is trying to be set on a copy of a slice from a DataFrame.\n",
      "Try using .loc[row_indexer,col_indexer] = value instead\n",
      "\n",
      "See the caveats in the documentation: https://pandas.pydata.org/pandas-docs/stable/user_guide/indexing.html#returning-a-view-versus-a-copy\n",
      "  total_monty['DDP_diff'] = total_monty['DDP_spot_price_Monty'] - total_monty['DDP_price_Monty']\n"
     ]
    }
   ],
   "source": [
    "total_monty = total[['index','FCA_price_Monty','FCA_spot_price_Monty','DDP_price_Monty','DDP_spot_price_Monty']]\n",
    "total_monty['FCA_diff'] = total_monty['FCA_spot_price_Monty'] - total_monty['FCA_price_Monty']\n",
    "total_monty['DDP_diff'] = total_monty['DDP_spot_price_Monty'] - total_monty['DDP_price_Monty']\n",
    "total_monty\n",
    "print('При внедрении формулы для FCA за период удастся сэкономить: '+str(round(np.sum(total_monty['FCA_diff']),0))+' EUR')\n",
    "print('При внедрении формулы для DDP за период удастся сэкономить: '+str(round(np.sum(total_monty['DDP_diff']),0))+' EUR')"
   ]
  },
  {
   "cell_type": "code",
   "execution_count": 119,
   "metadata": {},
   "outputs": [
    {
     "name": "stdout",
     "output_type": "stream",
     "text": [
      "При внедрении формулы для FCA за период удастся сэкономить: 1333.0 у.е.\n",
      "При внедрении формулы для DDP за период удастся сэкономить: 1342.0 у.е.\n"
     ]
    },
    {
     "name": "stderr",
     "output_type": "stream",
     "text": [
      "C:\\Users\\mikha\\AppData\\Local\\Temp\\ipykernel_7644\\2926938833.py:2: SettingWithCopyWarning: \n",
      "A value is trying to be set on a copy of a slice from a DataFrame.\n",
      "Try using .loc[row_indexer,col_indexer] = value instead\n",
      "\n",
      "See the caveats in the documentation: https://pandas.pydata.org/pandas-docs/stable/user_guide/indexing.html#returning-a-view-versus-a-copy\n",
      "  total_Triangle['FCA_diff'] = total_Triangle['FCA_spot_price_Triangle'] - total_Triangle['FCA_price_Triangle']\n",
      "C:\\Users\\mikha\\AppData\\Local\\Temp\\ipykernel_7644\\2926938833.py:3: SettingWithCopyWarning: \n",
      "A value is trying to be set on a copy of a slice from a DataFrame.\n",
      "Try using .loc[row_indexer,col_indexer] = value instead\n",
      "\n",
      "See the caveats in the documentation: https://pandas.pydata.org/pandas-docs/stable/user_guide/indexing.html#returning-a-view-versus-a-copy\n",
      "  total_Triangle['DDP_diff'] = total_Triangle['DDP_spot_price_Triangle'] - total_Triangle['DDP_price_Triangle']\n"
     ]
    }
   ],
   "source": [
    "total_Triangle = total[['index','FCA_price_Triangle','FCA_spot_price_Triangle','DDP_price_Triangle','DDP_spot_price_Triangle']]\n",
    "total_Triangle['FCA_diff'] = total_Triangle['FCA_spot_price_Triangle'] - total_Triangle['FCA_price_Triangle']\n",
    "total_Triangle['DDP_diff'] = total_Triangle['DDP_spot_price_Triangle'] - total_Triangle['DDP_price_Triangle']\n",
    "\n",
    "print('При внедрении формулы для FCA за период удастся сэкономить: '+str(round(np.sum(total_Triangle['FCA_diff']),0))+' EUR')\n",
    "print('При внедрении формулы для DDP за период удастся сэкономить: '+str(round(np.sum(total_Triangle['DDP_diff']),0))+' EUR')"
   ]
  },
  {
   "cell_type": "code",
   "execution_count": 120,
   "metadata": {},
   "outputs": [
    {
     "name": "stdout",
     "output_type": "stream",
     "text": [
      "При внедрении формулы для FCA за период удастся сэкономить: 10306.0 у.е.\n",
      "При внедрении формулы для DDP за период удастся сэкономить: 10306.0 у.е.\n"
     ]
    },
    {
     "name": "stderr",
     "output_type": "stream",
     "text": [
      "C:\\Users\\mikha\\AppData\\Local\\Temp\\ipykernel_7644\\3931967721.py:2: SettingWithCopyWarning: \n",
      "A value is trying to be set on a copy of a slice from a DataFrame.\n",
      "Try using .loc[row_indexer,col_indexer] = value instead\n",
      "\n",
      "See the caveats in the documentation: https://pandas.pydata.org/pandas-docs/stable/user_guide/indexing.html#returning-a-view-versus-a-copy\n",
      "  total_Stone['FCA_diff'] = total_Stone['FCA_spot_price_Stone'] - total_Stone['FCA_price_Stone']\n",
      "C:\\Users\\mikha\\AppData\\Local\\Temp\\ipykernel_7644\\3931967721.py:3: SettingWithCopyWarning: \n",
      "A value is trying to be set on a copy of a slice from a DataFrame.\n",
      "Try using .loc[row_indexer,col_indexer] = value instead\n",
      "\n",
      "See the caveats in the documentation: https://pandas.pydata.org/pandas-docs/stable/user_guide/indexing.html#returning-a-view-versus-a-copy\n",
      "  total_Stone['DDP_diff'] = total_Stone['DDP_spot_price_Stone'] - total_Stone['DDP_price_Stone']\n"
     ]
    }
   ],
   "source": [
    "total_Stone = total[['index','FCA_price_Stone','FCA_spot_price_Stone','DDP_price_Stone','DDP_spot_price_Stone']]\n",
    "total_Stone['FCA_diff'] = total_Stone['FCA_spot_price_Stone'] - total_Stone['FCA_price_Stone']\n",
    "total_Stone['DDP_diff'] = total_Stone['DDP_spot_price_Stone'] - total_Stone['DDP_price_Stone']\n",
    "print('При внедрении формулы для FCA за период удастся сэкономить: '+str(round(np.sum(total_Stone['FCA_diff']),0))+' EUR')\n",
    "print('При внедрении формулы для DDP за период удастся сэкономить: '+str(round(np.sum(total_Stone['DDP_diff']),0))+' EUR')"
   ]
  },
  {
   "cell_type": "code",
   "execution_count": 121,
   "metadata": {},
   "outputs": [
    {
     "name": "stdout",
     "output_type": "stream",
     "text": [
      "При внедрении формулы для FCA за период удастся сэкономить: 3110.0 у.е.\n",
      "При внедрении формулы для DDP за период удастся сэкономить: 3110.0 у.е.\n"
     ]
    },
    {
     "name": "stderr",
     "output_type": "stream",
     "text": [
      "C:\\Users\\mikha\\AppData\\Local\\Temp\\ipykernel_7644\\3129012897.py:2: SettingWithCopyWarning: \n",
      "A value is trying to be set on a copy of a slice from a DataFrame.\n",
      "Try using .loc[row_indexer,col_indexer] = value instead\n",
      "\n",
      "See the caveats in the documentation: https://pandas.pydata.org/pandas-docs/stable/user_guide/indexing.html#returning-a-view-versus-a-copy\n",
      "  total_Poly['FCA_diff'] = total_Poly['FCA_spot_price_Poly'] - total_Poly['FCA_price_Poly']\n",
      "C:\\Users\\mikha\\AppData\\Local\\Temp\\ipykernel_7644\\3129012897.py:3: SettingWithCopyWarning: \n",
      "A value is trying to be set on a copy of a slice from a DataFrame.\n",
      "Try using .loc[row_indexer,col_indexer] = value instead\n",
      "\n",
      "See the caveats in the documentation: https://pandas.pydata.org/pandas-docs/stable/user_guide/indexing.html#returning-a-view-versus-a-copy\n",
      "  total_Poly['DDP_diff'] = total_Poly['DDP_spot_price_Poly'] - total_Poly['DDP_price_Poly']\n"
     ]
    }
   ],
   "source": [
    "total_Poly = total[['index','FCA_price_Poly','FCA_spot_price_Poly','DDP_price_Poly','DDP_spot_price_Poly']]\n",
    "total_Poly['FCA_diff'] = total_Poly['FCA_spot_price_Poly'] - total_Poly['FCA_price_Poly']\n",
    "total_Poly['DDP_diff'] = total_Poly['DDP_spot_price_Poly'] - total_Poly['DDP_price_Poly']\n",
    "print('При внедрении формулы для FCA за период удастся сэкономить: '+str(round(np.sum(total_Poly['FCA_diff']),0))+' EUR')\n",
    "print('При внедрении формулы для DDP за период удастся сэкономить: '+str(round(np.sum(total_Poly['DDP_diff']),0))+' EUR')"
   ]
  },
  {
   "cell_type": "code",
   "execution_count": 122,
   "metadata": {},
   "outputs": [],
   "source": [
    "# часть про всех клиентов разом\n",
    "\n",
    "\n",
    "total['FCA_for_all'] = total['FCA_price_Monty'] + total['FCA_price_Triangle'] + total['FCA_price_Stone'] + total['FCA_price_Poly']\n",
    "total['FCA_spot_for_all'] = total['FCA_spot_price_Monty'] + total['FCA_spot_price_Triangle'] + total['FCA_spot_price_Stone'] + total['FCA_spot_price_Poly']\n",
    "total['FCA_diff'] = total['FCA_spot_for_all'] - total['FCA_for_all']\n",
    "\n",
    "\n",
    "total['DDP_for_all'] = total['DDP_price_Monty'] + total['DDP_price_Triangle'] + total['DDP_price_Stone'] + total['DDP_price_Poly']\n",
    "total['DDP_spot_for_all'] = total['DDP_spot_price_Monty'] + total['DDP_spot_price_Triangle'] + total['DDP_spot_price_Stone'] + total['DDP_spot_price_Poly']\n",
    "total['DDP_diff'] = total['DDP_spot_for_all'] - total['DDP_for_all']\n",
    "\n",
    "prices_all = total[['index','FCA_for_all','FCA_spot_for_all','FCA_diff','DDP_for_all','DDP_spot_for_all','DDP_diff']]"
   ]
  },
  {
   "cell_type": "code",
   "execution_count": 123,
   "metadata": {},
   "outputs": [
    {
     "data": {
      "text/plain": [
       "<AxesSubplot:ylabel='FCA_for_all'>"
      ]
     },
     "execution_count": 123,
     "metadata": {},
     "output_type": "execute_result"
    },
    {
     "data": {
      "image/png": "[encoded data removed]",
      "text/plain": [
       "<Figure size 432x288 with 1 Axes>"
      ]
     },
     "metadata": {},
     "output_type": "display_data"
    }
   ],
   "source": [
    "# по всем контрагентам\n",
    "sns.lineplot(data = prices_all, x=prices_all.index, y = 'FCA_for_all')\n",
    "sns.lineplot(data = prices_all, x=prices_all.index, y = 'FCA_spot_for_all')\n"
   ]
  },
  {
   "cell_type": "code",
   "execution_count": 124,
   "metadata": {},
   "outputs": [
    {
     "data": {
      "text/plain": [
       "<AxesSubplot:ylabel='FCA_price_Monty'>"
      ]
     },
     "execution_count": 124,
     "metadata": {},
     "output_type": "execute_result"
    },
    {
     "data": {
      "image/png": "[encoded data removed]",
      "text/plain": [
       "<Figure size 432x288 with 1 Axes>"
      ]
     },
     "metadata": {},
     "output_type": "display_data"
    }
   ],
   "source": [
    "# по Monty\n",
    "sns.lineplot(data = total_monty, x=total_monty.index, y = 'FCA_price_Monty')\n",
    "sns.lineplot(data = total_monty, x=total_monty.index, y = 'FCA_spot_price_Monty')\n"
   ]
  },
  {
   "cell_type": "code",
   "execution_count": 125,
   "metadata": {},
   "outputs": [
    {
     "data": {
      "text/plain": [
       "<AxesSubplot:ylabel='FCA_price_Triangle'>"
      ]
     },
     "execution_count": 125,
     "metadata": {},
     "output_type": "execute_result"
    },
    {
     "data": {
      "image/png": "[encoded data removed]",
      "text/plain": [
       "<Figure size 432x288 with 1 Axes>"
      ]
     },
     "metadata": {},
     "output_type": "display_data"
    }
   ],
   "source": [
    "# по Triangle\n",
    "sns.lineplot(data = total_Triangle, x=total_Triangle.index, y = 'FCA_price_Triangle')\n",
    "sns.lineplot(data = total_Triangle, x=total_Triangle.index, y = 'FCA_spot_price_Triangle')\n"
   ]
  },
  {
   "cell_type": "code",
   "execution_count": 126,
   "metadata": {},
   "outputs": [
    {
     "data": {
      "text/plain": [
       "<AxesSubplot:ylabel='FCA_price_Poly'>"
      ]
     },
     "execution_count": 126,
     "metadata": {},
     "output_type": "execute_result"
    },
    {
     "data": {
      "image/png": "[encoded data removed]",
      "text/plain": [
       "<Figure size 432x288 with 1 Axes>"
      ]
     },
     "metadata": {},
     "output_type": "display_data"
    }
   ],
   "source": [
    "# по Poly\n",
    "sns.lineplot(data = total_Poly, x=total_Poly.index, y = 'FCA_price_Poly')\n",
    "sns.lineplot(data = total_Poly, x=total_Poly.index, y = 'FCA_spot_price_Poly')\n"
   ]
  },
  {
   "cell_type": "code",
   "execution_count": 127,
   "metadata": {},
   "outputs": [
    {
     "data": {
      "text/plain": [
       "<AxesSubplot:ylabel='FCA_price_Stone'>"
      ]
     },
     "execution_count": 127,
     "metadata": {},
     "output_type": "execute_result"
    },
    {
     "data": {
      "image/png": "[encoded data removed]",
      "text/plain": [
       "<Figure size 432x288 with 1 Axes>"
      ]
     },
     "metadata": {},
     "output_type": "display_data"
    }
   ],
   "source": [
    "# по Stone\n",
    "sns.lineplot(data = total_Stone, x=total_Stone.index, y = 'FCA_price_Stone')\n",
    "sns.lineplot(data = total_Stone, x=total_Stone.index, y = 'FCA_spot_price_Stone')"
   ]
  },
  {
   "cell_type": "code",
   "execution_count": 129,
   "metadata": {},
   "outputs": [],
   "source": [
    "# Создаём директорию и выгружаем\n",
    "\n",
    "os.mkdir(os.path.join(os.getcwd(),'Clients'))\n",
    "os.chdir(os.path.join(os.getcwd(),'Clients'))\n",
    "# В один файл на разных листах\n",
    "with pd.ExcelWriter('all_clients.xlsx') as writer:\n",
    "    total_monty.to_excel(writer, sheet_name='Monty')\n",
    "    total_Poly.to_excel(writer, sheet_name='Poly')\n",
    "    total_Stone.to_excel(writer, sheet_name='Stone')\n",
    "    total_Triangle.to_excel(writer, sheet_name='Triangle')\n",
    "# В разные файлы\n",
    "    total_monty.to_excel('Monty.xlsx', sheet_name ='Prices')\n",
    "    total_Poly.to_excel('Poly.xlsx', sheet_name ='Prices')\n",
    "    total_Stone.to_excel('Stone.xlsx', sheet_name ='Prices')\n",
    "    total_Triangle.to_excel('Triangle.xlsx', sheet_name ='Prices')\n",
    "    prices_all.to_excel('Prices for all.xlsx', sheet_name ='Prices')\n"
   ]
  },
  {
   "cell_type": "markdown",
   "metadata": {
    "pycharm": {
     "name": "#%% md\n"
    }
   },
   "source": [
    "# Задание 2. Продолжение"
   ]
  },
  {
   "cell_type": "markdown",
   "metadata": {
    "pycharm": {
     "name": "#%% md\n"
    }
   },
   "source": [
    "Клиенты согласились на ваше предложение. \n",
    "Вам нужно сделать написать скрипт, с помощью которого можно автоматом рассчитывать цены для всех клиентов одновременно. \n",
    "Важный момент: данные для расчета скрипт должен подтягивать сам.\n",
    "\n",
    "В результате должно быть 3 файла\n",
    "1. Ноутбук с расчетами и графиками (чтобы данные подтягивались туда)\n",
    "2. Скрипт, который делает расчет цены для клиента (чтобы данные подтягивались туда сами)"
   ]
  },
  {
   "cell_type": "code",
   "execution_count": null,
   "metadata": {
    "pycharm": {
     "name": "#%%\n"
    }
   },
   "outputs": [],
   "source": [
    "# "
   ]
  },
  {
   "cell_type": "markdown",
   "metadata": {
    "pycharm": {
     "name": "#%% md\n"
    }
   },
   "source": [
    "# Задание 3. Back to Russia\n",
    "\n",
    "К вам пришел новый клиент из России, он готов регулярно закупать синтетический каучук. Клиент готов забирать ВБП с завода самостоятельно.\n",
    "1. На основе тех данных, которые уже есть предложите цену новому клиенту. \n",
    "2. Подготовьте скрипт, который будет использовать курс публикуемый на <a href='http://www.cbr.ru/currency_base/dynamics/'> сайте ЦБ РФ</a> или из любого другого источника.\n"
   ]
  },
  {
   "cell_type": "code",
   "execution_count": null,
   "metadata": {},
   "outputs": [
    {
     "name": "stdout",
     "output_type": "stream",
     "text": [
      "[*********************100%***********************]  1 of 1 completed\n"
     ]
    }
   ],
   "source": [
    "## К данным по каучуку надо добавить курс RUB/EUR\n",
    "## Больше ничего не меняется\n",
    "\n",
    "rub_eur = yf.download('EURRUB=X').resample('M', kind = 'period').mean()\n",
    "rub_eur = rub_eur[['Close']]\n",
    "rub_eur = 1/(rub_eur)\n",
    "rub_eur.rename(columns = {'Close':'RUBEUR_Close'}, inplace = True)\n",
    "\n",
    "total_rub = pd.concat([raw_prices, rub_eur,myr_eur],axis = 1) \n",
    "total_rub.dropna(inplace = True) # Пропуски убираем -- данные по сырью менее глубокие, чем данные по курсам валют\n",
    "total_rub.reset_index(inplace = True) # Ещё сбрасываем индекс - с числовым работать проще, чем с периодами\n",
    "\n",
    "price_columns_rub = ['rm','us','RUBEUR_Close','MYREUR_Close'] # тот самый список-справочник\n",
    "\n",
    "for i in price_columns_rub:\n",
    "    lm(total_rub, i)\n",
    "    l3m(total_rub,i)"
   ]
  },
  {
   "cell_type": "code",
   "execution_count": null,
   "metadata": {
    "pycharm": {
     "name": "#%%\n"
    }
   },
   "outputs": [],
   "source": [
    "## Поскольку клиент не сообщил ни предпочтительный способ расчёта, ни объём заказа, \n",
    "## то оставим их входными параметрами в новой функции\n",
    "\n",
    "\n",
    "def calc_FCA_RUB(method, quantity, df):\n",
    "    df.dropna(inplace = True)\n",
    "    df.reset_index(inplace = True,drop = True)\n",
    "    for i in range(len(df)):\n",
    "        fca_price = 1\n",
    "        total_price = 1\n",
    "        if method == 'monthly':\n",
    "            fca_price = quantity*df.loc[i, 'lm_rm']*df.loc[i,'lm_MYREUR_Close']+PRODUCTION_COST\n",
    "            if quantity <= 100:\n",
    "                total_price = (1 - discounts.get('up to 100'))*fca_price\n",
    "            elif (quantity > 100) and (quantity <= 300):\n",
    "                total_price = (1 - discounts.get('up to 300'))*fca_price\n",
    "            else:\n",
    "                total_price = (1 - discounts.get('300 plus'))*fca_price\n",
    "        elif method == 'moving_average':\n",
    "            fca_price = quantity*df.loc[i, 'l3m_rm']*df.loc[i,'l3m_MYREUR_Close']+PRODUCTION_COST\n",
    "            if quantity <= 100:\n",
    "                total_price = (1 - discounts.get('up to 100'))*fca_price\n",
    "            elif (quantity > 100) and (quantity <= 300):\n",
    "                total_price = (1 - discounts.get('up to 300'))*fca_price\n",
    "            else:\n",
    "                total_price = (1 - discounts.get('300 plus'))*fca_price\n",
    "\n",
    "        df.loc[i,'FCA_price_RUS'] = total_price\n",
    "    \n",
    "    "
   ]
  },
  {
   "cell_type": "markdown",
   "metadata": {
    "pycharm": {
     "name": "#%% md\n"
    }
   },
   "source": [
    "# Задание 4. Check it"
   ]
  },
  {
   "cell_type": "markdown",
   "metadata": {
    "pycharm": {
     "name": "#%% md\n"
    }
   },
   "source": [
    "* Подумайте, как можно проверить корректность работы алгоритма? \n",
    "* Какие возможны ошибки?\n",
    "* Придумайте тесты для проверки возможных ошибок алгоритма\n",
    "* Интергрируйте их в свои скрипты в виде исключений\n"
   ]
  },
  {
   "cell_type": "code",
   "execution_count": null,
   "metadata": {
    "pycharm": {
     "name": "#%%\n"
    }
   },
   "outputs": [],
   "source": [
    "# "
   ]
  },
  {
   "cell_type": "markdown",
   "metadata": {
    "pycharm": {
     "name": "#%% md\n"
    }
   },
   "source": [
    "# Задание 5. Поделись с ближним"
   ]
  },
  {
   "cell_type": "markdown",
   "metadata": {
    "pycharm": {
     "name": "#%% md\n"
    }
   },
   "source": [
    "Вы решили пойти в отпуск на время вашего отсутствия вас будет заменять коллега. Он будет заниматься рассчетом цен для клиентов. Чтобы ему было проще вам нужно завернуть ваши скрипты в модуль, который будет запускать у себя коллега."
   ]
  },
  {
   "cell_type": "markdown",
   "metadata": {
    "pycharm": {
     "name": "#%% md\n"
    }
   },
   "source": [
    "* Создайте модуль, который можно запускать в ноутбуке подкладывая в ту же директорию\n",
    "* Хорошенько задокументируйте ВСЁ, но помните о PEP8"
   ]
  },
  {
   "cell_type": "code",
   "execution_count": null,
   "metadata": {
    "pycharm": {
     "name": "#%%\n"
    }
   },
   "outputs": [],
   "source": [
    "# import yourpackage"
   ]
  },
  {
   "cell_type": "markdown",
   "metadata": {
    "pycharm": {
     "name": "#%% md\n"
    }
   },
   "source": [
    "# Задание 6. Поделись пакетом"
   ]
  },
  {
   "cell_type": "markdown",
   "metadata": {
    "pycharm": {
     "name": "#%% md\n"
    }
   },
   "source": [
    "Ваши коллеги узнали, что вы быстро рассчитываете цены для формульных контрактов, и решили использовать такую же практику для своих продуктов и клиентов. Вам нужно создать пакет, чтобы его было проще устанавливать и использовать."
   ]
  },
  {
   "cell_type": "markdown",
   "metadata": {
    "pycharm": {
     "name": "#%% md\n"
    }
   },
   "source": [
    "* Создайте отдельный пакет, который можно устанавливать с помощью pip \n",
    "* В пакете должны быть реализованы функции для рассчета цен по формульным контрактам\n",
    "* Выложите пакет в репозиторий"
   ]
  },
  {
   "cell_type": "code",
   "execution_count": null,
   "metadata": {
    "pycharm": {
     "name": "#%%\n"
    }
   },
   "outputs": [],
   "source": [
    "# !pip install yourpackage\n",
    "# import yourpackage"
   ]
  }
 ],
 "metadata": {
  "kernelspec": {
   "display_name": "Python 3.8.2 64-bit",
   "language": "python",
   "name": "python3"
  },
  "language_info": {
   "codemirror_mode": {
    "name": "ipython",
    "version": 3
   },
   "file_extension": ".py",
   "mimetype": "text/x-python",
   "name": "python",
   "nbconvert_exporter": "python",
   "pygments_lexer": "ipython3",
   "version": "3.8.2"
  },
  "vscode": {
   "interpreter": {
    "hash": "1835615888dd5962b87b68afec97ab70ea34dcf06a519d9b229643f1246f266c"
   }
  }
 },
 "nbformat": 4,
 "nbformat_minor": 2
}
