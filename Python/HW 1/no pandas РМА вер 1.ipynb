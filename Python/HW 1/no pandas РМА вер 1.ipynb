{
 "cells": [
  {
   "cell_type": "code",
   "execution_count": 11,
   "metadata": {},
   "outputs": [],
   "source": [
    "import csv\n",
    "import sys\n",
    "import ctypes as ct # вот отсюда: https://stackoverflow.com/questions/15063936/csv-error-field-larger-than-field-limit-131072/18408911#18408911"
   ]
  },
  {
   "cell_type": "code",
   "execution_count": 12,
   "metadata": {},
   "outputs": [
    {
     "data": {
      "text/plain": [
       "2147483647"
      ]
     },
     "execution_count": 12,
     "metadata": {},
     "output_type": "execute_result"
    }
   ],
   "source": [
    "csv.field_size_limit(int(ct.c_ulong(-1).value // 2)) # увеличиваем лимит, т.к. иначе импорт падает с ошибкой"
   ]
  },
  {
   "cell_type": "code",
   "execution_count": 13,
   "metadata": {},
   "outputs": [],
   "source": [
    "# уточняем encoding, т.к. есть кириллица\n",
    "# путь до файла надо заменить на свой\n",
    "vacs = list(csv.DictReader(open(r'C:\\Users\\mikha\\Desktop\\Учёба DAS\\Python\\Занятие 1\\ДЗ 1\\Vacancy.csv', encoding='utf-8')))"
   ]
  },
  {
   "cell_type": "code",
   "execution_count": 14,
   "metadata": {},
   "outputs": [],
   "source": [
    "# посмотрим на пример элемента\n",
    "#vacs[0]"
   ]
  },
  {
   "cell_type": "code",
   "execution_count": 15,
   "metadata": {},
   "outputs": [
    {
     "data": {
      "text/plain": [
       "4002"
      ]
     },
     "execution_count": 15,
     "metadata": {},
     "output_type": "execute_result"
    }
   ],
   "source": [
    "# длина датасета в \"записях\" словарей - условных строках\n",
    "len(vacs)"
   ]
  },
  {
   "cell_type": "code",
   "execution_count": 16,
   "metadata": {},
   "outputs": [
    {
     "name": "stdout",
     "output_type": "stream",
     "text": [
      "102\n"
     ]
    }
   ],
   "source": [
    "## Сколько вакансий, которые вам нравятся?\n",
    "# Мне нравятся вакансии в Москве: поле vacdescription должно содержать что-то вроде like \"%Москв%\"\n",
    "# 102 вакансий\n",
    "pref_vacs = [row for row in vacs if ('Москв' in row['vacdescription'])]\n",
    "print(len(pref_vacs))\n"
   ]
  },
  {
   "cell_type": "code",
   "execution_count": 17,
   "metadata": {},
   "outputs": [
    {
     "name": "stdout",
     "output_type": "stream",
     "text": [
      "Вакансии были созданы в период c 2021-03-14 09:39:21.854462  по  2021-03-14 09:39:21.854462\n",
      "Вакансии были обновлены в период c 2021-03-14 09:39:21.854584  по  2021-03-14 09:39:21.854584\n"
     ]
    }
   ],
   "source": [
    "## За какие периоды эти вакансии?\n",
    "# Выгрузка по всем вакансиям, которые были созданы и обновлены 14.03.2021\n",
    "\n",
    "created_dates = [row['created_at'] for row in pref_vacs]\n",
    "updated_dates = [row['updated_at'] for row in pref_vacs]\n",
    "\n",
    "print('Вакансии были созданы в период c',min(created_dates),' по ',max(created_dates))\n",
    "print('Вакансии были обновлены в период c',min(updated_dates),' по ',max(updated_dates))"
   ]
  },
  {
   "cell_type": "code",
   "execution_count": 18,
   "metadata": {},
   "outputs": [
    {
     "name": "stdout",
     "output_type": "stream",
     "text": [
      "86\n"
     ]
    }
   ],
   "source": [
    "#### Сколько вакансий с такими позициями, на которых вы работаете?\n",
    "\n",
    "\"\"\"\n",
    "Моя позиция - Ведущий специалист. Упоминанием отдела/направления можно пренебречь, \n",
    "т.к. вакансия скорее про грейд, а не про специфическую деятельность.\n",
    "Но поскольку могут быть нюансы с регистром, первую букву можно пропустить.\n",
    "В итоге 86 совпадений\n",
    "\"\"\"\n",
    "\n",
    "my_vacs = [row for row in vacs if ('едущий специалист' in row['vactitle']) | ('едущий Специалист' in row['vactitle'])]\n",
    "print(len(my_vacs))"
   ]
  },
  {
   "cell_type": "code",
   "execution_count": 19,
   "metadata": {},
   "outputs": [
    {
     "name": "stdout",
     "output_type": "stream",
     "text": [
      "42\n"
     ]
    }
   ],
   "source": [
    "## Сколько вакансий для аналитика данных?\n",
    "# 42 совпадения. Варианты с \"Аналитик\"/\"Analyst\", т.к. могут быть системные/бизнес/финансовые/кредитные аналитики.\n",
    "# Это становится понятным из описания вакансии по многим признакам, искать запросом особой ценности нет.\n",
    "\n",
    "da_vacs = [row for row in vacs if \n",
    "           ('налитик данных' in row['vactitle']) |  \n",
    "           ('налитик Данных' in row['vactitle']) |\n",
    "            ('ata analyst' in row['vactitle']) |\n",
    "           ('ata Analyst' in row['vactitle'])\n",
    "          ]\n",
    "print(len(da_vacs))"
   ]
  },
  {
   "cell_type": "code",
   "execution_count": 20,
   "metadata": {},
   "outputs": [
    {
     "name": "stdout",
     "output_type": "stream",
     "text": [
      "23\n"
     ]
    }
   ],
   "source": [
    "## Сколько вакансий для аналитика данных с использованием Python?\n",
    "# Добавим условие, что Python должен быть в описании вакансии. Если требуются навыки, он 100% будет в описании, а не названии\n",
    "# 23 совпадений\n",
    "\n",
    "dap_vacs = [row for row in vacs if (\n",
    "           ('ython' in row['vacdescription']) & (\n",
    "           ('налитик данных' in row['vactitle']) |  \n",
    "           ('налитик Данных' in row['vactitle']) |\n",
    "            ('ata analyst' in row['vactitle']) |\n",
    "           ('ata Analyst' in row['vactitle'])\n",
    "           ))]\n",
    "print(len(dap_vacs))"
   ]
  }
 ],
 "metadata": {
  "kernelspec": {
   "display_name": "Python 3.8.2 64-bit",
   "language": "python",
   "name": "python3"
  },
  "language_info": {
   "codemirror_mode": {
    "name": "ipython",
    "version": 3
   },
   "file_extension": ".py",
   "mimetype": "text/x-python",
   "name": "python",
   "nbconvert_exporter": "python",
   "pygments_lexer": "ipython3",
   "version": "3.8.2"
  },
  "orig_nbformat": 4,
  "vscode": {
   "interpreter": {
    "hash": "1835615888dd5962b87b68afec97ab70ea34dcf06a519d9b229643f1246f266c"
   }
  }
 },
 "nbformat": 4,
 "nbformat_minor": 2
}
